{
 "cells": [
  {
   "cell_type": "markdown",
   "id": "f4d848d1-dd58-4b75-9662-377cb66b5be9",
   "metadata": {},
   "source": [
    "# Using CSP to analyze MTA data"
   ]
  },
  {
   "cell_type": "markdown",
   "id": "6906efcb-324a-4bc1-b910-6d8905c0adb0",
   "metadata": {},
   "source": [
    "The NYC Metropolitan Transportation Authority provides an [API for developers](https://api.mta.info), and we'll explore the MTA's realtime [GTFS-rt](https://developers.google.com/transit/gtfs-realtime) transportation data feed."
   ]
  },
  {
   "cell_type": "markdown",
   "id": "dacee7cb-d803-4eee-b135-c9ffd6ad2888",
   "metadata": {},
   "source": [
    "In order to deal with the GTFS-rt data, we'll use the [nyct-gtfs](https://pypi.org/project/nyct-gtfs/) library, available from PyPI through\n",
    "\n",
    "```\n",
    "pip install nyct-gtfs\n",
    "```"
   ]
  },
  {
   "cell_type": "markdown",
   "id": "dcc5655d-3c45-4f96-842e-bb5f1b7d2127",
   "metadata": {},
   "source": [
    "The MTA feed can be inspected as follows:"
   ]
  },
  {
   "cell_type": "code",
   "execution_count": 1,
   "id": "9409305a-a84a-493f-8eeb-9a7c1c2c81eb",
   "metadata": {},
   "outputs": [],
   "source": [
    "from nyct_gtfs import NYCTFeed\n",
    "\n",
    "# Load the realtime feed from the MTA site for lines 1-7 and S\n",
    "# (note that the api_key argument is required, but can be empty)\n",
    "feed = NYCTFeed(\"https://api-endpoint.mta.info/Dataservice/mtagtfsfeeds/nyct%2Fgtfs\", api_key=\"\")"
   ]
  },
  {
   "cell_type": "markdown",
   "id": "8b628b32-6483-4305-8bb7-5cc10f23ff79",
   "metadata": {},
   "source": [
    "> **Note:** There is a website with official documentation for the MTA API at https://new.mta.info/developers, including instructions on how to access the feed for other lines. However, you may not have access to this website depending on your geographical location. "
   ]
  },
  {
   "cell_type": "markdown",
   "id": "18e067c5-3f57-43a5-a744-a3bfa213c69b",
   "metadata": {},
   "source": [
    "Let's explore the data first. `feed` is a `nyct_gtfs.feed.NYCTFeed` instance, with the most important methods being the following:"
   ]
  },
  {
   "cell_type": "code",
   "execution_count": 2,
   "id": "349a3179-f49d-4be8-8f65-9599579695b8",
   "metadata": {},
   "outputs": [
    {
     "data": {
      "text/plain": [
       "\u001b[0;31mSignature:\u001b[0m \u001b[0mfeed\u001b[0m\u001b[0;34m.\u001b[0m\u001b[0mrefresh\u001b[0m\u001b[0;34m(\u001b[0m\u001b[0;34m)\u001b[0m\u001b[0;34m\u001b[0m\u001b[0;34m\u001b[0m\u001b[0m\n",
       "\u001b[0;31mDocstring:\u001b[0m Reload this object's feed information from the MTA API\n",
       "\u001b[0;31mFile:\u001b[0m      ~/micromamba/envs/csp/lib/python3.11/site-packages/nyct_gtfs/feed.py\n",
       "\u001b[0;31mType:\u001b[0m      method"
      ]
     },
     "metadata": {},
     "output_type": "display_data"
    }
   ],
   "source": [
    "feed.refresh?"
   ]
  },
  {
   "cell_type": "code",
   "execution_count": 3,
   "id": "4d2d4de5-2a72-4c68-9618-106bda47c005",
   "metadata": {},
   "outputs": [
    {
     "data": {
      "text/plain": [
       "\u001b[0;31mSignature:\u001b[0m\n",
       "\u001b[0mfeed\u001b[0m\u001b[0;34m.\u001b[0m\u001b[0mfilter_trips\u001b[0m\u001b[0;34m(\u001b[0m\u001b[0;34m\u001b[0m\n",
       "\u001b[0;34m\u001b[0m    \u001b[0mline_id\u001b[0m\u001b[0;34m=\u001b[0m\u001b[0;32mNone\u001b[0m\u001b[0;34m,\u001b[0m\u001b[0;34m\u001b[0m\n",
       "\u001b[0;34m\u001b[0m    \u001b[0mtravel_direction\u001b[0m\u001b[0;34m=\u001b[0m\u001b[0;32mNone\u001b[0m\u001b[0;34m,\u001b[0m\u001b[0;34m\u001b[0m\n",
       "\u001b[0;34m\u001b[0m    \u001b[0mtrain_assigned\u001b[0m\u001b[0;34m=\u001b[0m\u001b[0;32mNone\u001b[0m\u001b[0;34m,\u001b[0m\u001b[0;34m\u001b[0m\n",
       "\u001b[0;34m\u001b[0m    \u001b[0munderway\u001b[0m\u001b[0;34m=\u001b[0m\u001b[0;32mNone\u001b[0m\u001b[0;34m,\u001b[0m\u001b[0;34m\u001b[0m\n",
       "\u001b[0;34m\u001b[0m    \u001b[0mshape_id\u001b[0m\u001b[0;34m=\u001b[0m\u001b[0;32mNone\u001b[0m\u001b[0;34m,\u001b[0m\u001b[0;34m\u001b[0m\n",
       "\u001b[0;34m\u001b[0m    \u001b[0mheaded_for_stop_id\u001b[0m\u001b[0;34m=\u001b[0m\u001b[0;32mNone\u001b[0m\u001b[0;34m,\u001b[0m\u001b[0;34m\u001b[0m\n",
       "\u001b[0;34m\u001b[0m    \u001b[0mupdated_after\u001b[0m\u001b[0;34m=\u001b[0m\u001b[0;32mNone\u001b[0m\u001b[0;34m,\u001b[0m\u001b[0;34m\u001b[0m\n",
       "\u001b[0;34m\u001b[0m    \u001b[0mhas_delay_alert\u001b[0m\u001b[0;34m=\u001b[0m\u001b[0;32mNone\u001b[0m\u001b[0;34m,\u001b[0m\u001b[0;34m\u001b[0m\n",
       "\u001b[0;34m\u001b[0m\u001b[0;34m)\u001b[0m\u001b[0;34m\u001b[0m\u001b[0;34m\u001b[0m\u001b[0m\n",
       "\u001b[0;31mDocstring:\u001b[0m\n",
       "Get the list of subway trips from the GTFS-realtime feed, optionally filtering based on one or more parameters.\n",
       "\n",
       "If more than one filter is specified, only trips that match all filters will be returned.\n",
       "\n",
       ":param line_id: A line identifier str (or list of strs)  such as \"1\", \"A\", \"GS\", or \"FS\"\n",
       ":param travel_direction: A travel direction str, either \"N\" for North or \"S\" for South (see `Trip.direction`)\n",
       ":param train_assigned: A boolean that is True iff a train has been assigned to this trip\n",
       ":param underway: A boolean that is True iff a train has begun this trip\n",
       ":param shape_id: A str (or list of strs) representing the shape id (i.e. \"1..S03R\") (see `Trip.shape_id`)\n",
       ":param headed_for_stop_id: A str (or list of strs) representing a stop id(s) that this trip must be heading to\n",
       ":param updated_after: A datetime.datetime, trips whose most recent update is before this time are excluded\n",
       "                      (note, specifying this option always excludes trains not underway - since only trains\n",
       "                      that are underway provide position updates)\n",
       ":param has_delay_alert: A boolean that is True iff a train currently has a delay alert published\n",
       ":return: A list of `Trip` objects\n",
       "\u001b[0;31mFile:\u001b[0m      ~/micromamba/envs/csp/lib/python3.11/site-packages/nyct_gtfs/feed.py\n",
       "\u001b[0;31mType:\u001b[0m      method"
      ]
     },
     "metadata": {},
     "output_type": "display_data"
    }
   ],
   "source": [
    "feed.filter_trips?"
   ]
  },
  {
   "cell_type": "code",
   "execution_count": 4,
   "id": "9d89289d-ee10-4bee-a37d-0863fde7d1f9",
   "metadata": {},
   "outputs": [
    {
     "data": {
      "text/plain": [
       "\u001b[0;31mType:\u001b[0m        property\n",
       "\u001b[0;31mString form:\u001b[0m <property object at 0x7f1f48e11350>\n",
       "\u001b[0;31mDocstring:\u001b[0m   Get the list of subway trips from the GTFS-realtime feed. Returns a list of `Trip` objects"
      ]
     },
     "metadata": {},
     "output_type": "display_data"
    }
   ],
   "source": [
    "feed.trips?"
   ]
  },
  {
   "cell_type": "markdown",
   "id": "3bf0fe58-ced8-49a7-84bb-09b9abdb41ee",
   "metadata": {},
   "source": [
    "In our case, we will (for simplicity) filter the trips to collect information only about the 1, 2 and 3 trains, and we will start with trains going through 34 St-Penn Station (identified with stop IDs 128S or 128N):"
   ]
  },
  {
   "cell_type": "code",
   "execution_count": 5,
   "id": "429163be-6a02-4a14-b1f5-5f5016213af0",
   "metadata": {},
   "outputs": [
    {
     "data": {
      "text/plain": [
       "[{\"080550_1..S03R\", INCOMING_AT 128S @15:07:07},\n",
       " {\"081150_1..S03R\", STOPPED_AT 125S @15:07:02},\n",
       " {\"081750_1..S03R\", STOPPED_AT 121S @15:06:50},\n",
       " {\"082350_1..S03R\", IN_TRANSIT_TO 117S @15:07:10},\n",
       " {\"082950_1..S03R\", IN_TRANSIT_TO 114S @15:07:07},\n",
       " {\"083550_1..S03R\", IN_TRANSIT_TO 112S @15:07:08},\n",
       " {\"083750_1..N03R\", STOPPED_AT 133N @15:06:34},\n",
       " {\"084150_1..S03R\", STOPPED_AT 107S @15:06:50},\n",
       " {\"084350_1..N03R\", STOPPED_AT 138N @15:07:05},\n",
       " {\"080550_2..S01X013\", STOPPED_AT 120S @15:06:17},\n",
       " {\"081350_2..S10X008\", STOPPED_AT 127S @15:06:32},\n",
       " {\"081550_2..N01R\", IN_TRANSIT_TO 132N @15:07:08},\n",
       " {\"082150_2..S01X013\", STOPPED_AT 220S @15:06:22},\n",
       " {\"082350_2..N01R\", IN_TRANSIT_TO 230N @15:07:07},\n",
       " {\"082950_2..S10X008\", IN_TRANSIT_TO 224S @15:07:00},\n",
       " {\"083150_2..N01R\", INCOMING_AT 236N @15:07:03},\n",
       " {\"083750_2..S01X013\", STOPPED_AT 213S @15:06:07},\n",
       " {\"083950_2..N01R\", IN_TRANSIT_TO 241N @15:07:08},\n",
       " {\"084550_2..S10X008\", STOPPED_AT 214S @15:06:48},\n",
       " {\"080750_3..N01R\", STOPPED_AT 137N @15:06:41},\n",
       " {\"081550_3..N01R\", IN_TRANSIT_TO 234N @15:07:05},\n",
       " {\"082350_3..N01R\", IN_TRANSIT_TO 237N @15:06:52},\n",
       " {\"082950_3..S01R\", IN_TRANSIT_TO 127S @15:06:28},\n",
       " {\"083150_3..N01R\", STOPPED_AT 249N @15:06:58},\n",
       " {\"083750_3..S01R\", STOPPED_AT 227S @15:07:08},\n",
       " {\"083950_3..N01R\", IN_TRANSIT_TO 251N @15:07:08},\n",
       " {\"084550_3..S01R\", IN_TRANSIT_TO 302S @15:06:57}]"
      ]
     },
     "execution_count": 5,
     "metadata": {},
     "output_type": "execute_result"
    }
   ],
   "source": [
    "# This cell can be run multiple times, and data will be refreshed every 30s\n",
    "feed.refresh()\n",
    "trains = feed.filter_trips(underway=True, headed_for_stop_id=['128S', '128N'])\n",
    "trains"
   ]
  },
  {
   "cell_type": "markdown",
   "id": "e52dd161-b878-4d6f-b4a0-bda3a6f35967",
   "metadata": {},
   "source": [
    "We can also show this data in a human-readable way."
   ]
  },
  {
   "cell_type": "code",
   "execution_count": 6,
   "id": "071a82d9-9da6-484f-951c-2c0bbc26f0f6",
   "metadata": {
    "scrolled": true
   },
   "outputs": [
    {
     "name": "stdout",
     "output_type": "stream",
     "text": [
      "Southbound 1 to South Ferry, departed origin 13:25:30, Currently INCOMING_AT 34 St-Penn Station, last update at 15:07:07\n",
      "Southbound 1 to South Ferry, departed origin 13:31:30, Currently STOPPED_AT 59 St-Columbus Circle, last update at 15:07:02\n",
      "Southbound 1 to South Ferry, departed origin 13:37:30, Currently STOPPED_AT 86 St, last update at 15:06:50\n",
      "Southbound 1 to South Ferry, departed origin 13:43:30, Currently IN_TRANSIT_TO 116 St-Columbia University, last update at 15:07:10\n",
      "Southbound 1 to South Ferry, departed origin 13:49:30, Currently IN_TRANSIT_TO 145 St, last update at 15:07:07\n",
      "Southbound 1 to South Ferry, departed origin 13:55:30, Currently IN_TRANSIT_TO 168 St-Washington Hts, last update at 15:07:08\n",
      "Northbound 1 to Van Cortlandt Park-242 St, departed origin 13:57:30, Currently STOPPED_AT Christopher St-Sheridan Sq, last update at 15:06:34\n",
      "Southbound 1 to South Ferry, departed origin 14:01:30, Currently STOPPED_AT 215 St, last update at 15:06:50\n",
      "Northbound 1 to Van Cortlandt Park-242 St, departed origin 14:03:30, Currently STOPPED_AT WTC Cortlandt, last update at 15:07:05\n",
      "Southbound 2 to Flatbush Av-Brooklyn College, departed origin 13:25:30, Currently STOPPED_AT 96 St, last update at 15:06:17\n",
      "Southbound 2 to Flatbush Av-Brooklyn College, departed origin 13:33:30, Currently STOPPED_AT Times Sq-42 St, last update at 15:06:32\n",
      "Northbound 2 to Wakefield-241 St, departed origin 13:35:30, Currently IN_TRANSIT_TO 14 St, last update at 15:07:08\n",
      "Southbound 2 to Flatbush Av-Brooklyn College, departed origin 13:41:30, Currently STOPPED_AT Jackson Av, last update at 15:06:22\n",
      "Northbound 2 to Wakefield-241 St, departed origin 13:43:30, Currently IN_TRANSIT_TO Wall St, last update at 15:07:07\n",
      "Southbound 2 to Flatbush Av-Brooklyn College, departed origin 13:49:30, Currently IN_TRANSIT_TO 135 St, last update at 15:07:00\n",
      "Northbound 2 to Wakefield-241 St, departed origin 13:51:30, Currently INCOMING_AT Bergen St, last update at 15:07:03\n",
      "Southbound 2 to Flatbush Av-Brooklyn College, departed origin 13:57:30, Currently STOPPED_AT E 180 St, last update at 15:06:07\n",
      "Northbound 2 to Wakefield-241 St, departed origin 13:59:30, Currently IN_TRANSIT_TO President St-Medgar Evers College, last update at 15:07:08\n",
      "Southbound 2 to Flatbush Av-Brooklyn College, departed origin 14:05:30, Currently STOPPED_AT West Farms Sq-E Tremont Av, last update at 15:06:48\n",
      "Northbound 3 to Harlem-148 St, departed origin 13:27:30, Currently STOPPED_AT Chambers St, last update at 15:06:41\n",
      "Northbound 3 to Harlem-148 St, departed origin 13:35:30, Currently IN_TRANSIT_TO Nevins St, last update at 15:07:05\n",
      "Northbound 3 to Harlem-148 St, departed origin 13:43:30, Currently IN_TRANSIT_TO Grand Army Plaza, last update at 15:06:52\n",
      "Southbound 3 to New Lots Av, departed origin 13:49:30, Currently IN_TRANSIT_TO Times Sq-42 St, last update at 15:06:28\n",
      "Northbound 3 to Harlem-148 St, departed origin 13:51:30, Currently STOPPED_AT Kingston Av, last update at 15:06:58\n",
      "Southbound 3 to New Lots Av, departed origin 13:57:30, Currently STOPPED_AT Central Park North (110 St), last update at 15:07:08\n",
      "Northbound 3 to Harlem-148 St, departed origin 13:59:30, Currently IN_TRANSIT_TO Sutter Av-Rutland Rd, last update at 15:07:08\n",
      "Southbound 3 to New Lots Av, departed origin 14:05:30, Currently IN_TRANSIT_TO 145 St, last update at 15:06:57\n"
     ]
    }
   ],
   "source": [
    "for train in trains:\n",
    "    print(train)"
   ]
  },
  {
   "cell_type": "markdown",
   "id": "18cc16fa-686b-4b27-be0d-0015ab28ddcc",
   "metadata": {},
   "source": [
    "We can now check for the times when trains will pass through 34St-Penn Station."
   ]
  },
  {
   "cell_type": "code",
   "execution_count": 7,
   "id": "ace17da1-7c91-469f-9fab-6dd163516057",
   "metadata": {},
   "outputs": [
    {
     "name": "stdout",
     "output_type": "stream",
     "text": [
      "Station | Line | Direction | Arrival time\n",
      "34 St-Penn Station | 1 | South Ferry | 2024-05-24 15:08:16\n",
      "34 St-Penn Station | 1 | South Ferry | 2024-05-24 15:12:32\n",
      "34 St-Penn Station | 1 | South Ferry | 2024-05-24 15:17:50\n",
      "34 St-Penn Station | 1 | South Ferry | 2024-05-24 15:25:41\n",
      "34 St-Penn Station | 1 | South Ferry | 2024-05-24 15:31:40\n",
      "34 St-Penn Station | 1 | South Ferry | 2024-05-24 15:36:28\n",
      "34 St-Penn Station | 1 | Van Cortlandt Park-242 St | 2024-05-24 15:12:34\n",
      "34 St-Penn Station | 1 | South Ferry | 2024-05-24 15:43:20\n",
      "34 St-Penn Station | 1 | Van Cortlandt Park-242 St | 2024-05-24 15:19:35\n",
      "34 St-Penn Station | 2 | Flatbush Av-Brooklyn College | 2024-05-24 15:14:47\n",
      "34 St-Penn Station | 2 | Flatbush Av-Brooklyn College | 2024-05-24 15:08:02\n",
      "34 St-Penn Station | 2 | Wakefield-241 St | 2024-05-24 15:11:37\n",
      "34 St-Penn Station | 2 | Flatbush Av-Brooklyn College | 2024-05-24 15:34:22\n",
      "34 St-Penn Station | 2 | Wakefield-241 St | 2024-05-24 15:22:07\n",
      "34 St-Penn Station | 2 | Flatbush Av-Brooklyn College | 2024-05-24 15:26:55\n",
      "34 St-Penn Station | 2 | Wakefield-241 St | 2024-05-24 15:30:43\n",
      "34 St-Penn Station | 2 | Flatbush Av-Brooklyn College | 2024-05-24 15:46:37\n",
      "34 St-Penn Station | 2 | Wakefield-241 St | 2024-05-24 15:39:38\n",
      "34 St-Penn Station | 2 | Flatbush Av-Brooklyn College | 2024-05-24 15:44:48\n",
      "34 St-Penn Station | 3 | Harlem-148 St | 2024-05-24 15:14:11\n",
      "34 St-Penn Station | 3 | Harlem-148 St | 2024-05-24 15:28:22\n",
      "34 St-Penn Station | 3 | Harlem-148 St | 2024-05-24 15:32:51\n",
      "34 St-Penn Station | 3 | New Lots Av | 2024-05-24 15:10:38\n",
      "34 St-Penn Station | 3 | Harlem-148 St | 2024-05-24 15:39:28\n",
      "34 St-Penn Station | 3 | New Lots Av | 2024-05-24 15:20:08\n",
      "34 St-Penn Station | 3 | Harlem-148 St | 2024-05-24 15:44:45\n",
      "34 St-Penn Station | 3 | New Lots Av | 2024-05-24 15:27:57\n"
     ]
    }
   ],
   "source": [
    "trains_at_penn = []\n",
    "print(\"Station | Line | Direction | Arrival time\")\n",
    "for train in trains:\n",
    "    for update in train.stop_time_updates:\n",
    "        if update.stop_id in ['128S', '128N']:\n",
    "            print(f\"{update.stop_name} | {train.route_id} | {train.headsign_text} | {update.arrival}\")\n",
    "            trains_at_penn.append((train, update))"
   ]
  },
  {
   "cell_type": "markdown",
   "id": "8190647e-4d45-4ab5-930c-4c1696d8c125",
   "metadata": {},
   "source": [
    "---"
   ]
  },
  {
   "cell_type": "markdown",
   "id": "5931527f-a501-4ee1-a9a4-be9f7436e85a",
   "metadata": {},
   "source": [
    "## Using CSP to ingest and analyze the data"
   ]
  },
  {
   "attachments": {},
   "cell_type": "markdown",
   "id": "1bd20d3e-a594-4c6d-a56b-b352b09f11d3",
   "metadata": {},
   "source": [
    "When using CSP to ingest and analyze this data, we start with a graph representing the operations we want to perform. [CSP Graphs](https://github.com/Point72/csp/wiki/CSP-Graph) are composed of some number of \"input\" adapters, a set of connected calculation \"nodes\" and at the end sent off to \"output\" adapters. For simplicity, we'll build a graph that will show trains passing through 34 St-Penn Station.\n",
    "\n",
    "There are two types of [Input Adapters](https://github.com/Point72/csp/wiki/5.-Adapters): Historical (aka Simulated) adapters and Realtime Adapters. Historical adapters are used to feed in historical timeseries data into the graph. Realtime Adapters are used to feed in live event data, generally created from external sources on separate threads.\n",
    "\n",
    "As you may have guessed, in our case we need to use a [Realtime adapter](https://github.com/Point72/csp/wiki/Write-Realtime-Input-Adapters), which will ingest the data and periodically refresh it.\n",
    "\n",
    "In CSP terminology, a single adapter corresponds to a single timeseries edge in the graph. When writing realtime adapters, you will need to implement a \"push\" adapter, which will get data from a separate thread that drives external events and \"pushes\" them into the engine as they occur. For this, [we will need \"graph building time\" and \"runtime\" versions of your adapter](https://github.com/Point72/csp/wiki/Write-Realtime-Input-Adapters#pushinputadapter---python). \n",
    "\n",
    "> Once the graph is constructed, `csp.graph` code is no longer needed. Once the\n",
    "> graph is run, only inputs, `csp.nodes` and outputs will be active as data flows\n",
    "> through the graph, driven by input ticks.\n",
    "\n",
    "In our case, \"ticks\" correspond to feed refreshes, and we'll observe this data being updated every 30s. We will read 3 minutes of data for the purposes of this demonstration."
   ]
  },
  {
   "cell_type": "code",
   "execution_count": 8,
   "id": "f808ff5b-2735-4b58-bd29-054dabdc6620",
   "metadata": {},
   "outputs": [
    {
     "name": "stdout",
     "output_type": "stream",
     "text": [
      "Start of graph building\n",
      "End of graph building\n",
      "FetchTrainDataAdapter::start\n",
      "----------------------------------------------\n",
      "2024-05-24 18:07:27.096941: refreshing MTA feed\n",
      "----------------------------------------------\n",
      "                                     Station     | Line | Direction   | Arrival time\n",
      "2024-05-24 18:07:27.778076 :: 34 St-Penn Station |   1  | South Ferry | 2024-05-24 15:08:16\n",
      "2024-05-24 18:07:27.778252 :: 34 St-Penn Station |   1  | South Ferry | 2024-05-24 15:12:32\n",
      "2024-05-24 18:07:27.778281 :: 34 St-Penn Station |   1  | South Ferry | 2024-05-24 15:17:50\n",
      "2024-05-24 18:07:27.778300 :: 34 St-Penn Station |   1  | South Ferry | 2024-05-24 15:25:41\n",
      "2024-05-24 18:07:27.778318 :: 34 St-Penn Station |   1  | South Ferry | 2024-05-24 15:31:40\n",
      "2024-05-24 18:07:27.778335 :: 34 St-Penn Station |   1  | South Ferry | 2024-05-24 15:36:28\n",
      "2024-05-24 18:07:27.778351 :: 34 St-Penn Station |   1  | Van Cortlandt Park-242 St | 2024-05-24 15:12:34\n",
      "2024-05-24 18:07:27.778369 :: 34 St-Penn Station |   1  | South Ferry | 2024-05-24 15:43:20\n",
      "2024-05-24 18:07:27.778385 :: 34 St-Penn Station |   1  | Van Cortlandt Park-242 St | 2024-05-24 15:19:35\n",
      "2024-05-24 18:07:27.778400 :: 34 St-Penn Station |   2  | Flatbush Av-Brooklyn College | 2024-05-24 15:15:11\n",
      "2024-05-24 18:07:27.778475 :: 34 St-Penn Station |   2  | Flatbush Av-Brooklyn College | 2024-05-24 15:08:02\n",
      "2024-05-24 18:07:27.778534 :: 34 St-Penn Station |   2  | Wakefield-241 St | 2024-05-24 15:10:15\n",
      "2024-05-24 18:07:27.778550 :: 34 St-Penn Station |   2  | Flatbush Av-Brooklyn College | 2024-05-24 15:34:42\n",
      "2024-05-24 18:07:27.778624 :: 34 St-Penn Station |   2  | Wakefield-241 St | 2024-05-24 15:22:07\n",
      "2024-05-24 18:07:27.778639 :: 34 St-Penn Station |   2  | Flatbush Av-Brooklyn College | 2024-05-24 15:26:55\n",
      "2024-05-24 18:07:27.778702 :: 34 St-Penn Station |   2  | Wakefield-241 St | 2024-05-24 15:30:46\n",
      "2024-05-24 18:07:27.778717 :: 34 St-Penn Station |   2  | Flatbush Av-Brooklyn College | 2024-05-24 15:46:37\n",
      "2024-05-24 18:07:27.778792 :: 34 St-Penn Station |   2  | Wakefield-241 St | 2024-05-24 15:39:38\n",
      "2024-05-24 18:07:27.778806 :: 34 St-Penn Station |   2  | Flatbush Av-Brooklyn College | 2024-05-24 15:44:48\n",
      "2024-05-24 18:07:27.778882 :: 34 St-Penn Station |   3  | Harlem-148 St | 2024-05-24 15:14:11\n",
      "2024-05-24 18:07:27.778899 :: 34 St-Penn Station |   3  | Harlem-148 St | 2024-05-24 15:27:56\n",
      "2024-05-24 18:07:27.778914 :: 34 St-Penn Station |   3  | Harlem-148 St | 2024-05-24 15:32:51\n",
      "2024-05-24 18:07:27.778929 :: 34 St-Penn Station |   3  | New Lots Av | 2024-05-24 15:10:38\n",
      "2024-05-24 18:07:27.778944 :: 34 St-Penn Station |   3  | Harlem-148 St | 2024-05-24 15:39:28\n",
      "2024-05-24 18:07:27.778959 :: 34 St-Penn Station |   3  | New Lots Av | 2024-05-24 15:20:08\n",
      "2024-05-24 18:07:27.778975 :: 34 St-Penn Station |   3  | Harlem-148 St | 2024-05-24 15:44:45\n",
      "2024-05-24 18:07:27.778989 :: 34 St-Penn Station |   3  | New Lots Av | 2024-05-24 15:27:57\n",
      "----------------------------------------------\n",
      "2024-05-24 18:07:57.778281: refreshing MTA feed\n",
      "----------------------------------------------\n",
      "                                     Station     | Line | Direction   | Arrival time\n",
      "2024-05-24 18:07:58.647094 :: 34 St-Penn Station |   1  | South Ferry | 2024-05-24 15:07:52\n",
      "2024-05-24 18:07:58.647200 :: 34 St-Penn Station |   1  | South Ferry | 2024-05-24 15:12:32\n",
      "2024-05-24 18:07:58.647214 :: 34 St-Penn Station |   1  | South Ferry | 2024-05-24 15:17:59\n",
      "2024-05-24 18:07:58.647223 :: 34 St-Penn Station |   1  | South Ferry | 2024-05-24 15:24:53\n",
      "2024-05-24 18:07:58.647231 :: 34 St-Penn Station |   1  | South Ferry | 2024-05-24 15:31:21\n",
      "2024-05-24 18:07:58.647239 :: 34 St-Penn Station |   1  | South Ferry | 2024-05-24 15:36:28\n",
      "2024-05-24 18:07:58.647246 :: 34 St-Penn Station |   1  | Van Cortlandt Park-242 St | 2024-05-24 15:12:51\n",
      "2024-05-24 18:07:58.647255 :: 34 St-Penn Station |   1  | South Ferry | 2024-05-24 15:43:34\n",
      "2024-05-24 18:07:58.647262 :: 34 St-Penn Station |   1  | Van Cortlandt Park-242 St | 2024-05-24 15:19:35\n",
      "2024-05-24 18:07:58.647271 :: 34 St-Penn Station |   1  | South Ferry | 2024-05-24 15:49:40\n",
      "2024-05-24 18:07:58.647278 :: 34 St-Penn Station |   2  | Flatbush Av-Brooklyn College | 2024-05-24 15:15:11\n",
      "2024-05-24 18:07:58.647317 :: 34 St-Penn Station |   2  | Flatbush Av-Brooklyn College | 2024-05-24 15:08:40\n",
      "2024-05-24 18:07:58.647346 :: 34 St-Penn Station |   2  | Wakefield-241 St | 2024-05-24 15:10:15\n",
      "2024-05-24 18:07:58.647354 :: 34 St-Penn Station |   2  | Flatbush Av-Brooklyn College | 2024-05-24 15:34:40\n",
      "2024-05-24 18:07:58.647387 :: 34 St-Penn Station |   2  | Wakefield-241 St | 2024-05-24 15:22:07\n",
      "2024-05-24 18:07:58.647395 :: 34 St-Penn Station |   2  | Flatbush Av-Brooklyn College | 2024-05-24 15:27:18\n",
      "2024-05-24 18:07:58.647431 :: 34 St-Penn Station |   2  | Wakefield-241 St | 2024-05-24 15:30:46\n",
      "2024-05-24 18:07:58.647439 :: 34 St-Penn Station |   2  | Flatbush Av-Brooklyn College | 2024-05-24 15:47:31\n",
      "2024-05-24 18:07:58.647477 :: 34 St-Penn Station |   2  | Wakefield-241 St | 2024-05-24 15:39:38\n",
      "2024-05-24 18:07:58.647485 :: 34 St-Penn Station |   2  | Flatbush Av-Brooklyn College | 2024-05-24 15:45:10\n",
      "2024-05-24 18:07:58.647522 :: 34 St-Penn Station |   2  | Wakefield-241 St | 2024-05-24 15:49:00\n",
      "2024-05-24 18:07:58.647531 :: 34 St-Penn Station |   3  | Harlem-148 St | 2024-05-24 15:14:24\n",
      "2024-05-24 18:07:58.647539 :: 34 St-Penn Station |   3  | Harlem-148 St | 2024-05-24 15:27:51\n",
      "2024-05-24 18:07:58.647546 :: 34 St-Penn Station |   3  | Harlem-148 St | 2024-05-24 15:32:55\n",
      "2024-05-24 18:07:58.647554 :: 34 St-Penn Station |   3  | New Lots Av | 2024-05-24 15:10:57\n",
      "2024-05-24 18:07:58.647562 :: 34 St-Penn Station |   3  | Harlem-148 St | 2024-05-24 15:39:28\n",
      "2024-05-24 18:07:58.647569 :: 34 St-Penn Station |   3  | New Lots Av | 2024-05-24 15:20:08\n",
      "2024-05-24 18:07:58.647578 :: 34 St-Penn Station |   3  | Harlem-148 St | 2024-05-24 15:44:47\n",
      "2024-05-24 18:07:58.647585 :: 34 St-Penn Station |   3  | New Lots Av | 2024-05-24 15:27:18\n",
      "2024-05-24 18:07:58.647594 :: 34 St-Penn Station |   3  | Harlem-148 St | 2024-05-24 15:53:00\n",
      "----------------------------------------------\n",
      "2024-05-24 18:08:28.647156: refreshing MTA feed\n",
      "----------------------------------------------\n",
      "                                     Station     | Line | Direction   | Arrival time\n",
      "2024-05-24 18:08:29.286375 :: 34 St-Penn Station |   1  | South Ferry | 2024-05-24 15:12:53\n",
      "2024-05-24 18:08:29.286488 :: 34 St-Penn Station |   1  | South Ferry | 2024-05-24 15:18:06\n",
      "2024-05-24 18:08:29.286503 :: 34 St-Penn Station |   1  | South Ferry | 2024-05-24 15:24:48\n",
      "2024-05-24 18:08:29.286512 :: 34 St-Penn Station |   1  | South Ferry | 2024-05-24 15:31:19\n",
      "2024-05-24 18:08:29.286521 :: 34 St-Penn Station |   1  | South Ferry | 2024-05-24 15:35:43\n",
      "2024-05-24 18:08:29.286529 :: 34 St-Penn Station |   1  | Van Cortlandt Park-242 St | 2024-05-24 15:12:24\n",
      "2024-05-24 18:08:29.286539 :: 34 St-Penn Station |   1  | South Ferry | 2024-05-24 15:43:36\n",
      "2024-05-24 18:08:29.286547 :: 34 St-Penn Station |   1  | Van Cortlandt Park-242 St | 2024-05-24 15:19:58\n",
      "2024-05-24 18:08:29.286554 :: 34 St-Penn Station |   1  | South Ferry | 2024-05-24 15:49:13\n",
      "2024-05-24 18:08:29.286562 :: 34 St-Penn Station |   2  | Flatbush Av-Brooklyn College | 2024-05-24 15:15:28\n",
      "2024-05-24 18:08:29.286612 :: 34 St-Penn Station |   2  | Flatbush Av-Brooklyn College | 2024-05-24 15:08:54\n",
      "2024-05-24 18:08:29.286639 :: 34 St-Penn Station |   2  | Wakefield-241 St | 2024-05-24 15:10:30\n",
      "2024-05-24 18:08:29.286648 :: 34 St-Penn Station |   2  | Flatbush Av-Brooklyn College | 2024-05-24 15:34:09\n",
      "2024-05-24 18:08:29.286684 :: 34 St-Penn Station |   2  | Wakefield-241 St | 2024-05-24 15:22:07\n",
      "2024-05-24 18:08:29.286692 :: 34 St-Penn Station |   2  | Flatbush Av-Brooklyn College | 2024-05-24 15:27:18\n",
      "2024-05-24 18:08:29.286725 :: 34 St-Penn Station |   2  | Wakefield-241 St | 2024-05-24 15:30:46\n",
      "2024-05-24 18:08:29.286732 :: 34 St-Penn Station |   2  | Flatbush Av-Brooklyn College | 2024-05-24 15:47:32\n",
      "2024-05-24 18:08:29.286771 :: 34 St-Penn Station |   2  | Wakefield-241 St | 2024-05-24 15:39:21\n",
      "2024-05-24 18:08:29.286779 :: 34 St-Penn Station |   2  | Flatbush Av-Brooklyn College | 2024-05-24 15:45:10\n",
      "2024-05-24 18:08:29.286816 :: 34 St-Penn Station |   2  | Wakefield-241 St | 2024-05-24 15:48:36\n",
      "2024-05-24 18:08:29.286823 :: 34 St-Penn Station |   3  | Harlem-148 St | 2024-05-24 15:14:24\n",
      "2024-05-24 18:08:29.286831 :: 34 St-Penn Station |   3  | Harlem-148 St | 2024-05-24 15:27:51\n",
      "2024-05-24 18:08:29.286839 :: 34 St-Penn Station |   3  | Harlem-148 St | 2024-05-24 15:33:12\n",
      "2024-05-24 18:08:29.286846 :: 34 St-Penn Station |   3  | New Lots Av | 2024-05-24 15:10:57\n",
      "2024-05-24 18:08:29.286854 :: 34 St-Penn Station |   3  | Harlem-148 St | 2024-05-24 15:39:48\n",
      "2024-05-24 18:08:29.286862 :: 34 St-Penn Station |   3  | New Lots Av | 2024-05-24 15:20:23\n",
      "2024-05-24 18:08:29.286870 :: 34 St-Penn Station |   3  | Harlem-148 St | 2024-05-24 15:45:07\n",
      "2024-05-24 18:08:29.286877 :: 34 St-Penn Station |   3  | New Lots Av | 2024-05-24 15:27:23\n",
      "2024-05-24 18:08:29.286885 :: 34 St-Penn Station |   3  | Harlem-148 St | 2024-05-24 15:52:34\n",
      "----------------------------------------------\n",
      "2024-05-24 18:08:59.286449: refreshing MTA feed\n",
      "----------------------------------------------\n",
      "                                     Station     | Line | Direction   | Arrival time\n",
      "2024-05-24 18:08:59.959079 :: 34 St-Penn Station |   1  | South Ferry | 2024-05-24 15:12:11\n",
      "2024-05-24 18:08:59.959192 :: 34 St-Penn Station |   1  | South Ferry | 2024-05-24 15:18:06\n",
      "2024-05-24 18:08:59.959207 :: 34 St-Penn Station |   1  | South Ferry | 2024-05-24 15:25:06\n",
      "2024-05-24 18:08:59.959215 :: 34 St-Penn Station |   1  | South Ferry | 2024-05-24 15:31:36\n",
      "2024-05-24 18:08:59.959222 :: 34 St-Penn Station |   1  | South Ferry | 2024-05-24 15:35:43\n",
      "2024-05-24 18:08:59.959230 :: 34 St-Penn Station |   1  | Van Cortlandt Park-242 St | 2024-05-24 15:12:38\n",
      "2024-05-24 18:08:59.959238 :: 34 St-Penn Station |   1  | South Ferry | 2024-05-24 15:43:36\n",
      "2024-05-24 18:08:59.959246 :: 34 St-Penn Station |   1  | Van Cortlandt Park-242 St | 2024-05-24 15:20:01\n",
      "2024-05-24 18:08:59.959254 :: 34 St-Penn Station |   1  | South Ferry | 2024-05-24 15:49:13\n",
      "2024-05-24 18:08:59.959261 :: 34 St-Penn Station |   2  | Flatbush Av-Brooklyn College | 2024-05-24 15:15:41\n",
      "2024-05-24 18:08:59.959308 :: 34 St-Penn Station |   2  | Flatbush Av-Brooklyn College | 2024-05-24 15:08:47\n",
      "2024-05-24 18:08:59.959338 :: 34 St-Penn Station |   2  | Wakefield-241 St | 2024-05-24 15:10:30\n",
      "2024-05-24 18:08:59.959347 :: 34 St-Penn Station |   2  | Flatbush Av-Brooklyn College | 2024-05-24 15:34:09\n",
      "2024-05-24 18:08:59.959385 :: 34 St-Penn Station |   2  | Wakefield-241 St | 2024-05-24 15:22:07\n",
      "2024-05-24 18:08:59.959394 :: 34 St-Penn Station |   2  | Flatbush Av-Brooklyn College | 2024-05-24 15:26:05\n",
      "2024-05-24 18:08:59.959428 :: 34 St-Penn Station |   2  | Wakefield-241 St | 2024-05-24 15:31:31\n",
      "2024-05-24 18:08:59.959436 :: 34 St-Penn Station |   2  | Flatbush Av-Brooklyn College | 2024-05-24 15:47:22\n",
      "2024-05-24 18:08:59.959477 :: 34 St-Penn Station |   2  | Wakefield-241 St | 2024-05-24 15:39:21\n",
      "2024-05-24 18:08:59.959485 :: 34 St-Penn Station |   2  | Flatbush Av-Brooklyn College | 2024-05-24 15:44:35\n",
      "2024-05-24 18:08:59.959524 :: 34 St-Penn Station |   2  | Wakefield-241 St | 2024-05-24 15:48:02\n",
      "2024-05-24 18:08:59.959532 :: 34 St-Penn Station |   3  | Harlem-148 St | 2024-05-24 15:14:24\n",
      "2024-05-24 18:08:59.959542 :: 34 St-Penn Station |   3  | Harlem-148 St | 2024-05-24 15:28:22\n",
      "2024-05-24 18:08:59.959550 :: 34 St-Penn Station |   3  | Harlem-148 St | 2024-05-24 15:33:12\n",
      "2024-05-24 18:08:59.959558 :: 34 St-Penn Station |   3  | New Lots Av | 2024-05-24 15:10:23\n",
      "2024-05-24 18:08:59.959567 :: 34 St-Penn Station |   3  | Harlem-148 St | 2024-05-24 15:39:16\n",
      "2024-05-24 18:08:59.959575 :: 34 St-Penn Station |   3  | New Lots Av | 2024-05-24 15:20:23\n",
      "2024-05-24 18:08:59.959583 :: 34 St-Penn Station |   3  | Harlem-148 St | 2024-05-24 15:45:07\n",
      "2024-05-24 18:08:59.959591 :: 34 St-Penn Station |   3  | New Lots Av | 2024-05-24 15:27:23\n",
      "2024-05-24 18:08:59.959600 :: 34 St-Penn Station |   3  | Harlem-148 St | 2024-05-24 15:52:34\n",
      "----------------------------------------------\n",
      "2024-05-24 18:09:29.959290: refreshing MTA feed\n",
      "----------------------------------------------\n",
      "                                     Station     | Line | Direction   | Arrival time\n",
      "2024-05-24 18:09:30.823984 :: 34 St-Penn Station |   1  | South Ferry | 2024-05-24 15:12:11\n",
      "2024-05-24 18:09:30.824093 :: 34 St-Penn Station |   1  | South Ferry | 2024-05-24 15:18:22\n",
      "2024-05-24 18:09:30.824107 :: 34 St-Penn Station |   1  | South Ferry | 2024-05-24 15:25:06\n",
      "2024-05-24 18:09:30.824115 :: 34 St-Penn Station |   1  | South Ferry | 2024-05-24 15:31:30\n",
      "2024-05-24 18:09:30.824122 :: 34 St-Penn Station |   1  | South Ferry | 2024-05-24 15:35:43\n",
      "2024-05-24 18:09:30.824129 :: 34 St-Penn Station |   1  | Van Cortlandt Park-242 St | 2024-05-24 15:12:37\n",
      "2024-05-24 18:09:30.824141 :: 34 St-Penn Station |   1  | South Ferry | 2024-05-24 15:43:52\n",
      "2024-05-24 18:09:30.824149 :: 34 St-Penn Station |   1  | Van Cortlandt Park-242 St | 2024-05-24 15:20:01\n",
      "2024-05-24 18:09:30.824157 :: 34 St-Penn Station |   1  | South Ferry | 2024-05-24 15:49:26\n",
      "2024-05-24 18:09:30.824165 :: 34 St-Penn Station |   2  | Flatbush Av-Brooklyn College | 2024-05-24 15:14:27\n",
      "2024-05-24 18:09:30.824204 :: 34 St-Penn Station |   2  | Wakefield-241 St | 2024-05-24 15:10:30\n",
      "2024-05-24 18:09:30.824212 :: 34 St-Penn Station |   2  | Flatbush Av-Brooklyn College | 2024-05-24 15:34:46\n",
      "2024-05-24 18:09:30.824247 :: 34 St-Penn Station |   2  | Wakefield-241 St | 2024-05-24 15:22:07\n",
      "2024-05-24 18:09:30.824255 :: 34 St-Penn Station |   2  | Flatbush Av-Brooklyn College | 2024-05-24 15:26:05\n",
      "2024-05-24 18:09:30.824288 :: 34 St-Penn Station |   2  | Wakefield-241 St | 2024-05-24 15:31:00\n",
      "2024-05-24 18:09:30.824296 :: 34 St-Penn Station |   2  | Flatbush Av-Brooklyn College | 2024-05-24 15:47:24\n",
      "2024-05-24 18:09:30.824334 :: 34 St-Penn Station |   2  | Wakefield-241 St | 2024-05-24 15:39:47\n",
      "2024-05-24 18:09:30.824342 :: 34 St-Penn Station |   2  | Flatbush Av-Brooklyn College | 2024-05-24 15:44:35\n",
      "2024-05-24 18:09:30.824379 :: 34 St-Penn Station |   2  | Wakefield-241 St | 2024-05-24 15:48:02\n",
      "2024-05-24 18:09:30.824387 :: 34 St-Penn Station |   3  | Harlem-148 St | 2024-05-24 15:14:24\n",
      "2024-05-24 18:09:30.824394 :: 34 St-Penn Station |   3  | Harlem-148 St | 2024-05-24 15:27:59\n",
      "2024-05-24 18:09:30.824402 :: 34 St-Penn Station |   3  | Harlem-148 St | 2024-05-24 15:32:53\n",
      "2024-05-24 18:09:30.824410 :: 34 St-Penn Station |   3  | New Lots Av | 2024-05-24 15:10:21\n",
      "2024-05-24 18:09:30.824418 :: 34 St-Penn Station |   3  | Harlem-148 St | 2024-05-24 15:39:16\n",
      "2024-05-24 18:09:30.824426 :: 34 St-Penn Station |   3  | New Lots Av | 2024-05-24 15:20:23\n",
      "2024-05-24 18:09:30.824433 :: 34 St-Penn Station |   3  | Harlem-148 St | 2024-05-24 15:45:07\n",
      "2024-05-24 18:09:30.824441 :: 34 St-Penn Station |   3  | New Lots Av | 2024-05-24 15:28:13\n",
      "2024-05-24 18:09:30.824449 :: 34 St-Penn Station |   3  | Harlem-148 St | 2024-05-24 15:52:46\n",
      "----------------------------------------------\n",
      "2024-05-24 18:10:00.824145: refreshing MTA feed\n",
      "----------------------------------------------\n",
      "                                     Station     | Line | Direction   | Arrival time\n",
      "2024-05-24 18:10:01.691538 :: 34 St-Penn Station |   1  | South Ferry | 2024-05-24 15:12:26\n",
      "2024-05-24 18:10:01.691633 :: 34 St-Penn Station |   1  | South Ferry | 2024-05-24 15:18:10\n",
      "2024-05-24 18:10:01.691646 :: 34 St-Penn Station |   1  | South Ferry | 2024-05-24 15:25:06\n",
      "2024-05-24 18:10:01.691654 :: 34 St-Penn Station |   1  | South Ferry | 2024-05-24 15:30:50\n",
      "2024-05-24 18:10:01.691662 :: 34 St-Penn Station |   1  | South Ferry | 2024-05-24 15:35:43\n",
      "2024-05-24 18:10:01.691669 :: 34 St-Penn Station |   1  | Van Cortlandt Park-242 St | 2024-05-24 15:12:37\n",
      "2024-05-24 18:10:01.691677 :: 34 St-Penn Station |   1  | South Ferry | 2024-05-24 15:43:05\n",
      "2024-05-24 18:10:01.691685 :: 34 St-Penn Station |   1  | Van Cortlandt Park-242 St | 2024-05-24 15:20:39\n",
      "2024-05-24 18:10:01.691691 :: 34 St-Penn Station |   1  | South Ferry | 2024-05-24 15:49:11\n",
      "2024-05-24 18:10:01.691698 :: 34 St-Penn Station |   2  | Flatbush Av-Brooklyn College | 2024-05-24 15:14:27\n",
      "2024-05-24 18:10:01.691743 :: 34 St-Penn Station |   2  | Wakefield-241 St | 2024-05-24 15:10:05\n",
      "2024-05-24 18:10:01.691751 :: 34 St-Penn Station |   2  | Flatbush Av-Brooklyn College | 2024-05-24 15:34:46\n",
      "2024-05-24 18:10:01.691784 :: 34 St-Penn Station |   2  | Wakefield-241 St | 2024-05-24 15:21:45\n",
      "2024-05-24 18:10:01.691792 :: 34 St-Penn Station |   2  | Flatbush Av-Brooklyn College | 2024-05-24 15:26:36\n",
      "2024-05-24 18:10:01.691823 :: 34 St-Penn Station |   2  | Wakefield-241 St | 2024-05-24 15:31:00\n",
      "2024-05-24 18:10:01.691831 :: 34 St-Penn Station |   2  | Flatbush Av-Brooklyn College | 2024-05-24 15:47:24\n",
      "2024-05-24 18:10:01.691869 :: 34 St-Penn Station |   2  | Wakefield-241 St | 2024-05-24 15:39:47\n",
      "2024-05-24 18:10:01.691876 :: 34 St-Penn Station |   2  | Flatbush Av-Brooklyn College | 2024-05-24 15:44:52\n",
      "2024-05-24 18:10:01.691912 :: 34 St-Penn Station |   2  | Wakefield-241 St | 2024-05-24 15:48:25\n",
      "2024-05-24 18:10:01.691921 :: 34 St-Penn Station |   3  | Harlem-148 St | 2024-05-24 15:14:24\n",
      "2024-05-24 18:10:01.691929 :: 34 St-Penn Station |   3  | Harlem-148 St | 2024-05-24 15:27:59\n",
      "2024-05-24 18:10:01.691936 :: 34 St-Penn Station |   3  | Harlem-148 St | 2024-05-24 15:32:58\n",
      "2024-05-24 18:10:01.691944 :: 34 St-Penn Station |   3  | New Lots Av | 2024-05-24 15:10:42\n",
      "2024-05-24 18:10:01.691952 :: 34 St-Penn Station |   3  | Harlem-148 St | 2024-05-24 15:39:16\n",
      "2024-05-24 18:10:01.691959 :: 34 St-Penn Station |   3  | New Lots Av | 2024-05-24 15:20:23\n",
      "2024-05-24 18:10:01.691967 :: 34 St-Penn Station |   3  | Harlem-148 St | 2024-05-24 15:45:49\n",
      "2024-05-24 18:10:01.691974 :: 34 St-Penn Station |   3  | New Lots Av | 2024-05-24 15:28:13\n",
      "2024-05-24 18:10:01.691982 :: 34 St-Penn Station |   3  | Harlem-148 St | 2024-05-24 15:52:46\n",
      "FetchTrainDataAdapter::stop\n",
      "Done.\n"
     ]
    }
   ],
   "source": [
    "import csp\n",
    "from csp.impl.pushadapter import PushInputAdapter\n",
    "from csp.impl.wiring import py_push_adapter_def\n",
    "\n",
    "import nyct_gtfs\n",
    "\n",
    "import os\n",
    "import time\n",
    "import threading\n",
    "from datetime import datetime, timedelta\n",
    "\n",
    "\n",
    "class Event(csp.Struct):\n",
    "    train: nyct_gtfs.trip.Trip\n",
    "    update: nyct_gtfs.stop_time_update.StopTimeUpdate\n",
    "\n",
    "# Create a runtime implementation of the adapter\n",
    "class FetchTrainDataAdapter(PushInputAdapter):\n",
    "    def __init__(self, interval, stations):\n",
    "        self._interval = interval\n",
    "        self._thread = None\n",
    "        self._running = False\n",
    "        self._stations = stations\n",
    "\n",
    "    def start(self, starttime, endtime):\n",
    "        print(\"FetchTrainDataAdapter::start\")\n",
    "        self._running = True\n",
    "        self._thread = threading.Thread(target=self._run)\n",
    "        self._thread.start()\n",
    "\n",
    "    def stop(self):\n",
    "        print(\"FetchTrainDataAdapter::stop\")\n",
    "        if self._running:\n",
    "            self._running = False\n",
    "            self._thread.join()\n",
    "\n",
    "    def _run(self):\n",
    "        # This is where we will read and process the real-time data feed\n",
    "        feed = nyct_gtfs.NYCTFeed(\"https://api-endpoint.mta.info/Dataservice/mtagtfsfeeds/nyct%2Fgtfs\", api_key=\"\")\n",
    "\n",
    "        while self._running:\n",
    "            print(\"----------------------------------------------\")\n",
    "            print(f\"{datetime.utcnow()}: refreshing MTA feed\")\n",
    "            print(\"----------------------------------------------\")\n",
    "            print(\"                                     Station     | Line | Direction   | Arrival time\")\n",
    "            feed.refresh()\n",
    "            trains = feed.filter_trips(underway=True, headed_for_stop_id=self._stations)\n",
    "            # tick whenever feed is refreshed\n",
    "            for train in trains:\n",
    "                for update in train.stop_time_updates:\n",
    "                    if update.stop_id in self._stations:\n",
    "                        self.push_tick(Event(train=train, update=update))\n",
    "            time.sleep(self._interval.total_seconds())\n",
    "\n",
    "# Create the graph-time representation of our adapter\n",
    "FetchTrainData = py_push_adapter_def(\"FetchTrainData\", FetchTrainDataAdapter, csp.ts[Event], interval=timedelta, stations=list)\n",
    "\n",
    "@csp.node\n",
    "def pretty_print(train_data: csp.ts[Event]) -> csp.ts[str]:\n",
    "    message = f\" {train_data.update.stop_name} |   {train_data.train.route_id}  | {train_data.train.headsign_text} | {train_data.update.arrival}\"\n",
    "    return message\n",
    "\n",
    "@csp.graph\n",
    "def mta_graph():\n",
    "    print(\"Start of graph building\")\n",
    "    stations = ['128S', '128N']\n",
    "    trains_at_penn = FetchTrainData(timedelta(seconds=30), stations=stations)\n",
    "    # trains_at_penn is an edge that can be processed through a node\n",
    "    result = pretty_print(trains_at_penn)\n",
    "    csp.print(\":\", result)\n",
    "    print(\"End of graph building\")\n",
    "\n",
    "start = datetime.utcnow()\n",
    "end = start + timedelta(minutes=3)\n",
    "csp.run(mta_graph, starttime=start, realtime=True, endtime=end)\n",
    "print(\"Done.\")"
   ]
  },
  {
   "cell_type": "markdown",
   "id": "1a871048-7437-4827-871d-97976d7b93d1",
   "metadata": {},
   "source": [
    "---"
   ]
  },
  {
   "cell_type": "markdown",
   "id": "580d6aad-3797-42e9-a60c-85477a6b3839",
   "metadata": {},
   "source": [
    "### References\n",
    "\n",
    "* https://erikbern.com/2016/04/04/nyc-subway-math\n",
    "* https://erikbern.com/2016/07/09/waiting-time-math.html\n",
    "* https://pypi.org/project/nyct-gtfs/\n",
    "* https://api.mta.info/#/landing\n",
    "* https://developers.google.com/transit/gtfs-realtime\n",
    "* https://github.com/Point72/csp/blob/main/examples/4_writing_adapters/e_14_user_adapters_03_pushinput.py\n",
    "* https://github.com/Point72/csp/wiki/5.-Adapters#realtime-adapters"
   ]
  }
 ],
 "metadata": {
  "kernelspec": {
   "display_name": "Python 3 (ipykernel)",
   "language": "python",
   "name": "python3"
  },
  "language_info": {
   "codemirror_mode": {
    "name": "ipython",
    "version": 3
   },
   "file_extension": ".py",
   "mimetype": "text/x-python",
   "name": "python",
   "nbconvert_exporter": "python",
   "pygments_lexer": "ipython3",
   "version": "3.11.9"
  }
 },
 "nbformat": 4,
 "nbformat_minor": 5
}
