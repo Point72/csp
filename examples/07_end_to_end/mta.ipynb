{
 "cells": [
  {
   "cell_type": "markdown",
   "id": "f4d848d1-dd58-4b75-9662-377cb66b5be9",
   "metadata": {},
   "source": [
    "# Using CSP to analyze MTA data"
   ]
  },
  {
   "cell_type": "markdown",
   "id": "6906efcb-324a-4bc1-b910-6d8905c0adb0",
   "metadata": {},
   "source": [
    "The NYC Metropolitan Transportation Authority provides an [API for developers](https://api.mta.info), and we'll explore the MTA's realtime [GTFS-rt](https://developers.google.com/transit/gtfs-realtime) transportation data feed."
   ]
  },
  {
   "cell_type": "markdown",
   "id": "dacee7cb-d803-4eee-b135-c9ffd6ad2888",
   "metadata": {},
   "source": [
    "In order to deal with the GTFS-rt data, we'll use the [nyct-gtfs](https://pypi.org/project/nyct-gtfs/) library, available from PyPI through\n",
    "\n",
    "```\n",
    "pip install nyct-gtfs\n",
    "```"
   ]
  },
  {
   "cell_type": "markdown",
   "id": "dcc5655d-3c45-4f96-842e-bb5f1b7d2127",
   "metadata": {},
   "source": [
    "The MTA feed can be inspected as follows:"
   ]
  },
  {
   "cell_type": "code",
   "execution_count": 1,
   "id": "9409305a-a84a-493f-8eeb-9a7c1c2c81eb",
   "metadata": {},
   "outputs": [],
   "source": [
    "from nyct_gtfs import NYCTFeed\n",
    "\n",
    "# Load the realtime feed from the MTA site for lines 1-7 and S\n",
    "# (note that the api_key argument is required, but can be empty)\n",
    "feed = NYCTFeed(\"https://api-endpoint.mta.info/Dataservice/mtagtfsfeeds/nyct%2Fgtfs\", api_key=\"\")"
   ]
  },
  {
   "cell_type": "markdown",
   "id": "8b628b32-6483-4305-8bb7-5cc10f23ff79",
   "metadata": {},
   "source": [
    "> **Note:** There is a website with official documentation for the MTA API at https://new.mta.info/developers, including instructions on how to access the feed for other lines. However, you may not have access to this website depending on your geographical location. "
   ]
  },
  {
   "cell_type": "markdown",
   "id": "18e067c5-3f57-43a5-a744-a3bfa213c69b",
   "metadata": {},
   "source": [
    "Let's explore the data first. `feed` is a `nyct_gtfs.feed.NYCTFeed` instance, with the most important methods being the following:"
   ]
  },
  {
   "cell_type": "code",
   "execution_count": 2,
   "id": "349a3179-f49d-4be8-8f65-9599579695b8",
   "metadata": {},
   "outputs": [
    {
     "data": {
      "text/plain": [
       "\u001b[0;31mSignature:\u001b[0m \u001b[0mfeed\u001b[0m\u001b[0;34m.\u001b[0m\u001b[0mrefresh\u001b[0m\u001b[0;34m(\u001b[0m\u001b[0;34m)\u001b[0m\u001b[0;34m\u001b[0m\u001b[0;34m\u001b[0m\u001b[0m\n",
       "\u001b[0;31mDocstring:\u001b[0m Reload this object's feed information from the MTA API\n",
       "\u001b[0;31mFile:\u001b[0m      ~/micromamba/envs/csp-dev/lib/python3.11/site-packages/nyct_gtfs/feed.py\n",
       "\u001b[0;31mType:\u001b[0m      method"
      ]
     },
     "metadata": {},
     "output_type": "display_data"
    }
   ],
   "source": [
    "feed.refresh?"
   ]
  },
  {
   "cell_type": "code",
   "execution_count": 3,
   "id": "4d2d4de5-2a72-4c68-9618-106bda47c005",
   "metadata": {},
   "outputs": [
    {
     "data": {
      "text/plain": [
       "\u001b[0;31mSignature:\u001b[0m\n",
       "\u001b[0mfeed\u001b[0m\u001b[0;34m.\u001b[0m\u001b[0mfilter_trips\u001b[0m\u001b[0;34m(\u001b[0m\u001b[0;34m\u001b[0m\n",
       "\u001b[0;34m\u001b[0m    \u001b[0mline_id\u001b[0m\u001b[0;34m=\u001b[0m\u001b[0;32mNone\u001b[0m\u001b[0;34m,\u001b[0m\u001b[0;34m\u001b[0m\n",
       "\u001b[0;34m\u001b[0m    \u001b[0mtravel_direction\u001b[0m\u001b[0;34m=\u001b[0m\u001b[0;32mNone\u001b[0m\u001b[0;34m,\u001b[0m\u001b[0;34m\u001b[0m\n",
       "\u001b[0;34m\u001b[0m    \u001b[0mtrain_assigned\u001b[0m\u001b[0;34m=\u001b[0m\u001b[0;32mNone\u001b[0m\u001b[0;34m,\u001b[0m\u001b[0;34m\u001b[0m\n",
       "\u001b[0;34m\u001b[0m    \u001b[0munderway\u001b[0m\u001b[0;34m=\u001b[0m\u001b[0;32mNone\u001b[0m\u001b[0;34m,\u001b[0m\u001b[0;34m\u001b[0m\n",
       "\u001b[0;34m\u001b[0m    \u001b[0mshape_id\u001b[0m\u001b[0;34m=\u001b[0m\u001b[0;32mNone\u001b[0m\u001b[0;34m,\u001b[0m\u001b[0;34m\u001b[0m\n",
       "\u001b[0;34m\u001b[0m    \u001b[0mheaded_for_stop_id\u001b[0m\u001b[0;34m=\u001b[0m\u001b[0;32mNone\u001b[0m\u001b[0;34m,\u001b[0m\u001b[0;34m\u001b[0m\n",
       "\u001b[0;34m\u001b[0m    \u001b[0mupdated_after\u001b[0m\u001b[0;34m=\u001b[0m\u001b[0;32mNone\u001b[0m\u001b[0;34m,\u001b[0m\u001b[0;34m\u001b[0m\n",
       "\u001b[0;34m\u001b[0m    \u001b[0mhas_delay_alert\u001b[0m\u001b[0;34m=\u001b[0m\u001b[0;32mNone\u001b[0m\u001b[0;34m,\u001b[0m\u001b[0;34m\u001b[0m\n",
       "\u001b[0;34m\u001b[0m\u001b[0;34m)\u001b[0m\u001b[0;34m\u001b[0m\u001b[0;34m\u001b[0m\u001b[0m\n",
       "\u001b[0;31mDocstring:\u001b[0m\n",
       "Get the list of subway trips from the GTFS-realtime feed, optionally filtering based on one or more parameters.\n",
       "\n",
       "If more than one filter is specified, only trips that match all filters will be returned.\n",
       "\n",
       ":param line_id: A line identifier str (or list of strs)  such as \"1\", \"A\", \"GS\", or \"FS\"\n",
       ":param travel_direction: A travel direction str, either \"N\" for North or \"S\" for South (see `Trip.direction`)\n",
       ":param train_assigned: A boolean that is True iff a train has been assigned to this trip\n",
       ":param underway: A boolean that is True iff a train has begun this trip\n",
       ":param shape_id: A str (or list of strs) representing the shape id (i.e. \"1..S03R\") (see `Trip.shape_id`)\n",
       ":param headed_for_stop_id: A str (or list of strs) representing a stop id(s) that this trip must be heading to\n",
       ":param updated_after: A datetime.datetime, trips whose most recent update is before this time are excluded\n",
       "                      (note, specifying this option always excludes trains not underway - since only trains\n",
       "                      that are underway provide position updates)\n",
       ":param has_delay_alert: A boolean that is True iff a train currently has a delay alert published\n",
       ":return: A list of `Trip` objects\n",
       "\u001b[0;31mFile:\u001b[0m      ~/micromamba/envs/csp-dev/lib/python3.11/site-packages/nyct_gtfs/feed.py\n",
       "\u001b[0;31mType:\u001b[0m      method"
      ]
     },
     "metadata": {},
     "output_type": "display_data"
    }
   ],
   "source": [
    "feed.filter_trips?"
   ]
  },
  {
   "cell_type": "code",
   "execution_count": 4,
   "id": "9d89289d-ee10-4bee-a37d-0863fde7d1f9",
   "metadata": {},
   "outputs": [
    {
     "data": {
      "text/plain": [
       "\u001b[0;31mType:\u001b[0m        property\n",
       "\u001b[0;31mString form:\u001b[0m <property object at 0x7f86593f91c0>\n",
       "\u001b[0;31mDocstring:\u001b[0m   Get the list of subway trips from the GTFS-realtime feed. Returns a list of `Trip` objects"
      ]
     },
     "metadata": {},
     "output_type": "display_data"
    }
   ],
   "source": [
    "feed.trips?"
   ]
  },
  {
   "cell_type": "markdown",
   "id": "3bf0fe58-ced8-49a7-84bb-09b9abdb41ee",
   "metadata": {},
   "source": [
    "In our case, we will (for simplicity) filter the trips to collect information only about the 1, 2 and 3 trains, and we will start with trains going through 34 St-Penn Station (identified with stop IDs 128S or 128N):"
   ]
  },
  {
   "cell_type": "code",
   "execution_count": 5,
   "id": "429163be-6a02-4a14-b1f5-5f5016213af0",
   "metadata": {},
   "outputs": [
    {
     "data": {
      "text/plain": [
       "[{\"109300_1..S03R\", STOPPED_AT 127S @19:48:35},\n",
       " {\"110050_1..S03R\", IN_TRANSIT_TO 123S @19:50:01},\n",
       " {\"110450_1..S03R\", STOPPED_AT 120S @19:49:24},\n",
       " {\"110900_1..S03R\", IN_TRANSIT_TO 117S @19:49:52},\n",
       " {\"111150_1..S03R\", IN_TRANSIT_TO 116S @19:50:02},\n",
       " {\"111550_1..S03R\", IN_TRANSIT_TO 114S @19:49:52},\n",
       " {\"111800_1..N03R\", INCOMING_AT 130N @19:49:56},\n",
       " {\"112000_1..S03R\", STOPPED_AT 111S @19:50:01},\n",
       " {\"112200_1..N03R\", STOPPED_AT 134N @19:49:17},\n",
       " {\"112600_1..N03R\", STOPPED_AT 137N @19:49:43},\n",
       " {\"112700_1..S03R\", STOPPED_AT 106S @19:49:26},\n",
       " {\"112950_1..S03R\", INCOMING_AT 103S @19:49:51},\n",
       " {\"107900_2..S01R\", IN_TRANSIT_TO 123S @19:49:54},\n",
       " {\"108850_2..S01R\", IN_TRANSIT_TO 120S @19:49:58},\n",
       " {\"109300_2..N01R\", IN_TRANSIT_TO 132N @19:49:50},\n",
       " {\"109550_2..S01R\", STOPPED_AT 224S @19:49:49},\n",
       " {\"110000_2..N01R\", STOPPED_AT 231N @19:49:34},\n",
       " {\"110150_2..S01R\", INCOMING_AT 222S @19:49:54},\n",
       " {\"110400_2..N01R\", INCOMING_AT 232N @19:49:54},\n",
       " {\"110950_2..S01R\", STOPPED_AT 216S @19:49:29},\n",
       " {\"111000_2..N01R\", STOPPED_AT 236N @19:49:51},\n",
       " {\"111450_2..S01R\", IN_TRANSIT_TO 213S @19:49:58},\n",
       " {\"111800_2..N01R\", IN_TRANSIT_TO 241N @19:50:01},\n",
       " {\"112350_2..S01R\", STOPPED_AT 208S @19:49:37},\n",
       " {\"112700_2..N01R\", IN_TRANSIT_TO 245N @19:49:59},\n",
       " {\"109200_3..N01R\", STOPPED_AT 137N @19:49:56},\n",
       " {\"110000_3..N01R\", IN_TRANSIT_TO 233N @19:49:56},\n",
       " {\"110950_3..N01R\", STOPPED_AT 238N @19:49:41},\n",
       " {\"111150_3..S01R\", STOPPED_AT 127S @19:49:20},\n",
       " {\"111900_3..S01R\", IN_TRANSIT_TO 120S @19:49:58},\n",
       " {\"112550_3..N01R\", STOPPED_AT 254N @19:49:22},\n",
       " {\"113000_3..S01R\", IN_TRANSIT_TO 302S @19:49:52}]"
      ]
     },
     "execution_count": 5,
     "metadata": {},
     "output_type": "execute_result"
    }
   ],
   "source": [
    "# This cell can be run multiple times, and data will be refreshed every 30s\n",
    "feed.refresh()\n",
    "trains = feed.filter_trips(underway=True, headed_for_stop_id=['128S', '128N'])\n",
    "trains"
   ]
  },
  {
   "cell_type": "markdown",
   "id": "e52dd161-b878-4d6f-b4a0-bda3a6f35967",
   "metadata": {},
   "source": [
    "We can also show this data in a human-readable way."
   ]
  },
  {
   "cell_type": "code",
   "execution_count": 6,
   "id": "071a82d9-9da6-484f-951c-2c0bbc26f0f6",
   "metadata": {
    "scrolled": true
   },
   "outputs": [
    {
     "name": "stdout",
     "output_type": "stream",
     "text": [
      "Southbound 1 to South Ferry, departed origin 18:13:00, Currently STOPPED_AT Times Sq-42 St, last update at 19:48:35\n",
      "Southbound 1 to South Ferry, departed origin 18:20:30, Currently IN_TRANSIT_TO 72 St, last update at 19:50:01\n",
      "Southbound 1 to South Ferry, departed origin 18:24:30, Currently STOPPED_AT 96 St, last update at 19:49:24\n",
      "Southbound 1 to South Ferry, departed origin 18:29:00, Currently IN_TRANSIT_TO 116 St-Columbia University, last update at 19:49:52\n",
      "Southbound 1 to South Ferry, departed origin 18:31:30, Currently IN_TRANSIT_TO 125 St, last update at 19:50:02\n",
      "Southbound 1 to South Ferry, departed origin 18:35:30, Currently IN_TRANSIT_TO 145 St, last update at 19:49:52\n",
      "Northbound 1 to Van Cortlandt Park-242 St, departed origin 18:38:00, Currently INCOMING_AT 23 St, last update at 19:49:56\n",
      "Southbound 1 to South Ferry, departed origin 18:40:00, Currently STOPPED_AT 181 St, last update at 19:50:01\n",
      "Northbound 1 to Van Cortlandt Park-242 St, departed origin 18:42:00, Currently STOPPED_AT Houston St, last update at 19:49:17\n",
      "Northbound 1 to Van Cortlandt Park-242 St, departed origin 18:46:00, Currently STOPPED_AT Chambers St, last update at 19:49:43\n",
      "Southbound 1 to South Ferry, departed origin 18:47:00, Currently STOPPED_AT Marble Hill-225 St, last update at 19:49:26\n",
      "Southbound 1 to South Ferry, departed origin 18:49:30, Currently INCOMING_AT 238 St, last update at 19:49:51\n",
      "Southbound 2 to Flatbush Av-Brooklyn College, departed origin 17:59:00, Currently IN_TRANSIT_TO 72 St, last update at 19:49:54\n",
      "Southbound 2 to Flatbush Av-Brooklyn College, departed origin 18:08:30, Currently IN_TRANSIT_TO 96 St, last update at 19:49:58\n",
      "Northbound 2 to Wakefield-241 St, departed origin 18:13:00, Currently IN_TRANSIT_TO 14 St, last update at 19:49:50\n",
      "Southbound 2 to Flatbush Av-Brooklyn College, departed origin 18:15:30, Currently STOPPED_AT 135 St, last update at 19:49:49\n",
      "Northbound 2 to Wakefield-241 St, departed origin 18:20:00, Currently STOPPED_AT Clark St, last update at 19:49:34\n",
      "Southbound 2 to Flatbush Av-Brooklyn College, departed origin 18:21:30, Currently INCOMING_AT 149 St-Grand Concourse, last update at 19:49:54\n",
      "Northbound 2 to Wakefield-241 St, departed origin 18:24:00, Currently INCOMING_AT Borough Hall, last update at 19:49:54\n",
      "Southbound 2 to Flatbush Av-Brooklyn College, departed origin 18:29:30, Currently STOPPED_AT Freeman St, last update at 19:49:29\n",
      "Northbound 2 to Wakefield-241 St, departed origin 18:30:00, Currently STOPPED_AT Bergen St, last update at 19:49:51\n",
      "Southbound 2 to Flatbush Av-Brooklyn College, departed origin 18:34:30, Currently IN_TRANSIT_TO E 180 St, last update at 19:49:58\n",
      "Northbound 2 to Wakefield-241 St, departed origin 18:38:00, Currently IN_TRANSIT_TO President St-Medgar Evers College, last update at 19:50:01\n",
      "Southbound 2 to Flatbush Av-Brooklyn College, departed origin 18:43:30, Currently STOPPED_AT Gun Hill Rd, last update at 19:49:37\n",
      "Northbound 2 to Wakefield-241 St, departed origin 18:47:00, Currently IN_TRANSIT_TO Beverly Rd, last update at 19:49:59\n",
      "Northbound 3 to Harlem-148 St, departed origin 18:12:00, Currently STOPPED_AT Chambers St, last update at 19:49:56\n",
      "Northbound 3 to Harlem-148 St, departed origin 18:20:00, Currently IN_TRANSIT_TO Hoyt St, last update at 19:49:56\n",
      "Northbound 3 to Harlem-148 St, departed origin 18:29:30, Currently STOPPED_AT Eastern Pkwy-Brooklyn Museum, last update at 19:49:41\n",
      "Southbound 3 to New Lots Av, departed origin 18:31:30, Currently STOPPED_AT Times Sq-42 St, last update at 19:49:20\n",
      "Southbound 3 to New Lots Av, departed origin 18:39:00, Currently IN_TRANSIT_TO 96 St, last update at 19:49:58\n",
      "Northbound 3 to Harlem-148 St, departed origin 18:45:30, Currently STOPPED_AT Junius St, last update at 19:49:22\n",
      "Southbound 3 to New Lots Av, departed origin 18:50:00, Currently IN_TRANSIT_TO 145 St, last update at 19:49:52\n"
     ]
    }
   ],
   "source": [
    "for train in trains:\n",
    "    print(train)"
   ]
  },
  {
   "cell_type": "markdown",
   "id": "18cc16fa-686b-4b27-be0d-0015ab28ddcc",
   "metadata": {},
   "source": [
    "We can now check for the times when trains will pass through 34St-Penn Station."
   ]
  },
  {
   "cell_type": "code",
   "execution_count": 7,
   "id": "ace17da1-7c91-469f-9fab-6dd163516057",
   "metadata": {},
   "outputs": [
    {
     "name": "stdout",
     "output_type": "stream",
     "text": [
      "Station | Line | Direction | Arrival time\n",
      "34 St-Penn Station | 1 | South Ferry | 2024-05-21 19:50:35\n",
      "34 St-Penn Station | 1 | South Ferry | 2024-05-21 19:59:39\n",
      "34 St-Penn Station | 1 | South Ferry | 2024-05-21 20:02:54\n",
      "34 St-Penn Station | 1 | South Ferry | 2024-05-21 20:09:10\n",
      "34 St-Penn Station | 1 | South Ferry | 2024-05-21 20:10:54\n",
      "34 St-Penn Station | 1 | South Ferry | 2024-05-21 20:13:58\n",
      "34 St-Penn Station | 1 | Van Cortlandt Park-242 St | 2024-05-21 19:53:21\n",
      "34 St-Penn Station | 1 | South Ferry | 2024-05-21 20:18:31\n",
      "34 St-Penn Station | 1 | Van Cortlandt Park-242 St | 2024-05-21 19:57:17\n",
      "34 St-Penn Station | 1 | Van Cortlandt Park-242 St | 2024-05-21 20:01:13\n",
      "34 St-Penn Station | 1 | South Ferry | 2024-05-21 20:23:56\n",
      "34 St-Penn Station | 1 | South Ferry | 2024-05-21 20:28:00\n",
      "34 St-Penn Station | 2 | Flatbush Av-Brooklyn College | 2024-05-21 19:57:01\n",
      "34 St-Penn Station | 2 | Flatbush Av-Brooklyn College | 2024-05-21 20:01:37\n",
      "34 St-Penn Station | 2 | Wakefield-241 St | 2024-05-21 19:56:29\n",
      "34 St-Penn Station | 2 | Flatbush Av-Brooklyn College | 2024-05-21 20:07:19\n",
      "34 St-Penn Station | 2 | Wakefield-241 St | 2024-05-21 20:05:34\n",
      "34 St-Penn Station | 2 | Flatbush Av-Brooklyn College | 2024-05-21 20:12:15\n",
      "34 St-Penn Station | 2 | Wakefield-241 St | 2024-05-21 20:08:44\n",
      "34 St-Penn Station | 2 | Flatbush Av-Brooklyn College | 2024-05-21 20:20:59\n",
      "34 St-Penn Station | 2 | Wakefield-241 St | 2024-05-21 20:13:51\n",
      "34 St-Penn Station | 2 | Flatbush Av-Brooklyn College | 2024-05-21 20:27:54\n",
      "34 St-Penn Station | 2 | Wakefield-241 St | 2024-05-21 20:22:59\n",
      "34 St-Penn Station | 2 | Flatbush Av-Brooklyn College | 2024-05-21 20:36:37\n",
      "34 St-Penn Station | 2 | Wakefield-241 St | 2024-05-21 20:30:09\n",
      "34 St-Penn Station | 3 | Harlem-148 St | 2024-05-21 19:57:56\n",
      "34 St-Penn Station | 3 | Harlem-148 St | 2024-05-21 20:10:13\n",
      "34 St-Penn Station | 3 | Harlem-148 St | 2024-05-21 20:17:11\n",
      "34 St-Penn Station | 3 | New Lots Av | 2024-05-21 19:50:50\n",
      "34 St-Penn Station | 3 | New Lots Av | 2024-05-21 19:59:43\n",
      "34 St-Penn Station | 3 | Harlem-148 St | 2024-05-21 20:31:52\n",
      "34 St-Penn Station | 3 | New Lots Av | 2024-05-21 20:11:00\n"
     ]
    }
   ],
   "source": [
    "trains_at_penn = []\n",
    "print(\"Station | Line | Direction | Arrival time\")\n",
    "for train in trains:\n",
    "    for update in train.stop_time_updates:\n",
    "        if update.stop_id in ['128S', '128N']:\n",
    "            print(f\"{update.stop_name} | {train.route_id} | {train.headsign_text} | {update.arrival}\")\n",
    "            trains_at_penn.append((train, update))"
   ]
  },
  {
   "cell_type": "markdown",
   "id": "8190647e-4d45-4ab5-930c-4c1696d8c125",
   "metadata": {},
   "source": [
    "---"
   ]
  },
  {
   "cell_type": "markdown",
   "id": "5931527f-a501-4ee1-a9a4-be9f7436e85a",
   "metadata": {},
   "source": [
    "## Using CSP to ingest and analyze the data"
   ]
  },
  {
   "attachments": {},
   "cell_type": "markdown",
   "id": "1bd20d3e-a594-4c6d-a56b-b352b09f11d3",
   "metadata": {},
   "source": [
    "When using CSP to ingest and analyze this data, we start with a graph representing the operations we want to perform. [CSP Graphs](https://github.com/Point72/csp/wiki/CSP-Graph) are composed of some number of \"input\" adapters, a set of connected calculation \"nodes\" and at the end sent off to \"output\" adapters. For simplicity, we'll build a graph that will show trains passing through 34 St-Penn Station.\n",
    "\n",
    "There are two types of [Input Adapters](https://github.com/Point72/csp/wiki/5.-Adapters): Historical (aka Simulated) adapters and Realtime Adapters. Historical adapters are used to feed in historical timeseries data into the graph. Realtime Adapters are used to feed in live event data, generally created from external sources on separate threads.\n",
    "\n",
    "As you may have guessed, in our case we need to use a [Realtime adapter](https://github.com/Point72/csp/wiki/Write-Realtime-Input-Adapters), which will ingest the data and periodically refresh it.\n",
    "\n",
    "In CSP terminology, a single adapter corresponds to a single timeseries edge in the graph. When writing realtime adapters, you will need to implement a \"push\" adapter, which will get data from a separate thread that drives external events and \"pushes\" them into the engine as they occur. For this, [we will need \"graph building time\" and \"runtime\" versions of your adapter](https://github.com/Point72/csp/wiki/Write-Realtime-Input-Adapters#pushinputadapter---python). \n",
    "\n",
    "> Once the graph is constructed, `csp.graph` code is no longer needed. Once the\n",
    "> graph is run, only inputs, `csp.nodes` and outputs will be active as data flows\n",
    "> through the graph, driven by input ticks.\n",
    "\n",
    "In our case, \"ticks\" correspond to feed refreshes, and we'll observe this data being updated every 30s. We will read 3 minutes of data for the purposes of this demonstration."
   ]
  },
  {
   "cell_type": "code",
   "execution_count": 8,
   "id": "f808ff5b-2735-4b58-bd29-054dabdc6620",
   "metadata": {},
   "outputs": [
    {
     "name": "stdout",
     "output_type": "stream",
     "text": [
      "Start of graph building\n",
      "End of graph building\n",
      "FetchTrainDataAdapter::start\n",
      "----------------------------------------------\n",
      "2024-05-21 22:50:19.669352: refreshing MTA feed\n",
      "----------------------------------------------\n",
      "                                     Station     | Line | Direction   | Arrival time\n",
      "2024-05-21 22:50:20.632877 :: 34 St-Penn Station |   1  | South Ferry | 2024-05-21 19:51:39\n",
      "2024-05-21 22:50:20.633110 :: 34 St-Penn Station |   1  | South Ferry | 2024-05-21 19:59:39\n",
      "2024-05-21 22:50:20.633147 :: 34 St-Penn Station |   1  | South Ferry | 2024-05-21 20:03:13\n",
      "2024-05-21 22:50:20.633175 :: 34 St-Penn Station |   1  | South Ferry | 2024-05-21 20:09:10\n",
      "2024-05-21 22:50:20.633197 :: 34 St-Penn Station |   1  | South Ferry | 2024-05-21 20:10:54\n",
      "2024-05-21 22:50:20.633218 :: 34 St-Penn Station |   1  | South Ferry | 2024-05-21 20:13:58\n",
      "2024-05-21 22:50:20.633781 :: 34 St-Penn Station |   1  | Van Cortlandt Park-242 St | 2024-05-21 19:53:16\n",
      "2024-05-21 22:50:20.633864 :: 34 St-Penn Station |   1  | South Ferry | 2024-05-21 20:18:31\n",
      "2024-05-21 22:50:20.633890 :: 34 St-Penn Station |   1  | Van Cortlandt Park-242 St | 2024-05-21 19:57:40\n",
      "2024-05-21 22:50:20.633911 :: 34 St-Penn Station |   1  | Van Cortlandt Park-242 St | 2024-05-21 20:01:13\n",
      "2024-05-21 22:50:20.633928 :: 34 St-Penn Station |   1  | South Ferry | 2024-05-21 20:23:56\n",
      "2024-05-21 22:50:20.633947 :: 34 St-Penn Station |   1  | South Ferry | 2024-05-21 20:28:00\n",
      "2024-05-21 22:50:20.633964 :: 34 St-Penn Station |   2  | Flatbush Av-Brooklyn College | 2024-05-21 19:57:01\n",
      "2024-05-21 22:50:20.633982 :: 34 St-Penn Station |   2  | Flatbush Av-Brooklyn College | 2024-05-21 20:01:37\n",
      "2024-05-21 22:50:20.634001 :: 34 St-Penn Station |   2  | Wakefield-241 St | 2024-05-21 19:56:29\n",
      "2024-05-21 22:50:20.634020 :: 34 St-Penn Station |   2  | Flatbush Av-Brooklyn College | 2024-05-21 20:07:19\n",
      "2024-05-21 22:50:20.634040 :: 34 St-Penn Station |   2  | Wakefield-241 St | 2024-05-21 20:05:34\n",
      "2024-05-21 22:50:20.634066 :: 34 St-Penn Station |   2  | Flatbush Av-Brooklyn College | 2024-05-21 20:11:42\n",
      "2024-05-21 22:50:20.634085 :: 34 St-Penn Station |   2  | Wakefield-241 St | 2024-05-21 20:08:44\n",
      "2024-05-21 22:50:20.634103 :: 34 St-Penn Station |   2  | Flatbush Av-Brooklyn College | 2024-05-21 20:21:09\n",
      "2024-05-21 22:50:20.634120 :: 34 St-Penn Station |   2  | Wakefield-241 St | 2024-05-21 20:13:51\n",
      "2024-05-21 22:50:20.634138 :: 34 St-Penn Station |   2  | Flatbush Av-Brooklyn College | 2024-05-21 20:27:53\n",
      "2024-05-21 22:50:20.634156 :: 34 St-Penn Station |   2  | Wakefield-241 St | 2024-05-21 20:22:59\n",
      "2024-05-21 22:50:20.634174 :: 34 St-Penn Station |   2  | Flatbush Av-Brooklyn College | 2024-05-21 20:36:37\n",
      "2024-05-21 22:50:20.634191 :: 34 St-Penn Station |   2  | Wakefield-241 St | 2024-05-21 20:29:47\n",
      "2024-05-21 22:50:20.634209 :: 34 St-Penn Station |   3  | Harlem-148 St | 2024-05-21 19:57:56\n",
      "2024-05-21 22:50:20.634226 :: 34 St-Penn Station |   3  | Harlem-148 St | 2024-05-21 20:10:13\n",
      "2024-05-21 22:50:20.634244 :: 34 St-Penn Station |   3  | Harlem-148 St | 2024-05-21 20:17:11\n",
      "2024-05-21 22:50:20.634261 :: 34 St-Penn Station |   3  | New Lots Av | 2024-05-21 19:50:50\n",
      "2024-05-21 22:50:20.634279 :: 34 St-Penn Station |   3  | New Lots Av | 2024-05-21 19:59:43\n",
      "2024-05-21 22:50:20.634296 :: 34 St-Penn Station |   3  | Harlem-148 St | 2024-05-21 20:32:11\n",
      "2024-05-21 22:50:20.634313 :: 34 St-Penn Station |   3  | New Lots Av | 2024-05-21 20:11:00\n",
      "----------------------------------------------\n",
      "2024-05-21 22:50:50.633064: refreshing MTA feed\n",
      "----------------------------------------------\n",
      "                                     Station     | Line | Direction   | Arrival time\n",
      "2024-05-21 22:50:51.376573 :: 34 St-Penn Station |   1  | South Ferry | 2024-05-21 19:51:15\n",
      "2024-05-21 22:50:51.376973 :: 34 St-Penn Station |   1  | South Ferry | 2024-05-21 19:59:32\n",
      "2024-05-21 22:50:51.377015 :: 34 St-Penn Station |   1  | South Ferry | 2024-05-21 20:02:17\n",
      "2024-05-21 22:50:51.377033 :: 34 St-Penn Station |   1  | South Ferry | 2024-05-21 20:09:10\n",
      "2024-05-21 22:50:51.377046 :: 34 St-Penn Station |   1  | South Ferry | 2024-05-21 20:10:44\n",
      "2024-05-21 22:50:51.377059 :: 34 St-Penn Station |   1  | South Ferry | 2024-05-21 20:13:28\n",
      "2024-05-21 22:50:51.377071 :: 34 St-Penn Station |   1  | Van Cortlandt Park-242 St | 2024-05-21 19:53:17\n",
      "2024-05-21 22:50:51.377087 :: 34 St-Penn Station |   1  | South Ferry | 2024-05-21 20:18:45\n",
      "2024-05-21 22:50:51.377099 :: 34 St-Penn Station |   1  | Van Cortlandt Park-242 St | 2024-05-21 19:57:22\n",
      "2024-05-21 22:50:51.377112 :: 34 St-Penn Station |   1  | Van Cortlandt Park-242 St | 2024-05-21 20:01:13\n",
      "2024-05-21 22:50:51.377126 :: 34 St-Penn Station |   1  | South Ferry | 2024-05-21 20:24:40\n",
      "2024-05-21 22:50:51.377139 :: 34 St-Penn Station |   1  | South Ferry | 2024-05-21 20:28:03\n",
      "2024-05-21 22:50:51.377152 :: 34 St-Penn Station |   1  | Van Cortlandt Park-242 St | 2024-05-21 20:05:29\n",
      "2024-05-21 22:50:51.377166 :: 34 St-Penn Station |   2  | Flatbush Av-Brooklyn College | 2024-05-21 19:55:53\n",
      "2024-05-21 22:50:51.377180 :: 34 St-Penn Station |   2  | Flatbush Av-Brooklyn College | 2024-05-21 20:01:37\n",
      "2024-05-21 22:50:51.377192 :: 34 St-Penn Station |   2  | Wakefield-241 St | 2024-05-21 19:56:29\n",
      "2024-05-21 22:50:51.377205 :: 34 St-Penn Station |   2  | Flatbush Av-Brooklyn College | 2024-05-21 20:07:37\n",
      "2024-05-21 22:50:51.377219 :: 34 St-Penn Station |   2  | Wakefield-241 St | 2024-05-21 20:05:58\n",
      "2024-05-21 22:50:51.377232 :: 34 St-Penn Station |   2  | Flatbush Av-Brooklyn College | 2024-05-21 20:11:42\n",
      "2024-05-21 22:50:51.377244 :: 34 St-Penn Station |   2  | Wakefield-241 St | 2024-05-21 20:08:25\n",
      "2024-05-21 22:50:51.377259 :: 34 St-Penn Station |   2  | Flatbush Av-Brooklyn College | 2024-05-21 20:21:09\n",
      "2024-05-21 22:50:51.377272 :: 34 St-Penn Station |   2  | Wakefield-241 St | 2024-05-21 20:14:12\n",
      "2024-05-21 22:50:51.377284 :: 34 St-Penn Station |   2  | Flatbush Av-Brooklyn College | 2024-05-21 20:27:48\n",
      "2024-05-21 22:50:51.377303 :: 34 St-Penn Station |   2  | Wakefield-241 St | 2024-05-21 20:22:47\n",
      "2024-05-21 22:50:51.377317 :: 34 St-Penn Station |   2  | Flatbush Av-Brooklyn College | 2024-05-21 20:36:58\n",
      "2024-05-21 22:50:51.377330 :: 34 St-Penn Station |   2  | Wakefield-241 St | 2024-05-21 20:29:48\n",
      "2024-05-21 22:50:51.377343 :: 34 St-Penn Station |   3  | Harlem-148 St | 2024-05-21 19:58:13\n",
      "2024-05-21 22:50:51.377356 :: 34 St-Penn Station |   3  | Harlem-148 St | 2024-05-21 20:10:05\n",
      "2024-05-21 22:50:51.377369 :: 34 St-Penn Station |   3  | Harlem-148 St | 2024-05-21 20:17:32\n",
      "2024-05-21 22:50:51.377383 :: 34 St-Penn Station |   3  | New Lots Av | 2024-05-21 19:51:30\n",
      "2024-05-21 22:50:51.377396 :: 34 St-Penn Station |   3  | New Lots Av | 2024-05-21 19:58:50\n",
      "2024-05-21 22:50:51.377410 :: 34 St-Penn Station |   3  | Harlem-148 St | 2024-05-21 20:32:13\n",
      "2024-05-21 22:50:51.377423 :: 34 St-Penn Station |   3  | New Lots Av | 2024-05-21 20:10:22\n",
      "----------------------------------------------\n",
      "2024-05-21 22:51:21.376813: refreshing MTA feed\n",
      "----------------------------------------------\n",
      "                                     Station     | Line | Direction   | Arrival time\n",
      "2024-05-21 22:51:22.115264 :: 34 St-Penn Station |   1  | South Ferry | 2024-05-21 19:51:15\n",
      "2024-05-21 22:51:22.115430 :: 34 St-Penn Station |   1  | South Ferry | 2024-05-21 19:59:32\n",
      "2024-05-21 22:51:22.115455 :: 34 St-Penn Station |   1  | South Ferry | 2024-05-21 20:02:25\n",
      "2024-05-21 22:51:22.115470 :: 34 St-Penn Station |   1  | South Ferry | 2024-05-21 20:08:30\n",
      "2024-05-21 22:51:22.115485 :: 34 St-Penn Station |   1  | South Ferry | 2024-05-21 20:10:44\n",
      "2024-05-21 22:51:22.115499 :: 34 St-Penn Station |   1  | South Ferry | 2024-05-21 20:13:40\n",
      "2024-05-21 22:51:22.115512 :: 34 St-Penn Station |   1  | Van Cortlandt Park-242 St | 2024-05-21 19:53:31\n",
      "2024-05-21 22:51:22.115532 :: 34 St-Penn Station |   1  | South Ferry | 2024-05-21 20:18:45\n",
      "2024-05-21 22:51:22.115547 :: 34 St-Penn Station |   1  | Van Cortlandt Park-242 St | 2024-05-21 19:57:17\n",
      "2024-05-21 22:51:22.115562 :: 34 St-Penn Station |   1  | Van Cortlandt Park-242 St | 2024-05-21 20:01:51\n",
      "2024-05-21 22:51:22.115576 :: 34 St-Penn Station |   1  | South Ferry | 2024-05-21 20:24:40\n",
      "2024-05-21 22:51:22.115591 :: 34 St-Penn Station |   1  | South Ferry | 2024-05-21 20:28:13\n",
      "2024-05-21 22:51:22.115605 :: 34 St-Penn Station |   1  | Van Cortlandt Park-242 St | 2024-05-21 20:05:20\n",
      "2024-05-21 22:51:22.115619 :: 34 St-Penn Station |   2  | Flatbush Av-Brooklyn College | 2024-05-21 19:55:53\n",
      "2024-05-21 22:51:22.115634 :: 34 St-Penn Station |   2  | Flatbush Av-Brooklyn College | 2024-05-21 20:01:37\n",
      "2024-05-21 22:51:22.115647 :: 34 St-Penn Station |   2  | Wakefield-241 St | 2024-05-21 19:56:29\n",
      "2024-05-21 22:51:22.115661 :: 34 St-Penn Station |   2  | Flatbush Av-Brooklyn College | 2024-05-21 20:07:37\n",
      "2024-05-21 22:51:22.115674 :: 34 St-Penn Station |   2  | Wakefield-241 St | 2024-05-21 20:05:58\n",
      "2024-05-21 22:51:22.115688 :: 34 St-Penn Station |   2  | Flatbush Av-Brooklyn College | 2024-05-21 20:12:01\n",
      "2024-05-21 22:51:22.115702 :: 34 St-Penn Station |   2  | Wakefield-241 St | 2024-05-21 20:08:25\n",
      "2024-05-21 22:51:22.115716 :: 34 St-Penn Station |   2  | Flatbush Av-Brooklyn College | 2024-05-21 20:21:20\n",
      "2024-05-21 22:51:22.115731 :: 34 St-Penn Station |   2  | Wakefield-241 St | 2024-05-21 20:13:37\n",
      "2024-05-21 22:51:22.115745 :: 34 St-Penn Station |   2  | Flatbush Av-Brooklyn College | 2024-05-21 20:28:14\n",
      "2024-05-21 22:51:22.115764 :: 34 St-Penn Station |   2  | Wakefield-241 St | 2024-05-21 20:23:06\n",
      "2024-05-21 22:51:22.115778 :: 34 St-Penn Station |   2  | Flatbush Av-Brooklyn College | 2024-05-21 20:36:08\n",
      "2024-05-21 22:51:22.115791 :: 34 St-Penn Station |   2  | Wakefield-241 St | 2024-05-21 20:29:59\n",
      "2024-05-21 22:51:22.115805 :: 34 St-Penn Station |   2  | Flatbush Av-Brooklyn College | 2024-05-21 20:44:07\n",
      "2024-05-21 22:51:22.115818 :: 34 St-Penn Station |   3  | Harlem-148 St | 2024-05-21 19:58:13\n",
      "2024-05-21 22:51:22.115832 :: 34 St-Penn Station |   3  | Harlem-148 St | 2024-05-21 20:10:05\n",
      "2024-05-21 22:51:22.115847 :: 34 St-Penn Station |   3  | Harlem-148 St | 2024-05-21 20:17:32\n",
      "2024-05-21 22:51:22.115860 :: 34 St-Penn Station |   3  | New Lots Av | 2024-05-21 19:51:40\n",
      "2024-05-21 22:51:22.115875 :: 34 St-Penn Station |   3  | New Lots Av | 2024-05-21 19:59:11\n",
      "2024-05-21 22:51:22.115889 :: 34 St-Penn Station |   3  | Harlem-148 St | 2024-05-21 20:32:13\n",
      "2024-05-21 22:51:22.115904 :: 34 St-Penn Station |   3  | New Lots Av | 2024-05-21 20:10:33\n",
      "----------------------------------------------\n",
      "2024-05-21 22:51:52.115419: refreshing MTA feed\n",
      "----------------------------------------------\n",
      "                                     Station     | Line | Direction   | Arrival time\n",
      "2024-05-21 22:51:53.088382 :: 34 St-Penn Station |   1  | South Ferry | 2024-05-21 19:59:55\n",
      "2024-05-21 22:51:53.088551 :: 34 St-Penn Station |   1  | South Ferry | 2024-05-21 20:02:31\n",
      "2024-05-21 22:51:53.088574 :: 34 St-Penn Station |   1  | South Ferry | 2024-05-21 20:08:30\n",
      "2024-05-21 22:51:53.088590 :: 34 St-Penn Station |   1  | South Ferry | 2024-05-21 20:10:53\n",
      "2024-05-21 22:51:53.088604 :: 34 St-Penn Station |   1  | South Ferry | 2024-05-21 20:15:00\n",
      "2024-05-21 22:51:53.088618 :: 34 St-Penn Station |   1  | Van Cortlandt Park-242 St | 2024-05-21 19:53:23\n",
      "2024-05-21 22:51:53.088633 :: 34 St-Penn Station |   1  | South Ferry | 2024-05-21 20:18:45\n",
      "2024-05-21 22:51:53.088651 :: 34 St-Penn Station |   1  | Van Cortlandt Park-242 St | 2024-05-21 19:57:28\n",
      "2024-05-21 22:51:53.088666 :: 34 St-Penn Station |   1  | Van Cortlandt Park-242 St | 2024-05-21 20:01:46\n",
      "2024-05-21 22:51:53.088681 :: 34 St-Penn Station |   1  | South Ferry | 2024-05-21 20:24:30\n",
      "2024-05-21 22:51:53.088696 :: 34 St-Penn Station |   1  | South Ferry | 2024-05-21 20:28:13\n",
      "2024-05-21 22:51:53.088711 :: 34 St-Penn Station |   1  | Van Cortlandt Park-242 St | 2024-05-21 20:05:17\n",
      "2024-05-21 22:51:53.088725 :: 34 St-Penn Station |   2  | Flatbush Av-Brooklyn College | 2024-05-21 19:56:34\n",
      "2024-05-21 22:51:53.088742 :: 34 St-Penn Station |   2  | Flatbush Av-Brooklyn College | 2024-05-21 20:01:37\n",
      "2024-05-21 22:51:53.088756 :: 34 St-Penn Station |   2  | Wakefield-241 St | 2024-05-21 19:55:26\n",
      "2024-05-21 22:51:53.088772 :: 34 St-Penn Station |   2  | Flatbush Av-Brooklyn College | 2024-05-21 20:06:58\n",
      "2024-05-21 22:51:53.088789 :: 34 St-Penn Station |   2  | Wakefield-241 St | 2024-05-21 20:05:58\n",
      "2024-05-21 22:51:53.088810 :: 34 St-Penn Station |   2  | Flatbush Av-Brooklyn College | 2024-05-21 20:12:01\n",
      "2024-05-21 22:51:53.088824 :: 34 St-Penn Station |   2  | Wakefield-241 St | 2024-05-21 20:08:53\n",
      "2024-05-21 22:51:53.088838 :: 34 St-Penn Station |   2  | Flatbush Av-Brooklyn College | 2024-05-21 20:21:16\n",
      "2024-05-21 22:51:53.088852 :: 34 St-Penn Station |   2  | Wakefield-241 St | 2024-05-21 20:13:37\n",
      "2024-05-21 22:51:53.088866 :: 34 St-Penn Station |   2  | Flatbush Av-Brooklyn College | 2024-05-21 20:28:14\n",
      "2024-05-21 22:51:53.088884 :: 34 St-Penn Station |   2  | Wakefield-241 St | 2024-05-21 20:23:06\n",
      "2024-05-21 22:51:53.088899 :: 34 St-Penn Station |   2  | Flatbush Av-Brooklyn College | 2024-05-21 20:36:08\n",
      "2024-05-21 22:51:53.088914 :: 34 St-Penn Station |   2  | Wakefield-241 St | 2024-05-21 20:29:10\n",
      "2024-05-21 22:51:53.088930 :: 34 St-Penn Station |   2  | Flatbush Av-Brooklyn College | 2024-05-21 20:44:01\n",
      "2024-05-21 22:51:53.088945 :: 34 St-Penn Station |   3  | Harlem-148 St | 2024-05-21 19:58:13\n",
      "2024-05-21 22:51:53.088961 :: 34 St-Penn Station |   3  | Harlem-148 St | 2024-05-21 20:10:05\n",
      "2024-05-21 22:51:53.088975 :: 34 St-Penn Station |   3  | Harlem-148 St | 2024-05-21 20:17:33\n",
      "2024-05-21 22:51:53.088990 :: 34 St-Penn Station |   3  | New Lots Av | 2024-05-21 19:51:40\n",
      "2024-05-21 22:51:53.089005 :: 34 St-Penn Station |   3  | New Lots Av | 2024-05-21 19:59:11\n",
      "2024-05-21 22:51:53.089020 :: 34 St-Penn Station |   3  | Harlem-148 St | 2024-05-21 20:32:28\n",
      "2024-05-21 22:51:53.089035 :: 34 St-Penn Station |   3  | New Lots Av | 2024-05-21 20:10:33\n",
      "----------------------------------------------\n",
      "2024-05-21 22:52:23.088622: refreshing MTA feed\n",
      "----------------------------------------------\n",
      "                                     Station     | Line | Direction   | Arrival time\n",
      "2024-05-21 22:52:24.045593 :: 34 St-Penn Station |   1  | South Ferry | 2024-05-21 19:59:32\n",
      "2024-05-21 22:52:24.045804 :: 34 St-Penn Station |   1  | South Ferry | 2024-05-21 20:02:37\n",
      "2024-05-21 22:52:24.045855 :: 34 St-Penn Station |   1  | South Ferry | 2024-05-21 20:08:56\n",
      "2024-05-21 22:52:24.045897 :: 34 St-Penn Station |   1  | South Ferry | 2024-05-21 20:10:53\n",
      "2024-05-21 22:52:24.045940 :: 34 St-Penn Station |   1  | South Ferry | 2024-05-21 20:13:22\n",
      "2024-05-21 22:52:24.045983 :: 34 St-Penn Station |   1  | Van Cortlandt Park-242 St | 2024-05-21 19:53:23\n",
      "2024-05-21 22:52:24.046026 :: 34 St-Penn Station |   1  | South Ferry | 2024-05-21 20:18:29\n",
      "2024-05-21 22:52:24.046064 :: 34 St-Penn Station |   1  | Van Cortlandt Park-242 St | 2024-05-21 19:57:01\n",
      "2024-05-21 22:52:24.046109 :: 34 St-Penn Station |   1  | Van Cortlandt Park-242 St | 2024-05-21 20:01:57\n",
      "2024-05-21 22:52:24.046150 :: 34 St-Penn Station |   1  | South Ferry | 2024-05-21 20:24:41\n",
      "2024-05-21 22:52:24.046188 :: 34 St-Penn Station |   1  | South Ferry | 2024-05-21 20:27:55\n",
      "2024-05-21 22:52:24.046226 :: 34 St-Penn Station |   1  | Van Cortlandt Park-242 St | 2024-05-21 20:05:36\n",
      "2024-05-21 22:52:24.046264 :: 34 St-Penn Station |   2  | Flatbush Av-Brooklyn College | 2024-05-21 19:56:34\n",
      "2024-05-21 22:52:24.046305 :: 34 St-Penn Station |   2  | Flatbush Av-Brooklyn College | 2024-05-21 20:00:56\n",
      "2024-05-21 22:52:24.046346 :: 34 St-Penn Station |   2  | Wakefield-241 St | 2024-05-21 19:55:20\n",
      "2024-05-21 22:52:24.046386 :: 34 St-Penn Station |   2  | Flatbush Av-Brooklyn College | 2024-05-21 20:07:16\n",
      "2024-05-21 22:52:24.046425 :: 34 St-Penn Station |   2  | Wakefield-241 St | 2024-05-21 20:05:58\n",
      "2024-05-21 22:52:24.046466 :: 34 St-Penn Station |   2  | Flatbush Av-Brooklyn College | 2024-05-21 20:12:03\n",
      "2024-05-21 22:52:24.046506 :: 34 St-Penn Station |   2  | Wakefield-241 St | 2024-05-21 20:08:23\n",
      "2024-05-21 22:52:24.046545 :: 34 St-Penn Station |   2  | Flatbush Av-Brooklyn College | 2024-05-21 20:21:40\n",
      "2024-05-21 22:52:24.046601 :: 34 St-Penn Station |   2  | Wakefield-241 St | 2024-05-21 20:13:37\n",
      "2024-05-21 22:52:24.046644 :: 34 St-Penn Station |   2  | Flatbush Av-Brooklyn College | 2024-05-21 20:28:20\n",
      "2024-05-21 22:52:24.046683 :: 34 St-Penn Station |   2  | Wakefield-241 St | 2024-05-21 20:23:06\n",
      "2024-05-21 22:52:24.046722 :: 34 St-Penn Station |   2  | Flatbush Av-Brooklyn College | 2024-05-21 20:36:28\n",
      "2024-05-21 22:52:24.046760 :: 34 St-Penn Station |   2  | Wakefield-241 St | 2024-05-21 20:29:10\n",
      "2024-05-21 22:52:24.046799 :: 34 St-Penn Station |   2  | Flatbush Av-Brooklyn College | 2024-05-21 20:43:59\n",
      "2024-05-21 22:52:24.046837 :: 34 St-Penn Station |   3  | Harlem-148 St | 2024-05-21 19:58:13\n",
      "2024-05-21 22:52:24.046877 :: 34 St-Penn Station |   3  | Harlem-148 St | 2024-05-21 20:11:03\n",
      "2024-05-21 22:52:24.046915 :: 34 St-Penn Station |   3  | Harlem-148 St | 2024-05-21 20:17:33\n",
      "2024-05-21 22:52:24.046954 :: 34 St-Penn Station |   3  | New Lots Av | 2024-05-21 19:59:28\n",
      "2024-05-21 22:52:24.046993 :: 34 St-Penn Station |   3  | Harlem-148 St | 2024-05-21 20:31:35\n",
      "2024-05-21 22:52:24.047032 :: 34 St-Penn Station |   3  | New Lots Av | 2024-05-21 20:10:48\n",
      "2024-05-21 22:52:24.047071 :: 34 St-Penn Station |   3  | Harlem-148 St | 2024-05-21 20:38:14\n",
      "----------------------------------------------\n",
      "2024-05-21 22:52:54.045644: refreshing MTA feed\n",
      "----------------------------------------------\n",
      "                                     Station     | Line | Direction   | Arrival time\n",
      "2024-05-21 22:52:54.991646 :: 34 St-Penn Station |   1  | South Ferry | 2024-05-21 19:59:32\n",
      "2024-05-21 22:52:54.991787 :: 34 St-Penn Station |   1  | South Ferry | 2024-05-21 20:02:44\n",
      "2024-05-21 22:52:54.991809 :: 34 St-Penn Station |   1  | South Ferry | 2024-05-21 20:08:50\n",
      "2024-05-21 22:52:54.991825 :: 34 St-Penn Station |   1  | South Ferry | 2024-05-21 20:10:13\n",
      "2024-05-21 22:52:54.991852 :: 34 St-Penn Station |   1  | South Ferry | 2024-05-21 20:13:22\n",
      "2024-05-21 22:52:54.991867 :: 34 St-Penn Station |   1  | Van Cortlandt Park-242 St | 2024-05-21 19:53:22\n",
      "2024-05-21 22:52:54.991882 :: 34 St-Penn Station |   1  | South Ferry | 2024-05-21 20:18:41\n",
      "2024-05-21 22:52:54.991896 :: 34 St-Penn Station |   1  | Van Cortlandt Park-242 St | 2024-05-21 19:57:01\n",
      "2024-05-21 22:52:54.991910 :: 34 St-Penn Station |   1  | Van Cortlandt Park-242 St | 2024-05-21 20:01:53\n",
      "2024-05-21 22:52:54.991923 :: 34 St-Penn Station |   1  | South Ferry | 2024-05-21 20:24:44\n",
      "2024-05-21 22:52:54.991938 :: 34 St-Penn Station |   1  | South Ferry | 2024-05-21 20:28:04\n",
      "2024-05-21 22:52:54.991952 :: 34 St-Penn Station |   1  | Van Cortlandt Park-242 St | 2024-05-21 20:05:04\n",
      "2024-05-21 22:52:54.991967 :: 34 St-Penn Station |   2  | Flatbush Av-Brooklyn College | 2024-05-21 19:56:34\n",
      "2024-05-21 22:52:54.991981 :: 34 St-Penn Station |   2  | Flatbush Av-Brooklyn College | 2024-05-21 20:00:49\n",
      "2024-05-21 22:52:54.991996 :: 34 St-Penn Station |   2  | Wakefield-241 St | 2024-05-21 19:55:20\n",
      "2024-05-21 22:52:54.992010 :: 34 St-Penn Station |   2  | Flatbush Av-Brooklyn College | 2024-05-21 20:07:16\n",
      "2024-05-21 22:52:54.992023 :: 34 St-Penn Station |   2  | Wakefield-241 St | 2024-05-21 20:05:23\n",
      "2024-05-21 22:52:54.992037 :: 34 St-Penn Station |   2  | Flatbush Av-Brooklyn College | 2024-05-21 20:12:03\n",
      "2024-05-21 22:52:54.992051 :: 34 St-Penn Station |   2  | Wakefield-241 St | 2024-05-21 20:08:22\n",
      "2024-05-21 22:52:54.992065 :: 34 St-Penn Station |   2  | Flatbush Av-Brooklyn College | 2024-05-21 20:21:27\n",
      "2024-05-21 22:52:54.992080 :: 34 St-Penn Station |   2  | Wakefield-241 St | 2024-05-21 20:13:52\n",
      "2024-05-21 22:52:54.992095 :: 34 St-Penn Station |   2  | Flatbush Av-Brooklyn College | 2024-05-21 20:28:18\n",
      "2024-05-21 22:52:54.992109 :: 34 St-Penn Station |   2  | Wakefield-241 St | 2024-05-21 20:22:09\n",
      "2024-05-21 22:52:54.992124 :: 34 St-Penn Station |   2  | Flatbush Av-Brooklyn College | 2024-05-21 20:36:06\n",
      "2024-05-21 22:52:54.992138 :: 34 St-Penn Station |   2  | Wakefield-241 St | 2024-05-21 20:28:53\n",
      "2024-05-21 22:52:54.992151 :: 34 St-Penn Station |   2  | Flatbush Av-Brooklyn College | 2024-05-21 20:44:15\n",
      "2024-05-21 22:52:54.992165 :: 34 St-Penn Station |   2  | Wakefield-241 St | 2024-05-21 20:36:10\n",
      "2024-05-21 22:52:54.992180 :: 34 St-Penn Station |   3  | Harlem-148 St | 2024-05-21 19:58:13\n",
      "2024-05-21 22:52:54.992194 :: 34 St-Penn Station |   3  | Harlem-148 St | 2024-05-21 20:10:50\n",
      "2024-05-21 22:52:54.992209 :: 34 St-Penn Station |   3  | Harlem-148 St | 2024-05-21 20:17:52\n",
      "2024-05-21 22:52:54.992222 :: 34 St-Penn Station |   3  | New Lots Av | 2024-05-21 19:59:42\n",
      "2024-05-21 22:52:54.992236 :: 34 St-Penn Station |   3  | Harlem-148 St | 2024-05-21 20:31:35\n",
      "2024-05-21 22:52:54.992250 :: 34 St-Penn Station |   3  | New Lots Av | 2024-05-21 20:10:48\n",
      "2024-05-21 22:52:54.992265 :: 34 St-Penn Station |   3  | Harlem-148 St | 2024-05-21 20:37:40\n",
      "FetchTrainDataAdapter::stop\n",
      "Done.\n"
     ]
    }
   ],
   "source": [
    "import csp\n",
    "from csp.impl.pushadapter import PushInputAdapter\n",
    "from csp.impl.wiring import py_push_adapter_def\n",
    "\n",
    "import nyct_gtfs\n",
    "\n",
    "import os\n",
    "import time\n",
    "import threading\n",
    "from datetime import datetime, timedelta\n",
    "\n",
    "\n",
    "class Event(csp.Struct):\n",
    "    train: nyct_gtfs.trip.Trip\n",
    "    update: nyct_gtfs.stop_time_update.StopTimeUpdate\n",
    "\n",
    "# Create a runtime implementation of the adapter\n",
    "class FetchTrainDataAdapter(PushInputAdapter):\n",
    "    def __init__(self, interval, stations):\n",
    "        self._interval = interval\n",
    "        self._thread = None\n",
    "        self._running = False\n",
    "        self.stations = stations\n",
    "\n",
    "    def start(self, starttime, endtime):\n",
    "        print(\"FetchTrainDataAdapter::start\")\n",
    "        self._running = True\n",
    "        self._thread = threading.Thread(target=self._run)\n",
    "        self._thread.start()\n",
    "\n",
    "    def stop(self):\n",
    "        print(\"FetchTrainDataAdapter::stop\")\n",
    "        if self._running:\n",
    "            self._running = False\n",
    "            self._thread.join()\n",
    "\n",
    "    def _run(self):\n",
    "        # This is where we will read and process the real-time data feed\n",
    "        feed = nyct_gtfs.NYCTFeed(\"https://api-endpoint.mta.info/Dataservice/mtagtfsfeeds/nyct%2Fgtfs\", api_key=\"\")\n",
    "\n",
    "        while self._running:\n",
    "            print(\"----------------------------------------------\")\n",
    "            print(f\"{datetime.utcnow()}: refreshing MTA feed\")\n",
    "            print(\"----------------------------------------------\")\n",
    "            print(\"                                     Station     | Line | Direction   | Arrival time\")\n",
    "            feed.refresh()\n",
    "            trains = feed.filter_trips(underway=True, headed_for_stop_id=self.stations)\n",
    "            # tick whenever feed is refreshed\n",
    "            for train in trains:\n",
    "                for update in train.stop_time_updates:\n",
    "                    if update.stop_id in ['128S', '128N']:\n",
    "                        self.push_tick(Event(train=train, update=update))\n",
    "            time.sleep(self._interval.total_seconds())\n",
    "\n",
    "# Create the graph-time representation of our adapter\n",
    "FetchTrainData = py_push_adapter_def(\"FetchTrainData\", FetchTrainDataAdapter, csp.ts[Event], interval=timedelta, stations=list)\n",
    "\n",
    "@csp.node\n",
    "def pretty_print(train_data: csp.ts[Event], stations: list) -> csp.ts[str]:\n",
    "    if train_data.update.stop_id in stations:\n",
    "        message = f\" {train_data.update.stop_name} |   {train_data.train.route_id}  | {train_data.train.headsign_text} | {train_data.update.arrival}\"\n",
    "    return message\n",
    "\n",
    "@csp.graph\n",
    "def mta_graph():\n",
    "    print(\"Start of graph building\")\n",
    "    stations = ['128S', '128N']\n",
    "    trains_at_penn = FetchTrainData(timedelta(seconds=30), stations=stations)\n",
    "    # trains_at_penn is an edge that can be processed through a node\n",
    "    result = pretty_print(trains_at_penn, stations=stations)\n",
    "    csp.print(\":\", result)\n",
    "    print(\"End of graph building\")\n",
    "\n",
    "start = datetime.utcnow()\n",
    "end = start + timedelta(minutes=3)\n",
    "csp.run(mta_graph, starttime=start, realtime=True, endtime=end)\n",
    "print(\"Done.\")"
   ]
  },
  {
   "cell_type": "markdown",
   "id": "1a871048-7437-4827-871d-97976d7b93d1",
   "metadata": {},
   "source": [
    "---"
   ]
  },
  {
   "cell_type": "markdown",
   "id": "580d6aad-3797-42e9-a60c-85477a6b3839",
   "metadata": {},
   "source": [
    "### References\n",
    "\n",
    "* https://erikbern.com/2016/04/04/nyc-subway-math\n",
    "* https://erikbern.com/2016/07/09/waiting-time-math.html\n",
    "* https://pypi.org/project/nyct-gtfs/\n",
    "* https://api.mta.info/#/landing\n",
    "* https://developers.google.com/transit/gtfs-realtime\n",
    "* https://github.com/Point72/csp/blob/main/examples/4_writing_adapters/e_14_user_adapters_03_pushinput.py\n",
    "* https://github.com/Point72/csp/wiki/5.-Adapters#realtime-adapters"
   ]
  },
  {
   "cell_type": "code",
   "execution_count": null,
   "id": "5a7694b3-68e3-4d78-8fe6-a2fa025a0cd7",
   "metadata": {},
   "outputs": [],
   "source": []
  }
 ],
 "metadata": {
  "kernelspec": {
   "display_name": "Python 3 (ipykernel)",
   "language": "python",
   "name": "python3"
  },
  "language_info": {
   "codemirror_mode": {
    "name": "ipython",
    "version": 3
   },
   "file_extension": ".py",
   "mimetype": "text/x-python",
   "name": "python",
   "nbconvert_exporter": "python",
   "pygments_lexer": "ipython3",
   "version": "3.11.9"
  }
 },
 "nbformat": 4,
 "nbformat_minor": 5
}
