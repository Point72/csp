{
 "cells": [
  {
   "cell_type": "markdown",
   "id": "f4d848d1-dd58-4b75-9662-377cb66b5be9",
   "metadata": {},
   "source": [
    "# Using CSP to analyze MTA data"
   ]
  },
  {
   "cell_type": "markdown",
   "id": "6906efcb-324a-4bc1-b910-6d8905c0adb0",
   "metadata": {},
   "source": [
    "The NYC Metropolitan Transportation Authority provides [an API for developers](https://api.mta.info), and we'll explore the MTA's realtime [GTFS-rt](https://developers.google.com/transit/gtfs-realtime) transportation data feed."
   ]
  },
  {
   "cell_type": "markdown",
   "id": "dacee7cb-d803-4eee-b135-c9ffd6ad2888",
   "metadata": {},
   "source": [
    "In order to deal read and process the GTFS-rt data, we'll use the [nyct-gtfs](https://pypi.org/project/nyct-gtfs/) library, available from PyPI through\n",
    "\n",
    "```\n",
    "pip install nyct-gtfs\n",
    "```"
   ]
  },
  {
   "cell_type": "markdown",
   "id": "dcc5655d-3c45-4f96-842e-bb5f1b7d2127",
   "metadata": {},
   "source": [
    "The MTA feed can be inspected as follows:"
   ]
  },
  {
   "cell_type": "code",
   "execution_count": 2,
   "id": "9409305a-a84a-493f-8eeb-9a7c1c2c81eb",
   "metadata": {},
   "outputs": [],
   "source": [
    "from nyct_gtfs import NYCTFeed\n",
    "\n",
    "# Load the realtime feed from the MTA site\n",
    "feed = NYCTFeed(\"https://api-endpoint.mta.info/Dataservice/mtagtfsfeeds/nyct%2Fgtfs\", api_key=\"\")\n",
    "\n",
    "# feed_id must be a valid feed URL or one of: \n",
    "# '1', '2', '3', '4', '5', '6', '7',\n",
    "# 'S', 'GS', 'A', 'C', 'E', 'H',\n",
    "# 'FS', 'SF', 'SR',\n",
    "# 'B', 'D', 'F', 'M', 'G', 'J', 'Z', 'N', 'Q', 'R', 'W', 'L',\n",
    "# 'SI', 'SS', 'SIR'"
   ]
  },
  {
   "cell_type": "markdown",
   "id": "18e067c5-3f57-43a5-a744-a3bfa213c69b",
   "metadata": {},
   "source": [
    "Let's explore the data first. `feed` is a `nyct_gtfs.feed.NYCTFeed` instance, with the most important methods being the following:"
   ]
  },
  {
   "cell_type": "code",
   "execution_count": 3,
   "id": "349a3179-f49d-4be8-8f65-9599579695b8",
   "metadata": {},
   "outputs": [
    {
     "data": {
      "text/plain": [
       "\u001b[0;31mSignature:\u001b[0m \u001b[0mfeed\u001b[0m\u001b[0;34m.\u001b[0m\u001b[0mrefresh\u001b[0m\u001b[0;34m(\u001b[0m\u001b[0;34m)\u001b[0m\u001b[0;34m\u001b[0m\u001b[0;34m\u001b[0m\u001b[0m\n",
       "\u001b[0;31mDocstring:\u001b[0m Reload this object's feed information from the MTA API\n",
       "\u001b[0;31mFile:\u001b[0m      ~/micromamba/envs/csp-vanilla/lib/python3.11/site-packages/nyct_gtfs/feed.py\n",
       "\u001b[0;31mType:\u001b[0m      method"
      ]
     },
     "metadata": {},
     "output_type": "display_data"
    }
   ],
   "source": [
    "feed.refresh?"
   ]
  },
  {
   "cell_type": "code",
   "execution_count": 4,
   "id": "4d2d4de5-2a72-4c68-9618-106bda47c005",
   "metadata": {},
   "outputs": [
    {
     "data": {
      "text/plain": [
       "\u001b[0;31mSignature:\u001b[0m\n",
       "\u001b[0mfeed\u001b[0m\u001b[0;34m.\u001b[0m\u001b[0mfilter_trips\u001b[0m\u001b[0;34m(\u001b[0m\u001b[0;34m\u001b[0m\n",
       "\u001b[0;34m\u001b[0m    \u001b[0mline_id\u001b[0m\u001b[0;34m=\u001b[0m\u001b[0;32mNone\u001b[0m\u001b[0;34m,\u001b[0m\u001b[0;34m\u001b[0m\n",
       "\u001b[0;34m\u001b[0m    \u001b[0mtravel_direction\u001b[0m\u001b[0;34m=\u001b[0m\u001b[0;32mNone\u001b[0m\u001b[0;34m,\u001b[0m\u001b[0;34m\u001b[0m\n",
       "\u001b[0;34m\u001b[0m    \u001b[0mtrain_assigned\u001b[0m\u001b[0;34m=\u001b[0m\u001b[0;32mNone\u001b[0m\u001b[0;34m,\u001b[0m\u001b[0;34m\u001b[0m\n",
       "\u001b[0;34m\u001b[0m    \u001b[0munderway\u001b[0m\u001b[0;34m=\u001b[0m\u001b[0;32mNone\u001b[0m\u001b[0;34m,\u001b[0m\u001b[0;34m\u001b[0m\n",
       "\u001b[0;34m\u001b[0m    \u001b[0mshape_id\u001b[0m\u001b[0;34m=\u001b[0m\u001b[0;32mNone\u001b[0m\u001b[0;34m,\u001b[0m\u001b[0;34m\u001b[0m\n",
       "\u001b[0;34m\u001b[0m    \u001b[0mheaded_for_stop_id\u001b[0m\u001b[0;34m=\u001b[0m\u001b[0;32mNone\u001b[0m\u001b[0;34m,\u001b[0m\u001b[0;34m\u001b[0m\n",
       "\u001b[0;34m\u001b[0m    \u001b[0mupdated_after\u001b[0m\u001b[0;34m=\u001b[0m\u001b[0;32mNone\u001b[0m\u001b[0;34m,\u001b[0m\u001b[0;34m\u001b[0m\n",
       "\u001b[0;34m\u001b[0m    \u001b[0mhas_delay_alert\u001b[0m\u001b[0;34m=\u001b[0m\u001b[0;32mNone\u001b[0m\u001b[0;34m,\u001b[0m\u001b[0;34m\u001b[0m\n",
       "\u001b[0;34m\u001b[0m\u001b[0;34m)\u001b[0m\u001b[0;34m\u001b[0m\u001b[0;34m\u001b[0m\u001b[0m\n",
       "\u001b[0;31mDocstring:\u001b[0m\n",
       "Get the list of subway trips from the GTFS-realtime feed, optionally filtering based on one or more parameters.\n",
       "\n",
       "If more than one filter is specified, only trips that match all filters will be returned.\n",
       "\n",
       ":param line_id: A line identifier str (or list of strs)  such as \"1\", \"A\", \"GS\", or \"FS\"\n",
       ":param travel_direction: A travel direction str, either \"N\" for North or \"S\" for South (see `Trip.direction`)\n",
       ":param train_assigned: A boolean that is True iff a train has been assigned to this trip\n",
       ":param underway: A boolean that is True iff a train has begun this trip\n",
       ":param shape_id: A str (or list of strs) representing the shape id (i.e. \"1..S03R\") (see `Trip.shape_id`)\n",
       ":param headed_for_stop_id: A str (or list of strs) representing a stop id(s) that this trip must be heading to\n",
       ":param updated_after: A datetime.datetime, trips whose most recent update is before this time are excluded\n",
       "                      (note, specifying this option always excludes trains not underway - since only trains\n",
       "                      that are underway provide position updates)\n",
       ":param has_delay_alert: A boolean that is True iff a train currently has a delay alert published\n",
       ":return: A list of `Trip` objects\n",
       "\u001b[0;31mFile:\u001b[0m      ~/micromamba/envs/csp-vanilla/lib/python3.11/site-packages/nyct_gtfs/feed.py\n",
       "\u001b[0;31mType:\u001b[0m      method"
      ]
     },
     "metadata": {},
     "output_type": "display_data"
    }
   ],
   "source": [
    "feed.filter_trips?"
   ]
  },
  {
   "cell_type": "code",
   "execution_count": 5,
   "id": "9d89289d-ee10-4bee-a37d-0863fde7d1f9",
   "metadata": {},
   "outputs": [
    {
     "data": {
      "text/plain": [
       "\u001b[0;31mType:\u001b[0m        property\n",
       "\u001b[0;31mString form:\u001b[0m <property object at 0x7f37ac4d25c0>\n",
       "\u001b[0;31mDocstring:\u001b[0m   Get the list of subway trips from the GTFS-realtime feed. Returns a list of `Trip` objects"
      ]
     },
     "metadata": {},
     "output_type": "display_data"
    }
   ],
   "source": [
    "feed.trips?"
   ]
  },
  {
   "cell_type": "markdown",
   "id": "3bf0fe58-ced8-49a7-84bb-09b9abdb41ee",
   "metadata": {},
   "source": [
    "In our case, we will (for simplicity) filter the trips to collect information only about the 1, 2 and 3 trains, and we will start with trains going through 34 St-Penn Station."
   ]
  },
  {
   "cell_type": "code",
   "execution_count": 6,
   "id": "429163be-6a02-4a14-b1f5-5f5016213af0",
   "metadata": {},
   "outputs": [
    {
     "data": {
      "text/plain": [
       "[{\"069950_1..N03R\", STOPPED_AT 133N @12:52:08},\n",
       " {\"070550_1..N03R\", STOPPED_AT 137N @12:51:41},\n",
       " {\"071150_1..N03R\", IN_TRANSIT_TO 139N @12:52:23},\n",
       " {\"067150_2..N09R\", STOPPED_AT 128N @12:51:58},\n",
       " {\"067950_2..N01R\", IN_TRANSIT_TO 132N @12:52:26},\n",
       " {\"068750_2..N09R\", IN_TRANSIT_TO 230N @12:52:27},\n",
       " {\"069550_2..N01R\", STOPPED_AT 235N @12:52:05},\n",
       " {\"070350_2..N09R\", STOPPED_AT 241N @12:51:56},\n",
       " {\"071150_2..N01R\", IN_TRANSIT_TO 246N @12:52:22},\n",
       " {\"066500_3..N01R\", STOPPED_AT 132N @12:51:45},\n",
       " {\"067100_3..N01R\", STOPPED_AT 137N @12:51:58},\n",
       " {\"067900_3..N01R\", INCOMING_AT 230N @12:52:26},\n",
       " {\"068700_3..N01R\", IN_TRANSIT_TO 233N @12:52:22},\n",
       " {\"069500_3..N01R\", INCOMING_AT 239N @12:52:25},\n",
       " {\"070300_3..N01R\", STOPPED_AT 252N @12:51:38},\n",
       " {\"071150_3..N01R\", INCOMING_AT 256N @12:52:06}]"
      ]
     },
     "execution_count": 6,
     "metadata": {},
     "output_type": "execute_result"
    }
   ],
   "source": [
    "# This cell can be run multiple times, and data will be refreshed every 30s\n",
    "feed.refresh()\n",
    "trains = feed.filter_trips(underway=True, headed_for_stop_id=['128', '128N'])\n",
    "trains"
   ]
  },
  {
   "cell_type": "markdown",
   "id": "e52dd161-b878-4d6f-b4a0-bda3a6f35967",
   "metadata": {},
   "source": [
    "We can also show this data in a human-readable way."
   ]
  },
  {
   "cell_type": "code",
   "execution_count": 7,
   "id": "071a82d9-9da6-484f-951c-2c0bbc26f0f6",
   "metadata": {
    "scrolled": true
   },
   "outputs": [
    {
     "name": "stdout",
     "output_type": "stream",
     "text": [
      "Northbound 1 to Van Cortlandt Park-242 St, departed origin 11:39:30, Currently STOPPED_AT Christopher St-Sheridan Sq, last update at 12:52:08\n",
      "Northbound 1 to Van Cortlandt Park-242 St, departed origin 11:45:30, Currently STOPPED_AT Chambers St, last update at 12:51:41\n",
      "Northbound 1 to Van Cortlandt Park-242 St, departed origin 11:51:30, Currently IN_TRANSIT_TO Rector St, last update at 12:52:23\n",
      "Northbound 2 to Gun Hill Rd, departed origin 11:11:30, Currently STOPPED_AT 34 St-Penn Station, last update at 12:51:58\n",
      "Northbound 2 to Wakefield-241 St, departed origin 11:19:30, Currently IN_TRANSIT_TO 14 St, last update at 12:52:26\n",
      "Northbound 2 to Gun Hill Rd, departed origin 11:27:30, Currently IN_TRANSIT_TO Wall St, last update at 12:52:27\n",
      "Northbound 2 to Wakefield-241 St, departed origin 11:35:30, Currently STOPPED_AT Atlantic Av-Barclays Ctr, last update at 12:52:05\n",
      "Northbound 2 to Gun Hill Rd, departed origin 11:43:30, Currently STOPPED_AT President St-Medgar Evers College, last update at 12:51:56\n",
      "Northbound 2 to Wakefield-241 St, departed origin 11:51:30, Currently IN_TRANSIT_TO Newkirk Av-Little Haiti, last update at 12:52:22\n",
      "Northbound 3 to Harlem-148 St, departed origin 11:05:00, Currently STOPPED_AT 14 St, last update at 12:51:45\n",
      "Northbound 3 to Harlem-148 St, departed origin 11:11:00, Currently STOPPED_AT Chambers St, last update at 12:51:58\n",
      "Northbound 3 to Harlem-148 St, departed origin 11:19:00, Currently INCOMING_AT Wall St, last update at 12:52:26\n",
      "Northbound 3 to Harlem-148 St, departed origin 11:27:00, Currently IN_TRANSIT_TO Hoyt St, last update at 12:52:22\n",
      "Northbound 3 to Harlem-148 St, departed origin 11:35:00, Currently INCOMING_AT Franklin Av-Medgar Evers College, last update at 12:52:25\n",
      "Northbound 3 to Harlem-148 St, departed origin 11:43:00, Currently STOPPED_AT Saratoga Av, last update at 12:51:38\n",
      "Northbound 3 to Harlem-148 St, departed origin 11:51:30, Currently INCOMING_AT Van Siclen Av, last update at 12:52:06\n"
     ]
    }
   ],
   "source": [
    "for train in trains:\n",
    "    print(train)"
   ]
  },
  {
   "cell_type": "markdown",
   "id": "18cc16fa-686b-4b27-be0d-0015ab28ddcc",
   "metadata": {},
   "source": [
    "We can now check for the times when trains have passed through 34St-Penn Station."
   ]
  },
  {
   "cell_type": "code",
   "execution_count": 8,
   "id": "ace17da1-7c91-469f-9fab-6dd163516057",
   "metadata": {},
   "outputs": [
    {
     "name": "stdout",
     "output_type": "stream",
     "text": [
      "Station | Line | Direction | Arrival time\n",
      "34 St-Penn Station | 1 | Van Cortlandt Park-242 St | 2024-04-17 12:58:08\n",
      "34 St-Penn Station | 1 | Van Cortlandt Park-242 St | 2024-04-17 13:03:11\n",
      "34 St-Penn Station | 1 | Van Cortlandt Park-242 St | 2024-04-17 13:07:03\n",
      "34 St-Penn Station | 2 | Gun Hill Rd | 2024-04-17 12:52:28\n",
      "34 St-Penn Station | 2 | Wakefield-241 St | 2024-04-17 12:57:40\n",
      "34 St-Penn Station | 2 | Gun Hill Rd | 2024-04-17 13:07:12\n",
      "34 St-Penn Station | 2 | Wakefield-241 St | 2024-04-17 13:14:05\n",
      "34 St-Penn Station | 2 | Gun Hill Rd | 2024-04-17 13:23:56\n",
      "34 St-Penn Station | 2 | Wakefield-241 St | 2024-04-17 13:32:57\n",
      "34 St-Penn Station | 3 | Harlem-148 St | 2024-04-17 12:54:45\n",
      "34 St-Penn Station | 3 | Harlem-148 St | 2024-04-17 12:59:28\n",
      "34 St-Penn Station | 3 | Harlem-148 St | 2024-04-17 13:04:36\n",
      "34 St-Penn Station | 3 | Harlem-148 St | 2024-04-17 13:12:22\n",
      "34 St-Penn Station | 3 | Harlem-148 St | 2024-04-17 13:21:34\n",
      "34 St-Penn Station | 3 | Harlem-148 St | 2024-04-17 13:30:38\n",
      "34 St-Penn Station | 3 | Harlem-148 St | 2024-04-17 13:36:39\n"
     ]
    }
   ],
   "source": [
    "trains_at_penn = []\n",
    "print(\"Station | Line | Direction | Arrival time\")\n",
    "for train in trains:\n",
    "    for update in train.stop_time_updates:\n",
    "        if update.stop_id in ['128', '128N']:\n",
    "            print(f\"{update.stop_name} | {train.route_id} | {train.headsign_text} | {update.arrival}\")\n",
    "            trains_at_penn.append((train, update))"
   ]
  },
  {
   "cell_type": "markdown",
   "id": "8190647e-4d45-4ab5-930c-4c1696d8c125",
   "metadata": {},
   "source": [
    "---"
   ]
  },
  {
   "cell_type": "markdown",
   "id": "5931527f-a501-4ee1-a9a4-be9f7436e85a",
   "metadata": {},
   "source": [
    "## Using CSP to ingest and analyze the data"
   ]
  },
  {
   "attachments": {},
   "cell_type": "markdown",
   "id": "1bd20d3e-a594-4c6d-a56b-b352b09f11d3",
   "metadata": {},
   "source": [
    "When using CSP to ingest and analyze this data, we [start with a graph](https://github.com/Point72/csp/wiki/CSP-Graph) representing the operations we want to perform. Graphs are composed of some number of \"input\" adapters, a set of connected calculation \"nodes\" and at the end the data is sent off to \"output\" adapters. For simplicity, we'll build a very simple graph that will show only trains passing through 34 St-Penn Station.\n",
    "\n",
    "There are two types of [Input Adapters](https://github.com/Point72/csp/wiki/Adapters): Historical (aka Simulated) adapters and Realtime Adapters. Historical adapters are used to process historical timeseries data into the graph. Realtime Adapters are used to feed in live event data, generally created from external sources on separate threads.\n",
    "\n",
    "As you may have guessed, in our case we need to use a [Realtime adapter](https://github.com/Point72/csp/wiki/Write-Realtime-Input-Adapters), which will ingest the live data and periodically refresh it.\n",
    "\n",
    "In CSP terminology, a single adapter corresponds to a single timeseries edge in the graph. When writing realtime adapters, you will need to implement a \"push\" adapter, which will get data from a separate thread that drives external events and \"pushes\" them into the engine as they occur.\n",
    "\n",
    "When [writing input adapters](https://github.com/Point72/csp/wiki/Write-Realtime-Input-Adapters#pushinputadapter---python) it is also very important to denote the difference between \"graph building time\" and \"runtime\" versions of your adapter. For example, [`csp.adapters.csv` has a `CSVReader` class](https://github.com/Point72/csp/blob/main/csp/adapters/csv.py) that is used at graph building time. Graph build time components solely describe the adapter. They are meant to do little else than keep track of the type of adapter and its parameters, which will then be used to construct the actual adapter implementation when the engine is constructed from the graph description. It is the runtime implementation that actual runs during the engine execution phase to process data.\n",
    "\n",
    "> Once the graph is constructed, `csp.graph` code is no longer needed. Once the\n",
    "> graph is run, only inputs, `csp.nodes` and outputs will be active as data flows\n",
    "> through the graph, driven by input ticks.\n",
    "\n",
    "In our case, \"ticks\" correspond to feed refreshes, and we'll observe this data being updated every 30s. We will read 3 minutes of data for the purposes of this demonstration."
   ]
  },
  {
   "cell_type": "code",
   "execution_count": 8,
   "id": "f808ff5b-2735-4b58-bd29-054dabdc6620",
   "metadata": {},
   "outputs": [
    {
     "name": "stdout",
     "output_type": "stream",
     "text": [
      "Start of graph building\n",
      "End of graph building\n",
      "FetchTrainDataAdapter::start\n",
      "2024-04-17 13:06:07.738811: refreshing MTA feed\n",
      "2024-04-17 13:06:08.869066 MTA data:Event( train={\"052850_1..N03R\", INCOMING_AT 130N @10:05:55}, update={ID: 128N, Arr: 10:09:20, Dep: 10:09:20, Sched: T4, } )\n",
      "2024-04-17 13:06:08.872556 MTA data:Event( train={\"053450_1..N03R\", STOPPED_AT 132N @10:05:30}, update={ID: 128N, Arr: 10:10:30, Dep: 10:10:30, Sched: T4, } )\n",
      "2024-04-17 13:06:08.872654 MTA data:Event( train={\"053850_1..N13R\", IN_TRANSIT_TO 135N @10:05:55}, update={ID: 128N, Arr: 10:15:40, Dep: 10:15:40, Sched: T4, } )\n",
      "2024-04-17 13:06:08.872731 MTA data:Event( train={\"054150_1..N03R\", STOPPED_AT 137N @10:05:50}, update={ID: 128N, Arr: 10:17:20, Dep: 10:17:20, Sched: T4, } )\n",
      "2024-04-17 13:06:08.872815 MTA data:Event( train={\"054000_1..N03R\", STOPPED_AT 134N @10:05:21}, update={ID: 128N, Arr: 10:12:51, Dep: 10:12:51, Sched: T4, } )\n",
      "2024-04-17 13:06:08.872893 MTA data:Event( train={\"051050_2..N09R\", STOPPED_AT 132N @10:05:54}, update={ID: 128N, Arr: 10:08:54, Dep: 10:08:54, Sched: T3, } )\n",
      "2024-04-17 13:06:08.872967 MTA data:Event( train={\"051500_2..N01R\", IN_TRANSIT_TO 132N @10:05:54}, update={ID: 128N, Arr: 10:12:01, Dep: 10:12:01, Sched: T3, } )\n",
      "2024-04-17 13:06:08.873036 MTA data:Event( train={\"052000_2..N09R\", IN_TRANSIT_TO 230N @10:05:48}, update={ID: 128N, Arr: 10:19:23, Dep: 10:19:23, Sched: T3, } )\n",
      "2024-04-17 13:06:08.873113 MTA data:Event( train={\"052750_2..N01R\", STOPPED_AT 236N @10:05:06}, update={ID: 128N, Arr: 10:28:36, Dep: 10:28:36, Sched: T3, } )\n",
      "2024-04-17 13:06:08.873187 MTA data:Event( train={\"053850_2..N09R\", IN_TRANSIT_TO 241N @10:05:52}, update={ID: 128N, Arr: 10:38:39, Dep: 10:38:39, Sched: T3, } )\n",
      "2024-04-17 13:06:08.873258 MTA data:Event( train={\"054250_2..N01R\", STOPPED_AT 244N @10:05:19}, update={ID: 128N, Arr: 10:42:19, Dep: 10:42:19, Sched: T3, } )\n",
      "2024-04-17 13:06:08.873391 MTA data:Event( train={\"050400_3..N01R\", IN_TRANSIT_TO 128N @10:05:56}, update={ID: 128N, Arr: 10:06:47, Dep: 10:06:47, Sched: T3, Act: T3} )\n",
      "2024-04-17 13:06:08.873502 MTA data:Event( train={\"051550_3..N01R\", IN_TRANSIT_TO 231N @10:05:48}, update={ID: 128N, Arr: 10:22:42, Dep: 10:22:42, Sched: T3, } )\n",
      "2024-04-17 13:06:08.873633 MTA data:Event( train={\"052250_3..N01R\", STOPPED_AT 234N @10:05:31}, update={ID: 128N, Arr: 10:26:01, Dep: 10:26:01, Sched: T3, } )\n",
      "2024-04-17 13:06:08.873704 MTA data:Event( train={\"053000_3..N01R\", STOPPED_AT 239N @10:05:18}, update={ID: 128N, Arr: 10:34:18, Dep: 10:34:18, Sched: T3, } )\n",
      "2024-04-17 13:06:08.873762 MTA data:Event( train={\"053650_3..N01R\", IN_TRANSIT_TO 250N @10:05:56}, update={ID: 128N, Arr: 10:42:08, Dep: 10:42:08, Sched: T3, } )\n",
      "2024-04-17 13:06:08.873812 MTA data:Event( train={\"054100_3..N01R\", IN_TRANSIT_TO 253N @10:05:46}, update={ID: 128N, Arr: 10:48:46, Dep: 10:48:46, Sched: T3, } )\n",
      "FetchTrainDataAdapter::stop\n",
      "Done.\n"
     ]
    }
   ],
   "source": [
    "import csp\n",
    "from csp.impl.pushadapter import PushInputAdapter\n",
    "from csp.impl.wiring import py_push_adapter_def\n",
    "\n",
    "import nyct_gtfs\n",
    "\n",
    "import os\n",
    "import time\n",
    "import threading\n",
    "from datetime import datetime, timedelta\n",
    "\n",
    "\n",
    "class Event(csp.Struct):\n",
    "    train: nyct_gtfs.trip.Trip\n",
    "    update: nyct_gtfs.stop_time_update.StopTimeUpdate\n",
    "\n",
    "\n",
    "class FetchTrainDataAdapter(PushInputAdapter):\n",
    "    def __init__(self, interval):\n",
    "        self._interval = interval\n",
    "        self._thread = None\n",
    "        self._running = False\n",
    "\n",
    "    def start(self, starttime, endtime):\n",
    "        print(\"FetchTrainDataAdapter::start\")\n",
    "        self._running = True\n",
    "        self._thread = threading.Thread(target=self._run)\n",
    "        self._thread.start()\n",
    "\n",
    "    def stop(self):\n",
    "        print(\"FetchTrainDataAdapter::stop\")\n",
    "        if self._running:\n",
    "            self._running = False\n",
    "            self._thread.join()\n",
    "\n",
    "    def _run(self):\n",
    "        # This is where we will read and process the real-time data feed\n",
    "        feed = nyct_gtfs.NYCTFeed(\"https://api-endpoint.mta.info/Dataservice/mtagtfsfeeds/nyct%2Fgtfs\", api_key=\"\")\n",
    "\n",
    "        while self._running:\n",
    "            print(f\"{datetime.utcnow()}: refreshing MTA feed\")\n",
    "            feed.refresh()\n",
    "            # trains will contain all trains underway currently headed to 34St-Penn Station.\n",
    "            trains = feed.filter_trips(underway=True, headed_for_stop_id=['128', '128N'])\n",
    "            # tick whenever feed is refreshed\n",
    "            for train in trains:\n",
    "                for update in train.stop_time_updates:\n",
    "                    if update.stop_id in ['128', '128N']:\n",
    "                        self.push_tick(Event(train=train, update=update))\n",
    "            time.sleep(self._interval.total_seconds())\n",
    "\n",
    "FetchTrainData = py_push_adapter_def(\"FetchTrainData\", FetchTrainDataAdapter, csp.ts[Event], interval=timedelta)\n",
    "\n",
    "@csp.graph\n",
    "def mta_graph():\n",
    "    print(\"Start of graph building\")\n",
    "    trains_at_penn = FetchTrainData(timedelta(seconds=30))\n",
    "    csp.print(\"MTA data\", trains_at_penn)\n",
    "    print(\"End of graph building\")\n",
    "\n",
    "start = datetime.utcnow()\n",
    "end = start + timedelta(minutes=3)\n",
    "csp.run(mta_graph, starttime=start, realtime=True, endtime=end)\n",
    "print(\"Done.\")"
   ]
  },
  {
   "cell_type": "markdown",
   "id": "1a871048-7437-4827-871d-97976d7b93d1",
   "metadata": {},
   "source": [
    "---"
   ]
  },
  {
   "cell_type": "markdown",
   "id": "580d6aad-3797-42e9-a60c-85477a6b3839",
   "metadata": {},
   "source": [
    "### References\n",
    "\n",
    "* https://erikbern.com/2016/04/04/nyc-subway-math\n",
    "* https://erikbern.com/2016/07/09/waiting-time-math.html\n",
    "* https://pypi.org/project/nyct-gtfs/\n",
    "* https://api.mta.info/#/landing\n",
    "* https://developers.google.com/transit/gtfs-realtime\n",
    "* https://github.com/Point72/csp/blob/main/examples/4_writing_adapters/e_14_user_adapters_03_pushinput.py\n",
    "* https://github.com/Point72/csp/wiki/5.-Adapters#realtime-adapters"
   ]
  },
  {
   "cell_type": "code",
   "execution_count": null,
   "id": "5a7694b3-68e3-4d78-8fe6-a2fa025a0cd7",
   "metadata": {},
   "outputs": [],
   "source": []
  }
 ],
 "metadata": {
  "kernelspec": {
   "display_name": "Python 3 (ipykernel)",
   "language": "python",
   "name": "python3"
  },
  "language_info": {
   "codemirror_mode": {
    "name": "ipython",
    "version": 3
   },
   "file_extension": ".py",
   "mimetype": "text/x-python",
   "name": "python",
   "nbconvert_exporter": "python",
   "pygments_lexer": "ipython3",
   "version": "3.11.8"
  }
 },
 "nbformat": 4,
 "nbformat_minor": 5
}
