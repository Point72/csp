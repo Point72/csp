{
 "cells": [
  {
   "cell_type": "markdown",
   "id": "f4d848d1-dd58-4b75-9662-377cb66b5be9",
   "metadata": {},
   "source": [
    "# Using CSP to analyze MTA data"
   ]
  },
  {
   "cell_type": "markdown",
   "id": "6906efcb-324a-4bc1-b910-6d8905c0adb0",
   "metadata": {},
   "source": [
    "The Metropolitan Transportation Authority provides an API for developers, and we'll explore the MTA's realtime [GTFS-rt](https://developers.google.com/transit/gtfs-realtime) feed. This feeds requires authentication, so before you run this example yourself you will need to create an API key at https://api.mta.info/#/signup. You can define your API_KEY as an environment variable in your system for safe keeping."
   ]
  },
  {
   "cell_type": "markdown",
   "id": "dacee7cb-d803-4eee-b135-c9ffd6ad2888",
   "metadata": {},
   "source": [
    "In order to deal with the GTFS-rt data, we'll use the [nyct-gtfs](https://pypi.org/project/nyct-gtfs/) library, available from PyPI through\n",
    "\n",
    "```\n",
    "pip install nyct-gtfs\n",
    "```"
   ]
  },
  {
   "cell_type": "markdown",
   "id": "dcc5655d-3c45-4f96-842e-bb5f1b7d2127",
   "metadata": {},
   "source": [
    "The MTA feed can be inspected as follows:"
   ]
  },
  {
   "cell_type": "code",
   "execution_count": null,
   "id": "9409305a-a84a-493f-8eeb-9a7c1c2c81eb",
   "metadata": {},
   "outputs": [],
   "source": [
    "from nyct_gtfs import NYCTFeed\n",
    "\n",
    "# Load the realtime feed from the MTA site\n",
    "feed = NYCTFeed(\"https://api-endpoint.mta.info/Dataservice/mtagtfsfeeds/nyct%2Fgtfs\", api_key=\"\")\n",
    "\n",
    "# feed_id must be a valid feed URL or one of: \n",
    "# '1', '2', '3', '4', '5', '6', '7',\n",
    "# 'S', 'GS', 'A', 'C', 'E', 'H',\n",
    "# 'FS', 'SF', 'SR',\n",
    "# 'B', 'D', 'F', 'M', 'G', 'J', 'Z', 'N', 'Q', 'R', 'W', 'L',\n",
    "# 'SI', 'SS', 'SIR'"
   ]
  },
  {
   "cell_type": "markdown",
   "id": "18e067c5-3f57-43a5-a744-a3bfa213c69b",
   "metadata": {},
   "source": [
    "Let's explore the data first. `feed` is a `nyct_gtfs.feed.NYCTFeed` instance, with the most important methods being the following:"
   ]
  },
  {
   "cell_type": "code",
   "execution_count": null,
   "id": "349a3179-f49d-4be8-8f65-9599579695b8",
   "metadata": {},
   "outputs": [],
   "source": [
    "feed.refresh?"
   ]
  },
  {
   "cell_type": "code",
   "execution_count": null,
   "id": "4d2d4de5-2a72-4c68-9618-106bda47c005",
   "metadata": {},
   "outputs": [],
   "source": [
    "feed.filter_trips?"
   ]
  },
  {
   "cell_type": "code",
   "execution_count": null,
   "id": "9d89289d-ee10-4bee-a37d-0863fde7d1f9",
   "metadata": {},
   "outputs": [],
   "source": [
    "feed.trips?"
   ]
  },
  {
   "cell_type": "markdown",
   "id": "3bf0fe58-ced8-49a7-84bb-09b9abdb41ee",
   "metadata": {},
   "source": [
    "In our case, we will (for simplicity) filter the trips to collect information only about the 1, 2 and 3 trains, and we will start with trains going through 34 St-Penn Station."
   ]
  },
  {
   "cell_type": "code",
   "execution_count": null,
   "id": "429163be-6a02-4a14-b1f5-5f5016213af0",
   "metadata": {},
   "outputs": [],
   "source": [
    "# This cell can be run multiple times, and data will be refreshed every 30s\n",
    "feed.refresh()\n",
    "trains = feed.filter_trips(underway=True, headed_for_stop_id=['128', '128N'])\n",
    "trains"
   ]
  },
  {
   "cell_type": "markdown",
   "id": "e52dd161-b878-4d6f-b4a0-bda3a6f35967",
   "metadata": {},
   "source": [
    "We can also show this data in a human-readable way."
   ]
  },
  {
   "cell_type": "code",
   "execution_count": null,
   "id": "071a82d9-9da6-484f-951c-2c0bbc26f0f6",
   "metadata": {
    "scrolled": true
   },
   "outputs": [],
   "source": [
    "for train in trains:\n",
    "    print(train)"
   ]
  },
  {
   "cell_type": "markdown",
   "id": "18cc16fa-686b-4b27-be0d-0015ab28ddcc",
   "metadata": {},
   "source": [
    "We can now check for the times when trains have passed through 34St-Penn Station."
   ]
  },
  {
   "cell_type": "code",
   "execution_count": null,
   "id": "ace17da1-7c91-469f-9fab-6dd163516057",
   "metadata": {},
   "outputs": [],
   "source": [
    "trains_at_penn = []\n",
    "print(\"Station | Line | Direction | Arrival time\")\n",
    "for train in trains:\n",
    "    for update in train.stop_time_updates:\n",
    "        if update.stop_id in ['128', '128N']:\n",
    "            print(f\"{update.stop_name} | {train.route_id} | {train.headsign_text} | {update.arrival}\")\n",
    "            trains_at_penn.append((train, update))"
   ]
  },
  {
   "cell_type": "markdown",
   "id": "8190647e-4d45-4ab5-930c-4c1696d8c125",
   "metadata": {},
   "source": [
    "---"
   ]
  },
  {
   "cell_type": "markdown",
   "id": "5931527f-a501-4ee1-a9a4-be9f7436e85a",
   "metadata": {},
   "source": [
    "## Using CSP to ingest and analyze the data"
   ]
  },
  {
   "attachments": {},
   "cell_type": "markdown",
   "id": "1bd20d3e-a594-4c6d-a56b-b352b09f11d3",
   "metadata": {},
   "source": [
    "When using CSP to ingest and analyze this data, we start with a graph representing the operations we want to perform. Graphs are composed of some number of \"input\" adapters, a set of connected calculation \"nodes\" and at the end sent off to \"output\" adapters. For simplicity, we'll build a very simple graph that will show trains passing through 34 St-Penn Station.\n",
    "\n",
    "There are two types of [Input Adapters](https://github.com/Point72/csp/wiki/5.-Adapters): Historical (aka Simulated) adapters and Realtime Adapters. Historical adapters are used to feed in historical timeseries data into the graph from some data source which has timeseries data. Realtime Adapters are used to feed in live event based data in realtime, generally events created from external sources on separate threads.\n",
    "\n",
    "As you may have guessed, in our case we need to use a Realtime adapter, which will ingest the data and periodically refresh it.\n",
    "\n",
    "In CSP terminology, a single adapter corresponds to a single timeseries edge in the graph. When writing realtime adapters, you will need to implement a \"push\" adapter, which will get data from a separate thread that drives external events and \"pushes\" them into the engine as they occur.\n",
    "\n",
    "When writing input adapters it is also very important to denote the difference between \"graph building time\" and \"runtime\" versions of your adapter. For example, `csp.adapters.csv` has a `CSVReader` class that is used at graph building time. Graph build time components solely describe the adapter. They are meant to do little else than keep track of the type of adapter and its parameters, which will then be used to construct the actual adapter implementation when the engine is constructed from the graph description. It is the runtime implementation that actual runs during the engine execution phase to process data.\n",
    "\n",
    "> Once the graph is constructed, `csp.graph` code is no longer needed. Once the\n",
    "> graph is run, only inputs, `csp.nodes` and outputs will be active as data flows\n",
    "> through the graph, driven by input ticks.\n",
    "\n",
    "In our case, \"ticks\" correspond to feed refreshes, and we'll observe this data being updated every 30s."
   ]
  },
  {
   "cell_type": "code",
   "execution_count": null,
   "id": "f808ff5b-2735-4b58-bd29-054dabdc6620",
   "metadata": {},
   "outputs": [],
   "source": [
    "import csp\n",
    "from csp.impl.pushadapter import PushInputAdapter\n",
    "from csp.impl.wiring import py_push_adapter_def\n",
    "\n",
    "import nyct_gtfs\n",
    "\n",
    "import os\n",
    "import time\n",
    "import threading\n",
    "from datetime import datetime, timedelta\n",
    "\n",
    "API_KEY = os.environ.get('API_KEY')\n",
    "\n",
    "\n",
    "class Event(csp.Struct):\n",
    "    train: nyct_gtfs.trip.Trip\n",
    "    update: nyct_gtfs.stop_time_update.StopTimeUpdate\n",
    "\n",
    "\n",
    "class FetchTrainDataAdapter(PushInputAdapter):\n",
    "    def __init__(self, interval):\n",
    "        self._interval = interval\n",
    "        self._thread = None\n",
    "        self._running = False\n",
    "\n",
    "    def start(self, starttime, endtime):\n",
    "        print(\"FetchTrainDataAdapter::start\")\n",
    "        self._running = True\n",
    "        self._thread = threading.Thread(target=self._run)\n",
    "        self._thread.start()\n",
    "\n",
    "    def stop(self):\n",
    "        print(\"FetchTrainDataAdapter::stop\")\n",
    "        if self._running:\n",
    "            self._running = False\n",
    "            self._thread.join()\n",
    "\n",
    "    def _run(self):\n",
    "        feed = nyct_gtfs.NYCTFeed(\"https://api-endpoint.mta.info/Dataservice/mtagtfsfeeds/nyct%2Fgtfs\", api_key=API_KEY)\n",
    "\n",
    "        while self._running:\n",
    "            print(f\"{datetime.utcnow()}: refreshing MTA feed\")\n",
    "            feed.refresh()\n",
    "            # trains will contain all trains underway currently headed to 34St-Penn Station.\n",
    "            trains = feed.filter_trips(underway=True, headed_for_stop_id=['128', '128N'])\n",
    "            # tick whenever feed is refreshed\n",
    "            for train in trains:\n",
    "                for update in train.stop_time_updates:\n",
    "                    if update.stop_id in ['128', '128N']:\n",
    "                        #self.push_tick(Event(train=(train.route_id, train.headsign_text), update=update.arrival))\n",
    "                        self.push_tick(Event(train=train, update=update))\n",
    "            time.sleep(self._interval.total_seconds())\n",
    "\n",
    "FetchTrainData = py_push_adapter_def(\"FetchTrainData\", FetchTrainDataAdapter, csp.ts[Event], interval=timedelta)\n",
    "\n",
    "@csp.graph\n",
    "def mta_graph():\n",
    "    print(\"Start of graph building\")\n",
    "    trains_at_penn = FetchTrainData(timedelta(seconds=30))\n",
    "    csp.print(\"MTA data\", trains_at_penn)\n",
    "    print(\"End of graph building\")\n",
    "\n",
    "start = datetime.utcnow()\n",
    "end = start + timedelta(minutes=3)\n",
    "#csp.showgraph.show_graph(mta_graph)\n",
    "csp.run(mta_graph, starttime=start, realtime=True, endtime=end)\n",
    "print(\"Done.\")"
   ]
  },
  {
   "cell_type": "markdown",
   "id": "1a871048-7437-4827-871d-97976d7b93d1",
   "metadata": {},
   "source": [
    "---"
   ]
  },
  {
   "cell_type": "markdown",
   "id": "580d6aad-3797-42e9-a60c-85477a6b3839",
   "metadata": {},
   "source": [
    "### References\n",
    "\n",
    "* https://erikbern.com/2016/04/04/nyc-subway-math\n",
    "* https://erikbern.com/2016/07/09/waiting-time-math.html\n",
    "* https://pypi.org/project/nyct-gtfs/\n",
    "* https://api.mta.info/#/landing\n",
    "* https://developers.google.com/transit/gtfs-realtime\n",
    "* https://github.com/Point72/csp/blob/main/examples/4_writing_adapters/e_14_user_adapters_03_pushinput.py\n",
    "* https://github.com/Point72/csp/wiki/5.-Adapters#realtime-adapters"
   ]
  },
  {
   "cell_type": "code",
   "execution_count": null,
   "id": "5a7694b3-68e3-4d78-8fe6-a2fa025a0cd7",
   "metadata": {},
   "outputs": [],
   "source": []
  }
 ],
 "metadata": {
  "kernelspec": {
   "display_name": "Python 3 (ipykernel)",
   "language": "python",
   "name": "python3"
  },
  "language_info": {
   "codemirror_mode": {
    "name": "ipython",
    "version": 3
   },
   "file_extension": ".py",
   "mimetype": "text/x-python",
   "name": "python",
   "nbconvert_exporter": "python",
   "pygments_lexer": "ipython3",
   "version": "3.11.8"
  }
 },
 "nbformat": 4,
 "nbformat_minor": 5
}
