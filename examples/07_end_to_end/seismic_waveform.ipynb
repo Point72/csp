{
 "cells": [
  {
   "cell_type": "markdown",
   "id": "f375a246-44ee-474b-af5b-f56ee3a6fda8",
   "metadata": {},
   "source": [
    "# Processing Seismic Waveform Data with `obspy` and `csp`"
   ]
  },
  {
   "cell_type": "markdown",
   "id": "0d6e2db4-414c-4981-bd74-fcb8cee0f535",
   "metadata": {},
   "source": [
    "## Introduction"
   ]
  },
  {
   "cell_type": "markdown",
   "id": "3cebb322-a3e1-4a0e-982b-78f778f0bd8c",
   "metadata": {},
   "source": [
    "Seismic waves are vibrations that travel through the Earth, caused by earthquakes and volcano eruptions, among other causes. Seismic waves are recorded by seismometers located in seismic stations which are operated as a part of larger [networks](https://www.fdsn.org/networks/) of such stations. There are also [data centers](https://www.fdsn.org/datacenters/) that make data available to the public both historically and as a live feed via the [SeedLink](https://docs.fdsn.org/projects/seedlink/en/latest/) protocol. For more information about seismometers, seismographs and seismograms, see the [USGS FAQ](https://www.usgs.gov/faqs/seismometers-seismographs-seismograms-whats-difference-how-do-they-work).\n",
    "\n",
    "The python library [`obspy`](https://docs.obspy.org/index.html) is a convenient tool for processing seismological data, including [waveform data](https://docs.obspy.org/packages/obspy.core.html#waveform-data). It provides clients to help access the data from python as well as signal processing functions that help with filtering and event detection (triggering) based on this time series data. Most routines operate on historical time series data represented as numpy arrays. \n",
    "\n",
    "In this notebook, our goal is to show how `csp` can be used to wrap functionality from `obspy` to access both real time and historical waveform data. We also illustrate how the filtering and triggering logic can be re-implemented in a way that applies just as easily to real time streaming data as it does to batch historical data.\n",
    "\n",
    "Before we start, we import the relevant libraries. Note that you must have `obspy` and `scipy` installed in addition to `csp` to run this notebook."
   ]
  },
  {
   "cell_type": "code",
   "execution_count": 1,
   "id": "9eeb07c5-1765-4433-a251-bf6da907ccd6",
   "metadata": {},
   "outputs": [],
   "source": [
    "import csp\n",
    "import logging\n",
    "import numpy as np\n",
    "import pandas as pd\n",
    "import sys\n",
    "import warnings\n",
    "from csp import ts\n",
    "from datetime import timedelta, datetime\n",
    "from obspy import read, Trace, Stream, UTCDateTime\n",
    "from scipy.signal import iirfilter, sosfilt, zpk2sos\n",
    "from typing import Dict, List, Optional, Tuple\n",
    "\n",
    "warnings.filterwarnings('ignore') "
   ]
  },
  {
   "cell_type": "markdown",
   "id": "d205e8e5-bcb0-4c44-8c78-a088b5a4c201",
   "metadata": {},
   "source": [
    "Now we can load the sample waveform \"Stream\" from obspy (i.e. a group of waveforms), and pull a single \"Trace\" from it:"
   ]
  },
  {
   "cell_type": "code",
   "execution_count": 2,
   "id": "27252e5f-db99-450b-a8b7-1829021754f5",
   "metadata": {},
   "outputs": [
    {
     "data": {
      "text/plain": [
       "BW.RJOB..EHZ | 2009-08-24T00:20:03.000000Z - 2009-08-24T00:20:32.990000Z | 100.0 Hz, 3000 samples"
      ]
     },
     "execution_count": 2,
     "metadata": {},
     "output_type": "execute_result"
    }
   ],
   "source": [
    "st = read()\n",
    "tr = st[0]\n",
    "tr"
   ]
  },
  {
   "cell_type": "markdown",
   "id": "3d52ba99-281d-44a6-967e-2877553f7e9b",
   "metadata": {},
   "source": [
    "The \"id\" of the Trace object is composed of the network id (\"BW\"), the station id (\"RJOB\") and the channel (\"EHZ\"). The channel names are composed of the band code (i.e. frequency, where \"E\" is \"Extremely High Frequency\"), the instrument code (\"H\" is \"High Gain Seismometer\") and the orientation code (i.e. \"Z\" is vertical movement). You can read more about channel naming [here](https://ds.iris.edu/ds/nodes/dmc/data/formats/seed-channel-naming/).\n",
    "\n",
    "The trace has two main attributes, \"stats\" which contains metadata such as the start/end time, sampling frequency, etc and \"data\" which is a numpy array of the raw measurements, at equally sampled intervals in the time range."
   ]
  },
  {
   "cell_type": "code",
   "execution_count": 3,
   "id": "a2770d97-aa2e-451a-91e0-7e160194d87e",
   "metadata": {},
   "outputs": [
    {
     "data": {
      "text/plain": [
       "         network: BW\n",
       "         station: RJOB\n",
       "        location: \n",
       "         channel: EHZ\n",
       "       starttime: 2009-08-24T00:20:03.000000Z\n",
       "         endtime: 2009-08-24T00:20:32.990000Z\n",
       "   sampling_rate: 100.0\n",
       "           delta: 0.01\n",
       "            npts: 3000\n",
       "           calib: 1.0\n",
       "    back_azimuth: 100.0\n",
       "     inclination: 30.0\n",
       "        response: Channel Response\n",
       "\tFrom M/S (Velocity in Meters Per Second) to COUNTS (Digital Counts)\n",
       "\tOverall Sensitivity: 2.5168e+09 defined at 0.020 Hz\n",
       "\t4 stages:\n",
       "\t\tStage 1: PolesZerosResponseStage from M/S to V, gain: 1500\n",
       "\t\tStage 2: CoefficientsTypeResponseStage from V to COUNTS, gain: 1.67785e+06\n",
       "\t\tStage 3: FIRResponseStage from COUNTS to COUNTS, gain: 1\n",
       "\t\tStage 4: FIRResponseStage from COUNTS to COUNTS, gain: 1"
      ]
     },
     "execution_count": 3,
     "metadata": {},
     "output_type": "execute_result"
    }
   ],
   "source": [
    "tr.stats"
   ]
  },
  {
   "cell_type": "code",
   "execution_count": 4,
   "id": "0f8fde18-2112-4e60-bf56-a377ae1f0db3",
   "metadata": {},
   "outputs": [
    {
     "data": {
      "text/plain": [
       "array([0.        , 0.00694644, 0.07597424, ..., 1.93449584, 0.98196204,\n",
       "       0.44196924])"
      ]
     },
     "execution_count": 4,
     "metadata": {},
     "output_type": "execute_result"
    }
   ],
   "source": [
    "tr.data"
   ]
  },
  {
   "cell_type": "markdown",
   "id": "1faba8a2-25ce-4610-b8ab-9635d7b9ea80",
   "metadata": {},
   "source": [
    "## Simulation\n",
    "In real-time, trace data will be sent in batches of observations, so we can use csp to simulate this by writing a node that divides a stream into fixed size chunks for each interval. We can also simulate a lag in the transmitted data, as we would see in realtime event processing. "
   ]
  },
  {
   "cell_type": "code",
   "execution_count": 5,
   "id": "03cea2e1-c58f-4835-8b91-3aa043b857b7",
   "metadata": {},
   "outputs": [],
   "source": [
    "@csp.graph\n",
    "def trace_sim(stream: Stream, interval: timedelta, lag: timedelta = timedelta(0)) -> Dict[str, ts[Trace]]:\n",
    "    out = {}\n",
    "    for trace in stream:\n",
    "        # Approximate number of equal intervals. This could be improved by using .slice over time intervals\n",
    "        num_intervals = int((trace.stats.endtime - trace.stats.starttime) / interval.total_seconds())\n",
    "        # Create a new stream of the split trace\n",
    "        if num_intervals > 1:\n",
    "            trace_stream = trace / num_intervals\n",
    "        else:\n",
    "            trace_stream = Stream(trace)\n",
    "        # Create a curve of the trace that ticks some lag after the end time\n",
    "        out[trace.id] = csp.curve(Trace, [(t.stats.endtime.datetime + lag, t) for t in trace_stream])\n",
    "    return out"
   ]
  },
  {
   "cell_type": "markdown",
   "id": "199cc6f0-7103-4d93-8e4b-ffbf17d07200",
   "metadata": {},
   "source": [
    "We can now run this simple graph to show how the pieces are divided into 5 second chunks with a small simulated transmission delay. Since the sample stream contains Traces for three different channels (corresponding to the N, E and Z dimensions), we will see three updates for every timestamp. "
   ]
  },
  {
   "cell_type": "code",
   "execution_count": 6,
   "id": "700315f7-7f78-4ddb-bfd6-852184cf286d",
   "metadata": {},
   "outputs": [
    {
     "name": "stdout",
     "output_type": "stream",
     "text": [
      "2009-08-24 00:20:09 Received simulated trace BW.RJOB..EHZ:BW.RJOB..EHZ | 2009-08-24T00:20:03.000000Z - 2009-08-24T00:20:08.990000Z | 100.0 Hz, 600 samples\n",
      "2009-08-24 00:20:09 Received simulated trace BW.RJOB..EHN:BW.RJOB..EHN | 2009-08-24T00:20:03.000000Z - 2009-08-24T00:20:08.990000Z | 100.0 Hz, 600 samples\n",
      "2009-08-24 00:20:09 Received simulated trace BW.RJOB..EHE:BW.RJOB..EHE | 2009-08-24T00:20:03.000000Z - 2009-08-24T00:20:08.990000Z | 100.0 Hz, 600 samples\n",
      "2009-08-24 00:20:15 Received simulated trace BW.RJOB..EHZ:BW.RJOB..EHZ | 2009-08-24T00:20:09.000000Z - 2009-08-24T00:20:14.990000Z | 100.0 Hz, 600 samples\n",
      "2009-08-24 00:20:15 Received simulated trace BW.RJOB..EHN:BW.RJOB..EHN | 2009-08-24T00:20:09.000000Z - 2009-08-24T00:20:14.990000Z | 100.0 Hz, 600 samples\n",
      "2009-08-24 00:20:15 Received simulated trace BW.RJOB..EHE:BW.RJOB..EHE | 2009-08-24T00:20:09.000000Z - 2009-08-24T00:20:14.990000Z | 100.0 Hz, 600 samples\n",
      "2009-08-24 00:20:21 Received simulated trace BW.RJOB..EHZ:BW.RJOB..EHZ | 2009-08-24T00:20:15.000000Z - 2009-08-24T00:20:20.990000Z | 100.0 Hz, 600 samples\n",
      "2009-08-24 00:20:21 Received simulated trace BW.RJOB..EHN:BW.RJOB..EHN | 2009-08-24T00:20:15.000000Z - 2009-08-24T00:20:20.990000Z | 100.0 Hz, 600 samples\n",
      "2009-08-24 00:20:21 Received simulated trace BW.RJOB..EHE:BW.RJOB..EHE | 2009-08-24T00:20:15.000000Z - 2009-08-24T00:20:20.990000Z | 100.0 Hz, 600 samples\n",
      "2009-08-24 00:20:27 Received simulated trace BW.RJOB..EHZ:BW.RJOB..EHZ | 2009-08-24T00:20:21.000000Z - 2009-08-24T00:20:26.990000Z | 100.0 Hz, 600 samples\n",
      "2009-08-24 00:20:27 Received simulated trace BW.RJOB..EHN:BW.RJOB..EHN | 2009-08-24T00:20:21.000000Z - 2009-08-24T00:20:26.990000Z | 100.0 Hz, 600 samples\n",
      "2009-08-24 00:20:27 Received simulated trace BW.RJOB..EHE:BW.RJOB..EHE | 2009-08-24T00:20:21.000000Z - 2009-08-24T00:20:26.990000Z | 100.0 Hz, 600 samples\n",
      "2009-08-24 00:20:33 Received simulated trace BW.RJOB..EHZ:BW.RJOB..EHZ | 2009-08-24T00:20:27.000000Z - 2009-08-24T00:20:32.990000Z | 100.0 Hz, 600 samples\n",
      "2009-08-24 00:20:33 Received simulated trace BW.RJOB..EHN:BW.RJOB..EHN | 2009-08-24T00:20:27.000000Z - 2009-08-24T00:20:32.990000Z | 100.0 Hz, 600 samples\n",
      "2009-08-24 00:20:33 Received simulated trace BW.RJOB..EHE:BW.RJOB..EHE | 2009-08-24T00:20:27.000000Z - 2009-08-24T00:20:32.990000Z | 100.0 Hz, 600 samples\n"
     ]
    }
   ],
   "source": [
    "@csp.graph\n",
    "def print_slices(st: Stream, lag: timedelta):\n",
    "    sim = trace_sim(st, interval=timedelta(seconds=5), lag=lag)\n",
    "    for k, tr in sim.items():\n",
    "        csp.print(f\"Received simulated trace {k}\", tr)\n",
    "\n",
    "starttime = st[0].stats.starttime.datetime\n",
    "csp.run(print_slices, st, lag=timedelta(seconds=0.01), starttime=starttime)"
   ]
  },
  {
   "cell_type": "markdown",
   "id": "a484271f-e197-420a-8809-bc027dd36d62",
   "metadata": {},
   "source": [
    "We can also cheat, and pretend that this data is arriving in real time by delaying it until the current time:"
   ]
  },
  {
   "cell_type": "code",
   "execution_count": 7,
   "id": "37f4760b-3bbe-494f-a210-34d5e6332d56",
   "metadata": {},
   "outputs": [
    {
     "name": "stdout",
     "output_type": "stream",
     "text": [
      "2024-06-06 13:39:28.921738 Received simulated trace BW.RJOB..EHZ:BW.RJOB..EHZ | 2009-08-24T00:20:03.000000Z - 2009-08-24T00:20:08.990000Z | 100.0 Hz, 600 samples\n",
      "2024-06-06 13:39:28.921738 Received simulated trace BW.RJOB..EHN:BW.RJOB..EHN | 2009-08-24T00:20:03.000000Z - 2009-08-24T00:20:08.990000Z | 100.0 Hz, 600 samples\n",
      "2024-06-06 13:39:28.921738 Received simulated trace BW.RJOB..EHE:BW.RJOB..EHE | 2009-08-24T00:20:03.000000Z - 2009-08-24T00:20:08.990000Z | 100.0 Hz, 600 samples\n",
      "2024-06-06 13:39:34.921738 Received simulated trace BW.RJOB..EHZ:BW.RJOB..EHZ | 2009-08-24T00:20:09.000000Z - 2009-08-24T00:20:14.990000Z | 100.0 Hz, 600 samples\n",
      "2024-06-06 13:39:34.921738 Received simulated trace BW.RJOB..EHN:BW.RJOB..EHN | 2009-08-24T00:20:09.000000Z - 2009-08-24T00:20:14.990000Z | 100.0 Hz, 600 samples\n",
      "2024-06-06 13:39:34.921738 Received simulated trace BW.RJOB..EHE:BW.RJOB..EHE | 2009-08-24T00:20:09.000000Z - 2009-08-24T00:20:14.990000Z | 100.0 Hz, 600 samples\n",
      "2024-06-06 13:39:40.921738 Received simulated trace BW.RJOB..EHZ:BW.RJOB..EHZ | 2009-08-24T00:20:15.000000Z - 2009-08-24T00:20:20.990000Z | 100.0 Hz, 600 samples\n",
      "2024-06-06 13:39:40.921738 Received simulated trace BW.RJOB..EHN:BW.RJOB..EHN | 2009-08-24T00:20:15.000000Z - 2009-08-24T00:20:20.990000Z | 100.0 Hz, 600 samples\n",
      "2024-06-06 13:39:40.921738 Received simulated trace BW.RJOB..EHE:BW.RJOB..EHE | 2009-08-24T00:20:15.000000Z - 2009-08-24T00:20:20.990000Z | 100.0 Hz, 600 samples\n",
      "2024-06-06 13:39:46.921738 Received simulated trace BW.RJOB..EHZ:BW.RJOB..EHZ | 2009-08-24T00:20:21.000000Z - 2009-08-24T00:20:26.990000Z | 100.0 Hz, 600 samples\n",
      "2024-06-06 13:39:46.921738 Received simulated trace BW.RJOB..EHN:BW.RJOB..EHN | 2009-08-24T00:20:21.000000Z - 2009-08-24T00:20:26.990000Z | 100.0 Hz, 600 samples\n",
      "2024-06-06 13:39:46.921738 Received simulated trace BW.RJOB..EHE:BW.RJOB..EHE | 2009-08-24T00:20:21.000000Z - 2009-08-24T00:20:26.990000Z | 100.0 Hz, 600 samples\n",
      "2024-06-06 13:39:52.921738 Received simulated trace BW.RJOB..EHZ:BW.RJOB..EHZ | 2009-08-24T00:20:27.000000Z - 2009-08-24T00:20:32.990000Z | 100.0 Hz, 600 samples\n",
      "2024-06-06 13:39:52.921738 Received simulated trace BW.RJOB..EHN:BW.RJOB..EHN | 2009-08-24T00:20:27.000000Z - 2009-08-24T00:20:32.990000Z | 100.0 Hz, 600 samples\n",
      "2024-06-06 13:39:52.921738 Received simulated trace BW.RJOB..EHE:BW.RJOB..EHE | 2009-08-24T00:20:27.000000Z - 2009-08-24T00:20:32.990000Z | 100.0 Hz, 600 samples\n"
     ]
    }
   ],
   "source": [
    "csp.run(print_slices, st, lag=datetime.utcnow()-starttime, starttime=datetime.utcnow(), endtime=timedelta(seconds=30), realtime=True)"
   ]
  },
  {
   "cell_type": "markdown",
   "id": "67ef4c6d-9a42-4666-919a-c04e5d858948",
   "metadata": {},
   "source": [
    "## Analytics\n",
    "\n",
    "### Filtering\n",
    "With waveform data coming in chunks in both historical and real time runs, we can use csp to implement filtering logic leveraging scipy. Here we illustrate a simple bandpass filter, but this could easily be generalized to other filter types.\n",
    "Note that since we want our filter node to be able to process Trace data with different sampling frequencies, we need to wait until the first observation to design the filter"
   ]
  },
  {
   "cell_type": "code",
   "execution_count": 8,
   "id": "995cbf02-f143-4609-935f-9f5af4a8ab20",
   "metadata": {},
   "outputs": [],
   "source": [
    "@csp.node\n",
    "def bandpass_filter_ts(trace: ts[Trace], freqmin: float, freqmax: float) -> ts[Trace]:\n",
    "    with csp.state():\n",
    "        s_zi = None\n",
    "        s_sos = None\n",
    "        s_df = None\n",
    "    if csp.ticked(trace):\n",
    "        if s_sos is None:  # Design the filter the first time we see a trace obser\n",
    "            s_df = trace.stats.sampling_rate\n",
    "            z, p, k = iirfilter(4, [2*freqmin/s_df, 2*freqmax/s_df],  btype=\"band\", ftype=\"butter\", output=\"zpk\")\n",
    "            s_sos = zpk2sos(z, p, k)\n",
    "            s_zi = np.zeros((s_sos.shape[0], 2))\n",
    "        else:\n",
    "            if trace.stats.sampling_rate != s_df:  # Validate that the sampling frequency hasn't changed!\n",
    "                raise ValueError(\"Cannot change sampling rate\")\n",
    "        out, s_zi = sosfilt(s_sos, trace.data, zi=s_zi)\n",
    "        return Trace(out, trace.stats)"
   ]
  },
  {
   "cell_type": "markdown",
   "id": "b055bf4c-54d2-49e5-bcd7-63f44874142a",
   "metadata": {},
   "source": [
    "Given the node above that defines a filter, we can now run it on the simulated data we used before"
   ]
  },
  {
   "cell_type": "code",
   "execution_count": 9,
   "id": "572a6501-3256-416d-860b-11a1ec3a1c83",
   "metadata": {},
   "outputs": [
    {
     "name": "stdout",
     "output_type": "stream",
     "text": [
      "2009-08-24 00:20:09 Calculated filtered trace BW.RJOB..EHZ:BW.RJOB..EHZ | 2009-08-24T00:20:03.000000Z - 2009-08-24T00:20:08.990000Z | 100.0 Hz, 600 samples\n",
      "2009-08-24 00:20:09 Calculated filtered trace BW.RJOB..EHN:BW.RJOB..EHN | 2009-08-24T00:20:03.000000Z - 2009-08-24T00:20:08.990000Z | 100.0 Hz, 600 samples\n",
      "2009-08-24 00:20:09 Calculated filtered trace BW.RJOB..EHE:BW.RJOB..EHE | 2009-08-24T00:20:03.000000Z - 2009-08-24T00:20:08.990000Z | 100.0 Hz, 600 samples\n",
      "2009-08-24 00:20:15 Calculated filtered trace BW.RJOB..EHZ:BW.RJOB..EHZ | 2009-08-24T00:20:09.000000Z - 2009-08-24T00:20:14.990000Z | 100.0 Hz, 600 samples\n",
      "2009-08-24 00:20:15 Calculated filtered trace BW.RJOB..EHN:BW.RJOB..EHN | 2009-08-24T00:20:09.000000Z - 2009-08-24T00:20:14.990000Z | 100.0 Hz, 600 samples\n",
      "2009-08-24 00:20:15 Calculated filtered trace BW.RJOB..EHE:BW.RJOB..EHE | 2009-08-24T00:20:09.000000Z - 2009-08-24T00:20:14.990000Z | 100.0 Hz, 600 samples\n",
      "2009-08-24 00:20:21 Calculated filtered trace BW.RJOB..EHZ:BW.RJOB..EHZ | 2009-08-24T00:20:15.000000Z - 2009-08-24T00:20:20.990000Z | 100.0 Hz, 600 samples\n",
      "2009-08-24 00:20:21 Calculated filtered trace BW.RJOB..EHN:BW.RJOB..EHN | 2009-08-24T00:20:15.000000Z - 2009-08-24T00:20:20.990000Z | 100.0 Hz, 600 samples\n",
      "2009-08-24 00:20:21 Calculated filtered trace BW.RJOB..EHE:BW.RJOB..EHE | 2009-08-24T00:20:15.000000Z - 2009-08-24T00:20:20.990000Z | 100.0 Hz, 600 samples\n",
      "2009-08-24 00:20:27 Calculated filtered trace BW.RJOB..EHZ:BW.RJOB..EHZ | 2009-08-24T00:20:21.000000Z - 2009-08-24T00:20:26.990000Z | 100.0 Hz, 600 samples\n",
      "2009-08-24 00:20:27 Calculated filtered trace BW.RJOB..EHN:BW.RJOB..EHN | 2009-08-24T00:20:21.000000Z - 2009-08-24T00:20:26.990000Z | 100.0 Hz, 600 samples\n",
      "2009-08-24 00:20:27 Calculated filtered trace BW.RJOB..EHE:BW.RJOB..EHE | 2009-08-24T00:20:21.000000Z - 2009-08-24T00:20:26.990000Z | 100.0 Hz, 600 samples\n",
      "2009-08-24 00:20:33 Calculated filtered trace BW.RJOB..EHZ:BW.RJOB..EHZ | 2009-08-24T00:20:27.000000Z - 2009-08-24T00:20:32.990000Z | 100.0 Hz, 600 samples\n",
      "2009-08-24 00:20:33 Calculated filtered trace BW.RJOB..EHN:BW.RJOB..EHN | 2009-08-24T00:20:27.000000Z - 2009-08-24T00:20:32.990000Z | 100.0 Hz, 600 samples\n",
      "2009-08-24 00:20:33 Calculated filtered trace BW.RJOB..EHE:BW.RJOB..EHE | 2009-08-24T00:20:27.000000Z - 2009-08-24T00:20:32.990000Z | 100.0 Hz, 600 samples\n"
     ]
    }
   ],
   "source": [
    "@csp.graph\n",
    "def print_filtered_slices(st: Stream, freqmin: float, freqmax: float):\n",
    "    sim = trace_sim(st, interval=timedelta(seconds=5), lag=timedelta(seconds=0.01))\n",
    "    for k, tr in sim.items():\n",
    "        filtered = bandpass_filter_ts(tr, freqmin, freqmax)\n",
    "        csp.print(f\"Calculated filtered trace {k}\", filtered)\n",
    "        csp.add_graph_output(k, filtered)\n",
    "\n",
    "freqmin = 1\n",
    "freqmax = 20\n",
    "st = read()\n",
    "starttime = st[0].stats.starttime.datetime\n",
    "filter_out = csp.run(print_filtered_slices, st, freqmin=freqmin, freqmax=freqmax, starttime=starttime)"
   ]
  },
  {
   "cell_type": "markdown",
   "id": "76ba7e1d-f72e-4b34-80d0-717b6219741e",
   "metadata": {},
   "source": [
    "#### Comparison\n",
    "How can we compare the filtered time series of observations with the native lowpass filter functionality that comes with `obspy` that operates on a single Trace? \n",
    "\n",
    "First we need to collect the pieces back into a single Trace. We could write a csp node that maintains a `Trace` with all the past history, but to keep things simple, we will just collect it in post-processing"
   ]
  },
  {
   "cell_type": "code",
   "execution_count": 10,
   "id": "ff69cc6d-5a21-4cf7-8c17-8bdae13e6ae7",
   "metadata": {},
   "outputs": [],
   "source": [
    "st_filt_csp = Stream([Stream([v[1] for v in values]).merge()[0] for names, values in filter_out.items()])"
   ]
  },
  {
   "cell_type": "markdown",
   "id": "32ce8c88-5912-4871-8d9e-a0ccad05aba4",
   "metadata": {},
   "source": [
    "Now we can compute the same filter using the native `obspy` function"
   ]
  },
  {
   "cell_type": "code",
   "execution_count": 11,
   "id": "9cab1e2c-e6e6-441c-b230-8d69d3cc7930",
   "metadata": {},
   "outputs": [],
   "source": [
    "st_filt_obspy = st.copy().filter(\"bandpass\", freqmin=freqmin, freqmax=freqmax)"
   ]
  },
  {
   "cell_type": "markdown",
   "id": "37aecd7e-1ecf-4400-a294-a3d8867b5a20",
   "metadata": {},
   "source": [
    "...and lastly we check that they match!"
   ]
  },
  {
   "cell_type": "code",
   "execution_count": 12,
   "id": "3a719fc5-0a0b-4fd1-b376-532d1611b883",
   "metadata": {},
   "outputs": [],
   "source": [
    "for i in range(len(st)):\n",
    "    np.testing.assert_array_equal(st_filt_csp[i].data, st_filt_obspy[i].data)"
   ]
  },
  {
   "cell_type": "markdown",
   "id": "c1bbb9a7-0218-4345-bbef-9767887ba66e",
   "metadata": {},
   "source": [
    "### Triggering"
   ]
  },
  {
   "cell_type": "markdown",
   "id": "4ad831fe-9229-4f53-98c9-fc5a3b8d3a2c",
   "metadata": {},
   "source": [
    "Triggering is used for seismic event detection. See the `obspy` [documentation](https://docs.obspy.org/packages/obspy.signal.html#trigger) for an example of how to do this in a batch context.\n",
    "\n",
    "A very simple methodology is to take the ratio of long term and short term moving averages of the magnitudes of the signal (i.e. STA/LTA), called the \"characteristic function\". We can use the functionality in `csp.stats` to implement this:"
   ]
  },
  {
   "cell_type": "code",
   "execution_count": 13,
   "id": "3d49a519-8fdf-4501-beb3-42863ad68db6",
   "metadata": {},
   "outputs": [],
   "source": [
    "@csp.graph\n",
    "def sta_lta_ts(trace: ts[Trace], nsta: int, nlta: int) -> ts[float]:\n",
    "    # In the line below, we extract the data from each Trace mini-batch and \"unroll\" the data so that we can process it in sequence with csp.\n",
    "    # Thus, on each tick of trace we will immediately process a batch of the past observations, but one at a time. \n",
    "    inputs = csp.unroll(csp.apply(trace, lambda tr: tr.data.tolist(), List[float]))\n",
    "    square = inputs**2\n",
    "    sta = csp.stats.ema(square, alpha=1./nsta, min_periods=nlta, adjust=False)\n",
    "    lta = csp.stats.ema(square, alpha=1./nlta, min_periods=nlta, adjust=False)\n",
    "    # (Optional) Return zero if sta/lta hasn't ticked yet (due to the window not being full). We do this to reconcile more closely with the obspy behavior. \n",
    "    return csp.merge(sta/lta, csp.sample(square, csp.const(0)))"
   ]
  },
  {
   "cell_type": "markdown",
   "id": "9d3cc4ae-e798-487a-84df-66fb0b35a5ce",
   "metadata": {},
   "source": [
    "With the sta_lta_ts graph defined above, we can test it out against the example from obspy. \n",
    "\n",
    "First, we set up the parameters:"
   ]
  },
  {
   "cell_type": "code",
   "execution_count": 14,
   "id": "fdf76c8f-f95b-4a7d-8147-6fab367ad017",
   "metadata": {},
   "outputs": [],
   "source": [
    "st = read()\n",
    "tr = st.select(component=\"Z\")[0]\n",
    "sta = 0.5\n",
    "lta = 4\n",
    "nsta = int(sta * tr.stats.sampling_rate)\n",
    "nlta = int(lta * tr.stats.sampling_rate)"
   ]
  },
  {
   "cell_type": "markdown",
   "id": "665f9831-2cab-4264-b7b0-2d56b3888ce7",
   "metadata": {},
   "source": [
    "Now we compute the characteristic function using a `csp`-based approach.\n",
    "\n",
    "Here we define the edges outside the graph, and run the characteristic function edge with `csp.run` and use the option `output_numpy` to put the sequence of results in a numpy array, so it can be directly compared with the `obspy` batch approach. However, note that because we are running the logic through the csp engine, even though we are comparing batch outputs, csp will be able to produce intermediate outputs as soon as they are available, which is required for real-time."
   ]
  },
  {
   "cell_type": "code",
   "execution_count": 15,
   "id": "ade931cc-c869-454d-b413-7f0c1eb61868",
   "metadata": {},
   "outputs": [],
   "source": [
    "starttime = st[0].stats.starttime.datetime\n",
    "tr_filt = bandpass_filter_ts(\n",
    "        trace_sim(\n",
    "            st, \n",
    "            interval=timedelta(seconds=5),  # Assume we receive new data every 5 seconds \n",
    "            lag=timedelta(seconds=0.01))[\"BW.RJOB..EHZ\"], # Assume data is delayed some tiny amount\n",
    "        freqmin=1, \n",
    "        freqmax=20)\n",
    "timestamps_csp, cft_csp = csp.run(sta_lta_ts(tr_filt, nsta, nlta), starttime=starttime, output_numpy=True)[0]"
   ]
  },
  {
   "cell_type": "markdown",
   "id": "7383cf51-a1a3-4949-9317-d2ccfe1aac98",
   "metadata": {},
   "source": [
    "#### Comparison\n",
    "Now we compute the same thing via the `obspy` batch approach:"
   ]
  },
  {
   "cell_type": "code",
   "execution_count": 16,
   "id": "4aa7f47b-2c52-4178-b344-d2a3d0c64f17",
   "metadata": {},
   "outputs": [],
   "source": [
    "from obspy.signal.trigger import recursive_sta_lta_py\n",
    "tr = tr.copy().filter(\"bandpass\", freqmin=1, freqmax=20)  \n",
    "cft = recursive_sta_lta_py(tr.data, nsta, nlta)"
   ]
  },
  {
   "cell_type": "markdown",
   "id": "8aec8f44-bd26-46e7-9185-faca71aab82b",
   "metadata": {},
   "source": [
    "We do a quick plot of both characteristic functions to see how closely they match:"
   ]
  },
  {
   "cell_type": "code",
   "execution_count": 17,
   "id": "fff047ae-04b7-4137-bc51-cf06bde6fc00",
   "metadata": {},
   "outputs": [
    {
     "data": {
      "text/plain": [
       "<Axes: >"
      ]
     },
     "execution_count": 17,
     "metadata": {},
     "output_type": "execute_result"
    },
    {
     "data": {
      "image/png": "[encoded data removed]",
      "text/plain": [
       "<Figure size 640x480 with 1 Axes>"
      ]
     },
     "metadata": {},
     "output_type": "display_data"
    }
   ],
   "source": [
    "pd.DataFrame({\"cft_csp\":cft_csp, \"cft\":cft}).plot()"
   ]
  },
  {
   "cell_type": "markdown",
   "id": "e9159847-c974-4e0a-a0f6-66de8b5c3f2e",
   "metadata": {},
   "source": [
    "It is now very straightforward to write the actual triggering logic based on the characteristic function in csp; logic that will work just as well in real time as on historical data"
   ]
  },
  {
   "cell_type": "code",
   "execution_count": 18,
   "id": "59d26a94-74cf-405f-b2cb-6259608f8302",
   "metadata": {},
   "outputs": [],
   "source": [
    "@csp.node\n",
    "def trigger_node(cft: ts[float], thrOn: float, thrOff: float) -> ts[bool]:\n",
    "    with csp.state():\n",
    "        s_on: bool = False\n",
    "    if not s_on and cft > thrOn:\n",
    "        s_on = True\n",
    "        return s_on\n",
    "    elif s_on and cft< thrOff:\n",
    "        s_on = False\n",
    "        return s_on"
   ]
  },
  {
   "cell_type": "markdown",
   "id": "e6d31a5f-317a-42ab-8a9d-50ecb01cf2e9",
   "metadata": {},
   "source": [
    "Given some thresholds, we can now run this (in simulation mode) and print the status of the trigger when it changes"
   ]
  },
  {
   "cell_type": "code",
   "execution_count": 19,
   "id": "9a7a1c17-257c-4f41-84d6-8f681e168bdc",
   "metadata": {},
   "outputs": [
    {
     "name": "stdout",
     "output_type": "stream",
     "text": [
      "2009-08-24 00:20:09 Trace:BW.RJOB..EHZ | 2009-08-24T00:20:03.000000Z - 2009-08-24T00:20:08.990000Z | 100.0 Hz, 600 samples\n",
      "2009-08-24 00:20:09 Trigger On?:True\n",
      "2009-08-24 00:20:15 Trace:BW.RJOB..EHZ | 2009-08-24T00:20:09.000000Z - 2009-08-24T00:20:14.990000Z | 100.0 Hz, 600 samples\n",
      "2009-08-24 00:20:15 Trigger On?:False\n",
      "2009-08-24 00:20:21 Trace:BW.RJOB..EHZ | 2009-08-24T00:20:15.000000Z - 2009-08-24T00:20:20.990000Z | 100.0 Hz, 600 samples\n",
      "2009-08-24 00:20:27 Trace:BW.RJOB..EHZ | 2009-08-24T00:20:21.000000Z - 2009-08-24T00:20:26.990000Z | 100.0 Hz, 600 samples\n",
      "2009-08-24 00:20:33 Trace:BW.RJOB..EHZ | 2009-08-24T00:20:27.000000Z - 2009-08-24T00:20:32.990000Z | 100.0 Hz, 600 samples\n"
     ]
    }
   ],
   "source": [
    "thrOn = 4\n",
    "thrOff = 0.7\n",
    "@csp.graph\n",
    "def print_trace_and_trigger(tr_filt: ts[Trace]):\n",
    "    csp.print(\"Trace\", tr_filt)\n",
    "    csp.print(\"Trigger On?\", trigger_node(sta_lta_ts(tr_filt, nsta, nlta), thrOn, thrOff))\n",
    "csp.run(print_trace_and_trigger, tr_filt, starttime=starttime)"
   ]
  },
  {
   "cell_type": "markdown",
   "id": "0bf4c853-bea1-4d9c-adbd-3cfe04b259eb",
   "metadata": {},
   "source": [
    "Note that we will only be notified of trigger changes when we receive a new Trace update with a batch of data. In this case, we have divided up the trace observations into 5 second intervals, so our detection will not be more granular than that. We could also look at the timestamps within the Trace to find exactly when the condition changed, but it would not change the time that we learn about it given how data is transmitted.\n",
    "\n",
    "This is an important consideration when using historical data to design real-time algorithms. By only analyzing the batch data, one might accidentally make assumptions about how quickly you can respond to changing conditions that are not possible in actuality. With a tool like `csp`, it is easy to simulate/model how data arrives in real time for historical analysis, which leads to a closer correspondence between research and live usage.\n",
    "\n",
    "For comparison, below is the trigger chart produced by `obspy`. Note that it turns \"On\" at approximately `00:20:08` and off at approximately `00:20:13` (i.e. 5 and 10 seconds after `00:20:03`, the Trace start time)."
   ]
  },
  {
   "cell_type": "code",
   "execution_count": 20,
   "id": "a6373aaa-1347-489f-b9c8-40dde0ff8f6e",
   "metadata": {},
   "outputs": [
    {
     "data": {
      "image/png": "[encoded data removed]",
      "text/plain": [
       "<Figure size 640x480 with 2 Axes>"
      ]
     },
     "metadata": {},
     "output_type": "display_data"
    }
   ],
   "source": [
    "from obspy.signal.trigger import plot_trigger, trigger_onset\n",
    "thrOn = 4\n",
    "thrOff = 0.7\n",
    "plot_trigger(tr, cft, thrOn, thrOff) "
   ]
  },
  {
   "cell_type": "markdown",
   "id": "add4aff2-b0f5-458e-b8d0-35c2883a76eb",
   "metadata": {},
   "source": [
    "## Historical Data\n",
    "In this section, we build a simple graph to pull historical data from FDSN and feed it through csp. It is straightforward to apply the filtering and triggering logic from the previous section to these outputs."
   ]
  },
  {
   "cell_type": "code",
   "execution_count": 21,
   "id": "70cd2af1-b891-4873-ad8b-5a65bf12e495",
   "metadata": {},
   "outputs": [],
   "source": [
    "from obspy.clients.fdsn import Client\n",
    "\n",
    "@csp.graph\n",
    "def fdsn_waveforms(\n",
    "    client: Client,\n",
    "    network: str,\n",
    "    station: str,\n",
    "    location: str,\n",
    "    channel: str,\n",
    "    interval: timedelta,\n",
    "    lag: timedelta = timedelta(0),\n",
    "    starttime: Optional[datetime] = None,\n",
    "    endtime: Optional[datetime] = None,\n",
    "    quality: Optional[str] = None,\n",
    "    minimumlength: Optional[str] = None,\n",
    "    longestonly: Optional[bool] = None,\n",
    "    attach_response: bool = False,\n",
    ") -> Dict[str, ts[Trace]]:\n",
    "    \"\"\"Wraps the get_waveform function in obspy behind a csp adapter. Waveforms are divided into periods of length given\n",
    "    by interval, to simulate \"real time\" arrival\n",
    "    https://docs.obspy.org/packages/autogen/obspy.clients.fdsn.client.Client.get_waveforms.html#obspy.clients.fdsn.client.Client.get_waveforms\n",
    "    \"\"\"\n",
    "    starttime = UTCDateTime(starttime or csp.engine_start_time())\n",
    "    endtime = UTCDateTime(endtime or csp.engine_end_time())\n",
    "    stream = client.get_waveforms(\n",
    "        network,\n",
    "        station,\n",
    "        location,\n",
    "        channel,\n",
    "        starttime,\n",
    "        endtime,\n",
    "        quality=quality,\n",
    "        minimumlength=minimumlength,\n",
    "        longestonly=longestonly,\n",
    "        attach_response=attach_response,\n",
    "    )\n",
    "    return trace_sim(stream, interval=interval, lag=lag)"
   ]
  },
  {
   "cell_type": "code",
   "execution_count": 22,
   "id": "660b7565-4b76-40f9-8ab2-d977972dbdb4",
   "metadata": {},
   "outputs": [
    {
     "name": "stdout",
     "output_type": "stream",
     "text": [
      "2012-12-14 10:41:05.774998 TA.E42A..BHE:TA.E42A..BHE | 2012-12-14T10:41:01.624998Z - 2012-12-14T10:41:05.774998Z | 40.0 Hz, 167 samples\n",
      "2012-12-14 10:41:05.774998 TA.E42A..BHN:TA.E42A..BHN | 2012-12-14T10:41:01.624998Z - 2012-12-14T10:41:05.774998Z | 40.0 Hz, 167 samples\n",
      "2012-12-14 10:41:05.774998 TA.E42A..BHZ:TA.E42A..BHZ | 2012-12-14T10:41:01.624998Z - 2012-12-14T10:41:05.774998Z | 40.0 Hz, 167 samples\n",
      "2012-12-14 10:41:09.949998 TA.E42A..BHE:TA.E42A..BHE | 2012-12-14T10:41:05.799998Z - 2012-12-14T10:41:09.949998Z | 40.0 Hz, 167 samples\n",
      "2012-12-14 10:41:09.949998 TA.E42A..BHN:TA.E42A..BHN | 2012-12-14T10:41:05.799998Z - 2012-12-14T10:41:09.949998Z | 40.0 Hz, 167 samples\n",
      "2012-12-14 10:41:09.949998 TA.E42A..BHZ:TA.E42A..BHZ | 2012-12-14T10:41:05.799998Z - 2012-12-14T10:41:09.949998Z | 40.0 Hz, 167 samples\n",
      "2012-12-14 10:41:14.124998 TA.E42A..BHE:TA.E42A..BHE | 2012-12-14T10:41:09.974998Z - 2012-12-14T10:41:14.124998Z | 40.0 Hz, 167 samples\n",
      "2012-12-14 10:41:14.124998 TA.E42A..BHN:TA.E42A..BHN | 2012-12-14T10:41:09.974998Z - 2012-12-14T10:41:14.124998Z | 40.0 Hz, 167 samples\n",
      "2012-12-14 10:41:14.124998 TA.E42A..BHZ:TA.E42A..BHZ | 2012-12-14T10:41:09.974998Z - 2012-12-14T10:41:14.124998Z | 40.0 Hz, 167 samples\n",
      "2012-12-14 10:41:18.299998 TA.E42A..BHE:TA.E42A..BHE | 2012-12-14T10:41:14.149998Z - 2012-12-14T10:41:18.299998Z | 40.0 Hz, 167 samples\n",
      "2012-12-14 10:41:18.299998 TA.E42A..BHN:TA.E42A..BHN | 2012-12-14T10:41:14.149998Z - 2012-12-14T10:41:18.299998Z | 40.0 Hz, 167 samples\n",
      "2012-12-14 10:41:18.299998 TA.E42A..BHZ:TA.E42A..BHZ | 2012-12-14T10:41:14.149998Z - 2012-12-14T10:41:18.299998Z | 40.0 Hz, 167 samples\n",
      "2012-12-14 10:41:22.474998 TA.E42A..BHE:TA.E42A..BHE | 2012-12-14T10:41:18.324998Z - 2012-12-14T10:41:22.474998Z | 40.0 Hz, 167 samples\n",
      "2012-12-14 10:41:22.474998 TA.E42A..BHN:TA.E42A..BHN | 2012-12-14T10:41:18.324998Z - 2012-12-14T10:41:22.474998Z | 40.0 Hz, 167 samples\n",
      "2012-12-14 10:41:22.474998 TA.E42A..BHZ:TA.E42A..BHZ | 2012-12-14T10:41:18.324998Z - 2012-12-14T10:41:22.474998Z | 40.0 Hz, 167 samples\n",
      "2012-12-14 10:41:26.649998 TA.E42A..BHE:TA.E42A..BHE | 2012-12-14T10:41:22.499998Z - 2012-12-14T10:41:26.649998Z | 40.0 Hz, 167 samples\n",
      "2012-12-14 10:41:26.649998 TA.E42A..BHN:TA.E42A..BHN | 2012-12-14T10:41:22.499998Z - 2012-12-14T10:41:26.649998Z | 40.0 Hz, 167 samples\n",
      "2012-12-14 10:41:26.649998 TA.E42A..BHZ:TA.E42A..BHZ | 2012-12-14T10:41:22.499998Z - 2012-12-14T10:41:26.649998Z | 40.0 Hz, 167 samples\n",
      "2012-12-14 10:41:30.824998 TA.E42A..BHE:TA.E42A..BHE | 2012-12-14T10:41:26.674998Z - 2012-12-14T10:41:30.824998Z | 40.0 Hz, 167 samples\n",
      "2012-12-14 10:41:30.824998 TA.E42A..BHN:TA.E42A..BHN | 2012-12-14T10:41:26.674998Z - 2012-12-14T10:41:30.824998Z | 40.0 Hz, 167 samples\n",
      "2012-12-14 10:41:30.824998 TA.E42A..BHZ:TA.E42A..BHZ | 2012-12-14T10:41:26.674998Z - 2012-12-14T10:41:30.824998Z | 40.0 Hz, 167 samples\n",
      "2012-12-14 10:41:34.999998 TA.E42A..BHE:TA.E42A..BHE | 2012-12-14T10:41:30.849998Z - 2012-12-14T10:41:34.999998Z | 40.0 Hz, 167 samples\n",
      "2012-12-14 10:41:34.999998 TA.E42A..BHN:TA.E42A..BHN | 2012-12-14T10:41:30.849998Z - 2012-12-14T10:41:34.999998Z | 40.0 Hz, 167 samples\n",
      "2012-12-14 10:41:34.999998 TA.E42A..BHZ:TA.E42A..BHZ | 2012-12-14T10:41:30.849998Z - 2012-12-14T10:41:34.999998Z | 40.0 Hz, 167 samples\n",
      "2012-12-14 10:41:39.174998 TA.E42A..BHE:TA.E42A..BHE | 2012-12-14T10:41:35.024998Z - 2012-12-14T10:41:39.174998Z | 40.0 Hz, 167 samples\n",
      "2012-12-14 10:41:39.174998 TA.E42A..BHN:TA.E42A..BHN | 2012-12-14T10:41:35.024998Z - 2012-12-14T10:41:39.174998Z | 40.0 Hz, 167 samples\n",
      "2012-12-14 10:41:39.174998 TA.E42A..BHZ:TA.E42A..BHZ | 2012-12-14T10:41:35.024998Z - 2012-12-14T10:41:39.174998Z | 40.0 Hz, 167 samples\n",
      "2012-12-14 10:41:43.349998 TA.E42A..BHE:TA.E42A..BHE | 2012-12-14T10:41:39.199998Z - 2012-12-14T10:41:43.349998Z | 40.0 Hz, 167 samples\n",
      "2012-12-14 10:41:43.349998 TA.E42A..BHN:TA.E42A..BHN | 2012-12-14T10:41:39.199998Z - 2012-12-14T10:41:43.349998Z | 40.0 Hz, 167 samples\n",
      "2012-12-14 10:41:43.349998 TA.E42A..BHZ:TA.E42A..BHZ | 2012-12-14T10:41:39.199998Z - 2012-12-14T10:41:43.349998Z | 40.0 Hz, 167 samples\n",
      "2012-12-14 10:41:47.524998 TA.E42A..BHE:TA.E42A..BHE | 2012-12-14T10:41:43.374998Z - 2012-12-14T10:41:47.524998Z | 40.0 Hz, 167 samples\n",
      "2012-12-14 10:41:47.524998 TA.E42A..BHN:TA.E42A..BHN | 2012-12-14T10:41:43.374998Z - 2012-12-14T10:41:47.524998Z | 40.0 Hz, 167 samples\n",
      "2012-12-14 10:41:47.524998 TA.E42A..BHZ:TA.E42A..BHZ | 2012-12-14T10:41:43.374998Z - 2012-12-14T10:41:47.524998Z | 40.0 Hz, 167 samples\n",
      "2012-12-14 10:41:51.699998 TA.E42A..BHE:TA.E42A..BHE | 2012-12-14T10:41:47.549998Z - 2012-12-14T10:41:51.699998Z | 40.0 Hz, 167 samples\n",
      "2012-12-14 10:41:51.699998 TA.E42A..BHN:TA.E42A..BHN | 2012-12-14T10:41:47.549998Z - 2012-12-14T10:41:51.699998Z | 40.0 Hz, 167 samples\n",
      "2012-12-14 10:41:51.699998 TA.E42A..BHZ:TA.E42A..BHZ | 2012-12-14T10:41:47.549998Z - 2012-12-14T10:41:51.699998Z | 40.0 Hz, 167 samples\n",
      "2012-12-14 10:41:55.874998 TA.E42A..BHE:TA.E42A..BHE | 2012-12-14T10:41:51.724998Z - 2012-12-14T10:41:55.874998Z | 40.0 Hz, 167 samples\n",
      "2012-12-14 10:41:55.874998 TA.E42A..BHN:TA.E42A..BHN | 2012-12-14T10:41:51.724998Z - 2012-12-14T10:41:55.874998Z | 40.0 Hz, 167 samples\n",
      "2012-12-14 10:41:55.874998 TA.E42A..BHZ:TA.E42A..BHZ | 2012-12-14T10:41:51.724998Z - 2012-12-14T10:41:55.874998Z | 40.0 Hz, 167 samples\n",
      "2012-12-14 10:42:00.049998 TA.E42A..BHE:TA.E42A..BHE | 2012-12-14T10:41:55.899998Z - 2012-12-14T10:42:00.049998Z | 40.0 Hz, 167 samples\n",
      "2012-12-14 10:42:00.049998 TA.E42A..BHN:TA.E42A..BHN | 2012-12-14T10:41:55.899998Z - 2012-12-14T10:42:00.049998Z | 40.0 Hz, 167 samples\n",
      "2012-12-14 10:42:00.049998 TA.E42A..BHZ:TA.E42A..BHZ | 2012-12-14T10:41:55.899998Z - 2012-12-14T10:42:00.049998Z | 40.0 Hz, 167 samples\n",
      "2012-12-14 10:42:04.224998 TA.E42A..BHE:TA.E42A..BHE | 2012-12-14T10:42:00.074998Z - 2012-12-14T10:42:04.224998Z | 40.0 Hz, 167 samples\n",
      "2012-12-14 10:42:04.224998 TA.E42A..BHN:TA.E42A..BHN | 2012-12-14T10:42:00.074998Z - 2012-12-14T10:42:04.224998Z | 40.0 Hz, 167 samples\n",
      "2012-12-14 10:42:04.224998 TA.E42A..BHZ:TA.E42A..BHZ | 2012-12-14T10:42:00.074998Z - 2012-12-14T10:42:04.224998Z | 40.0 Hz, 167 samples\n",
      "2012-12-14 10:42:08.399998 TA.E42A..BHE:TA.E42A..BHE | 2012-12-14T10:42:04.249998Z - 2012-12-14T10:42:08.399998Z | 40.0 Hz, 167 samples\n",
      "2012-12-14 10:42:08.399998 TA.E42A..BHN:TA.E42A..BHN | 2012-12-14T10:42:04.249998Z - 2012-12-14T10:42:08.399998Z | 40.0 Hz, 167 samples\n",
      "2012-12-14 10:42:08.399998 TA.E42A..BHZ:TA.E42A..BHZ | 2012-12-14T10:42:04.249998Z - 2012-12-14T10:42:08.399998Z | 40.0 Hz, 167 samples\n",
      "2012-12-14 10:42:12.574998 TA.E42A..BHE:TA.E42A..BHE | 2012-12-14T10:42:08.424998Z - 2012-12-14T10:42:12.574998Z | 40.0 Hz, 167 samples\n",
      "2012-12-14 10:42:12.574998 TA.E42A..BHN:TA.E42A..BHN | 2012-12-14T10:42:08.424998Z - 2012-12-14T10:42:12.574998Z | 40.0 Hz, 167 samples\n",
      "2012-12-14 10:42:12.574998 TA.E42A..BHZ:TA.E42A..BHZ | 2012-12-14T10:42:08.424998Z - 2012-12-14T10:42:12.574998Z | 40.0 Hz, 167 samples\n",
      "2012-12-14 10:42:16.749998 TA.E42A..BHE:TA.E42A..BHE | 2012-12-14T10:42:12.599998Z - 2012-12-14T10:42:16.749998Z | 40.0 Hz, 167 samples\n",
      "2012-12-14 10:42:16.749998 TA.E42A..BHN:TA.E42A..BHN | 2012-12-14T10:42:12.599998Z - 2012-12-14T10:42:16.749998Z | 40.0 Hz, 167 samples\n",
      "2012-12-14 10:42:16.749998 TA.E42A..BHZ:TA.E42A..BHZ | 2012-12-14T10:42:12.599998Z - 2012-12-14T10:42:16.749998Z | 40.0 Hz, 167 samples\n",
      "2012-12-14 10:42:20.924998 TA.E42A..BHE:TA.E42A..BHE | 2012-12-14T10:42:16.774998Z - 2012-12-14T10:42:20.924998Z | 40.0 Hz, 167 samples\n",
      "2012-12-14 10:42:20.924998 TA.E42A..BHN:TA.E42A..BHN | 2012-12-14T10:42:16.774998Z - 2012-12-14T10:42:20.924998Z | 40.0 Hz, 167 samples\n",
      "2012-12-14 10:42:20.924998 TA.E42A..BHZ:TA.E42A..BHZ | 2012-12-14T10:42:16.774998Z - 2012-12-14T10:42:20.924998Z | 40.0 Hz, 167 samples\n",
      "2012-12-14 10:42:25.099998 TA.E42A..BHE:TA.E42A..BHE | 2012-12-14T10:42:20.949998Z - 2012-12-14T10:42:25.099998Z | 40.0 Hz, 167 samples\n",
      "2012-12-14 10:42:25.099998 TA.E42A..BHN:TA.E42A..BHN | 2012-12-14T10:42:20.949998Z - 2012-12-14T10:42:25.099998Z | 40.0 Hz, 167 samples\n",
      "2012-12-14 10:42:25.099998 TA.E42A..BHZ:TA.E42A..BHZ | 2012-12-14T10:42:20.949998Z - 2012-12-14T10:42:25.099998Z | 40.0 Hz, 167 samples\n",
      "2012-12-14 10:42:29.274998 TA.E42A..BHE:TA.E42A..BHE | 2012-12-14T10:42:25.124998Z - 2012-12-14T10:42:29.274998Z | 40.0 Hz, 167 samples\n",
      "2012-12-14 10:42:29.274998 TA.E42A..BHN:TA.E42A..BHN | 2012-12-14T10:42:25.124998Z - 2012-12-14T10:42:29.274998Z | 40.0 Hz, 167 samples\n",
      "2012-12-14 10:42:29.274998 TA.E42A..BHZ:TA.E42A..BHZ | 2012-12-14T10:42:25.124998Z - 2012-12-14T10:42:29.274998Z | 40.0 Hz, 167 samples\n",
      "2012-12-14 10:42:33.449998 TA.E42A..BHE:TA.E42A..BHE | 2012-12-14T10:42:29.299998Z - 2012-12-14T10:42:33.449998Z | 40.0 Hz, 167 samples\n",
      "2012-12-14 10:42:33.449998 TA.E42A..BHN:TA.E42A..BHN | 2012-12-14T10:42:29.299998Z - 2012-12-14T10:42:33.449998Z | 40.0 Hz, 167 samples\n",
      "2012-12-14 10:42:33.449998 TA.E42A..BHZ:TA.E42A..BHZ | 2012-12-14T10:42:29.299998Z - 2012-12-14T10:42:33.449998Z | 40.0 Hz, 167 samples\n",
      "2012-12-14 10:42:37.624998 TA.E42A..BHE:TA.E42A..BHE | 2012-12-14T10:42:33.474998Z - 2012-12-14T10:42:37.624998Z | 40.0 Hz, 167 samples\n",
      "2012-12-14 10:42:37.624998 TA.E42A..BHN:TA.E42A..BHN | 2012-12-14T10:42:33.474998Z - 2012-12-14T10:42:37.624998Z | 40.0 Hz, 167 samples\n",
      "2012-12-14 10:42:37.624998 TA.E42A..BHZ:TA.E42A..BHZ | 2012-12-14T10:42:33.474998Z - 2012-12-14T10:42:37.624998Z | 40.0 Hz, 167 samples\n",
      "2012-12-14 10:42:41.599998 TA.E42A..BHE:TA.E42A..BHE | 2012-12-14T10:42:37.649998Z - 2012-12-14T10:42:41.599998Z | 40.0 Hz, 159 samples\n",
      "2012-12-14 10:42:41.599998 TA.E42A..BHN:TA.E42A..BHN | 2012-12-14T10:42:37.649998Z - 2012-12-14T10:42:41.599998Z | 40.0 Hz, 159 samples\n",
      "2012-12-14 10:42:41.599998 TA.E42A..BHZ:TA.E42A..BHZ | 2012-12-14T10:42:37.649998Z - 2012-12-14T10:42:41.599998Z | 40.0 Hz, 159 samples\n"
     ]
    }
   ],
   "source": [
    "client = Client(\"IRIS\")\n",
    "t = UTCDateTime(\"2012-12-14T10:36:01.6Z\")\n",
    "starttime = (t + 300).datetime\n",
    "endtime = (t + 400).datetime\n",
    "@csp.graph\n",
    "def graph():\n",
    "    basket = fdsn_waveforms(client, \"TA\", \"E42A\", \"*\", \"BH?\", timedelta(seconds=4))\n",
    "    for k, v in basket.items():\n",
    "        csp.print(k, v)\n",
    "\n",
    "out = csp.run(graph, starttime=starttime, endtime=endtime)"
   ]
  },
  {
   "cell_type": "markdown",
   "id": "85bfc73c-db25-44fa-a0a5-02ac22ca0b5f",
   "metadata": {},
   "source": [
    "## Real-time Data via Seedlink\n",
    "In this section, we build a real time adapter to live waveform data. It is straightforward to apply the filtering and triggering logic from the previous section to these outputs."
   ]
  },
  {
   "cell_type": "markdown",
   "id": "96fc1fee-0d20-45f5-8724-b6905dcbcd54",
   "metadata": {},
   "source": [
    "### Real-time Adapter Definition"
   ]
  },
  {
   "cell_type": "code",
   "execution_count": 23,
   "id": "4808fc0e-53a1-4677-aa28-8542ce8f31f5",
   "metadata": {},
   "outputs": [],
   "source": [
    "import logging\n",
    "import threading\n",
    "from fnmatch import fnmatch\n",
    "from obspy.clients.seedlink.client.seedlinkconnection import SeedLinkConnection\n",
    "from obspy.clients.seedlink.client.slstate import SLState\n",
    "from obspy.clients.seedlink.slpacket import SLPacket\n",
    "from urllib.parse import urlparse\n",
    "\n",
    "from csp.impl.adaptermanager import AdapterManagerImpl\n",
    "from csp.impl.pushadapter import PushInputAdapter\n",
    "from csp.impl.wiring import py_push_adapter_def\n",
    "\n",
    "\n",
    "class EasySeedLinkAdapter:\n",
    "    \"\"\"Real time adapter (technically an adapter manager of push adapters) that manages subscription to multiple seedlink streams for the same connection. \"\"\"\n",
    "    \n",
    "    def __init__(self, server_url: str):\n",
    "        \"\"\" Constructor\n",
    "        \n",
    "        Args:\n",
    "            server_url: The url and port of the seedlink server we connect to.\n",
    "        \"\"\"\n",
    "        self._server_url = server_url\n",
    "        \n",
    "        self._server_url = server_url\n",
    "        parsed_url = urlparse(server_url, scheme=\"seedlink\")\n",
    "        self._conn = SeedLinkConnection()\n",
    "        self._conn.set_sl_address(\"%s:%d\" % (parsed_url.hostname, parsed_url.port or 18000))\n",
    "\n",
    "        # We will keep track of requested input adapters here\n",
    "        self._inputs = {}\n",
    "\n",
    "        # Out driving thread, all  realtime adapters will need a separate thread of execution that drives data into the engine thread\n",
    "        self._running = False\n",
    "        self._thread = None\n",
    "        self._starttime = None\n",
    "        self._endtime = None\n",
    "\n",
    "    def subscribe(self, network, station, selector=None, push_mode=csp.PushMode.NON_COLLAPSING):\n",
    "        \"\"\"User facing API to subscribe to a timeseries stream from this adapter manager\"\"\"\n",
    "        # This will return a graph-time timeseries edge representing and edge from this adapter manager for the given symbol / arguments\n",
    "        return _easy_seedlink_adapter(self, network, station, selector, push_mode=push_mode)\n",
    "\n",
    "    def _create(self, engine, memo):\n",
    "        \"\"\"This method will get called at engine build time, at which point the graph time manager representation\n",
    "        will create the actual impl that will be used for runtime\n",
    "        \"\"\"\n",
    "        return _EasySeedLinkAdapterManagerImpl(engine, self._server_url)\n",
    "\n",
    "\n",
    "class _EasySeedLinkAdapterManagerImpl(AdapterManagerImpl):\n",
    "    \"\"\" This is the implementation of the Adapter Manager, which is shared across multiple adapter implementations \"\"\"\n",
    "    \n",
    "    def __init__(self, engine, server_url: str):\n",
    "        super().__init__(engine)\n",
    "        parsed_url = urlparse(server_url, scheme=\"seedlink\")\n",
    "        self._conn = SeedLinkConnection()\n",
    "        self._conn.set_sl_address(\"%s:%d\" % (parsed_url.hostname, parsed_url.port or 18000))\n",
    "\n",
    "        # We will keep track of requested input adapters here\n",
    "        self._inputs = {}\n",
    "\n",
    "        # Out driving thread, all  realtime adapters will need a separate thread of execution that drives data into the engine thread\n",
    "        self._running = False\n",
    "        self._thread = None\n",
    "        self._starttime = None\n",
    "        self._endtime = None\n",
    "        \n",
    "    def start(self, starttime, endtime):\n",
    "        \"\"\"start will get called at the start of the engine run.  At this point one would start up the realtime data source / spawn the driving \n",
    "        thread(s) and subscribe to the needed data\"\"\"\n",
    "        self._running = True\n",
    "        self._starttime = starttime\n",
    "        self._endtime = endtime\n",
    "        # Set the start time on the connection, in case it is in the past\n",
    "        self._conn.set_begin_time(UTCDateTime(starttime))\n",
    "        self._conn.set_end_time(UTCDateTime(endtime))\n",
    "        self._thread = threading.Thread(target=self._run)\n",
    "        self._thread.start()\n",
    "\n",
    "    def stop(self):\n",
    "        \"\"\"This will be called at the end of the engine run, at which point resources should be closed and cleaned up\"\"\"\n",
    "        if self._running:            \n",
    "            self._running = False\n",
    "            self._thread.join()\n",
    "\n",
    "    def register_input_adapter(self, network, station, selector, adapter):\n",
    "        \"\"\"Actual PushInputAdapters will self register when they are created as part of the engine\n",
    "        This is the place we gather all requested input adapters and their properties\n",
    "        \"\"\"\n",
    "        symbol = (network, station, selector)\n",
    "        if symbol not in self._inputs:\n",
    "            self._inputs[symbol] = []\n",
    "        # Keep a list of adapters by key in case we get duplicate adapters ( should be memoized in reality )\n",
    "        self._inputs[symbol].append(adapter)\n",
    "\n",
    "    def process_next_sim_timeslice(self, now):\n",
    "        \"\"\"This method is only used by simulated / historical adapters, for realtime we just return None\"\"\"\n",
    "        return None\n",
    "\n",
    "    def _run(self):\n",
    "        \"\"\"Our driving thread, in reality this will be reacting to external events, parsing the data and pushing it into the respective adapter\"\"\"\n",
    "        # Connect\n",
    "        self._conn.connect()\n",
    "        self._conn.state.state = SLState.SL_UP\n",
    "\n",
    "        # Add streams\n",
    "        for network, station, selector in self._inputs:\n",
    "            self._conn.add_stream(network, station, selector, seqnum=-1, timestamp=None)\n",
    "\n",
    "        while self._running:\n",
    "            data = self._conn.collect()\n",
    "            if data == SLPacket.SLTERMINATE:\n",
    "                break\n",
    "            elif data == SLPacket.SLERROR:\n",
    "                continue\n",
    "                \n",
    "            if data.get_type() not in (SLPacket.TYPE_SLINF, SLPacket.TYPE_SLINFT):\n",
    "                trace = data.get_trace()\n",
    "                for (network, station, selector), adapters in self._inputs.items():\n",
    "                    if (\n",
    "                        fnmatch(trace.stats.network, network)\n",
    "                        and fnmatch(trace.stats.station, station)\n",
    "                        and (selector and fnmatch(trace.stats.channel, selector))\n",
    "                    ):\n",
    "                        for adapter in adapters:\n",
    "                            adapter.push_tick(trace)\n",
    "        self._conn.close()\n",
    "\n",
    "\n",
    "class _EasySeedLinkAdapterImpl(PushInputAdapter):\n",
    "    \"\"\"Our input adapter is a very simple implementation, and just defers its work back to the manager who is expected to deal with sharing a single connection.\"\"\"\n",
    "    def __init__(self, manager_impl, network, station, selector):\n",
    "        manager_impl.register_input_adapter(network, station, selector, self)\n",
    "        super().__init__()\n",
    "\n",
    "\n",
    "_easy_seedlink_adapter = py_push_adapter_def(\n",
    "    name=\"_easy_seedlink_adapter\",\n",
    "    adapterimpl=_EasySeedLinkAdapterImpl,\n",
    "    out_type=ts[Trace],\n",
    "    manager_type=EasySeedLinkAdapter,\n",
    "    network=str,\n",
    "    station=str,\n",
    "    selector=str,\n",
    ")"
   ]
  },
  {
   "cell_type": "markdown",
   "id": "a19a157b-a710-4207-aed6-9fae4c53324f",
   "metadata": {},
   "source": [
    "### Real-time Adapter Usage"
   ]
  },
  {
   "cell_type": "markdown",
   "id": "68787e58-ea87-49be-b176-40fced75ad1f",
   "metadata": {},
   "source": [
    "Now that we've defined the adapter, we demonstrate it's use before. For simplicity, we just output the raw trace data, but note that our adapter supports wildcard subscriptions to make it easier to subscribe to multiple channels and stations at once! Note how the data arrives in mini-batches of trace, similar to how we simulated it above. One major difference is that the batches are not all exactly the same length, even for the same channel. However, none of the logic we implemented for triggering/filtering assumes that the batches are of equal length. "
   ]
  },
  {
   "cell_type": "code",
   "execution_count": 24,
   "id": "0330a3c9-a95a-4ea1-ba88-b0ddf65a5964",
   "metadata": {},
   "outputs": [],
   "source": [
    "@csp.graph\n",
    "def rt_graph(address: str, symbols: List[Tuple[str, str, Optional[str]]]):\n",
    "    adapter_manager = EasySeedLinkAdapter(address)\n",
    "    for symbol in symbols:\n",
    "        data = adapter_manager.subscribe(*symbol)\n",
    "        csp.log(logging.INFO, f\"{symbol}\", data)"
   ]
  },
  {
   "cell_type": "code",
   "execution_count": 25,
   "id": "d298361e-2337-4633-bc4a-4bbae53ea756",
   "metadata": {},
   "outputs": [
    {
     "name": "stdout",
     "output_type": "stream",
     "text": [
      "[2024-06-06 09:39:56,603] INFO: network socket opened\n",
      "[2024-06-06 09:39:56,792] INFO: connected to: 'SeedLink v3.1 (2020.075 RingServer) :: SLPROTO:3.1 CAP EXTREPLY NSWILDCARD BATCH WS:13'\n",
      "[2024-06-06 09:39:56,936] INFO: requesting specified time window\n",
      "[2024-06-06 09:39:57,146] INFO: requesting specified time window\n",
      "[2024-06-06 09:39:57,217] INFO: 2 station(s) accepted\n",
      "[2024-06-06 09:39:57,299] INFO: 2024-06-06 13:39:57.299195 ('LD', 'PAL', '??Z'):LD.PAL..HNZ | 2024-06-06T13:38:54.124538Z - 2024-06-06T13:38:57.239538Z | 200.0 Hz, 624 samples\n",
      "[2024-06-06 09:39:57,301] INFO: 2024-06-06 13:39:57.301867 ('LD', 'PAL', '??Z'):LD.PAL..HNZ | 2024-06-06T13:38:57.244538Z - 2024-06-06T13:39:00.289538Z | 200.0 Hz, 610 samples\n",
      "[2024-06-06 09:39:57,305] INFO: 2024-06-06 13:39:57.305381 ('LD', 'PAL', '??Z'):LD.PAL..HNZ | 2024-06-06T13:39:00.294538Z - 2024-06-06T13:39:03.399538Z | 200.0 Hz, 622 samples\n",
      "[2024-06-06 09:39:57,307] INFO: 2024-06-06 13:39:57.307313 ('LD', 'PAL', '??Z'):LD.PAL..HNZ | 2024-06-06T13:39:03.404539Z - 2024-06-06T13:39:06.469539Z | 200.0 Hz, 614 samples\n",
      "[2024-06-06 09:39:57,308] INFO: 2024-06-06 13:39:57.308932 ('LD', 'PAL', '??Z'):LD.PAL..HNZ | 2024-06-06T13:39:06.474538Z - 2024-06-06T13:39:09.549538Z | 200.0 Hz, 616 samples\n",
      "[2024-06-06 09:39:57,310] INFO: 2024-06-06 13:39:57.310007 ('LD', 'PAL', '??Z'):LD.PAL..HNZ | 2024-06-06T13:39:09.554539Z - 2024-06-06T13:39:12.639539Z | 200.0 Hz, 618 samples\n",
      "[2024-06-06 09:39:57,310] INFO: 2024-06-06 13:39:57.310837 ('LD', 'PAL', '??Z'):LD.PAL..HNZ | 2024-06-06T13:39:12.644539Z - 2024-06-06T13:39:15.699539Z | 200.0 Hz, 612 samples\n",
      "[2024-06-06 09:39:57,312] INFO: 2024-06-06 13:39:57.312439 ('LD', 'PAL', '??Z'):LD.PAL..HNZ | 2024-06-06T13:39:15.704539Z - 2024-06-06T13:39:18.724539Z | 200.0 Hz, 605 samples\n",
      "[2024-06-06 09:39:57,313] INFO: 2024-06-06 13:39:57.313254 ('LD', 'PAL', '??Z'):LD.PAL..HNZ | 2024-06-06T13:39:18.729538Z - 2024-06-06T13:39:21.844538Z | 200.0 Hz, 624 samples\n",
      "[2024-06-06 09:39:57,313] INFO: 2024-06-06 13:39:57.313961 ('LD', 'PAL', '??Z'):LD.PAL..HNZ | 2024-06-06T13:39:21.849539Z - 2024-06-06T13:39:24.954539Z | 200.0 Hz, 622 samples\n",
      "[2024-06-06 09:39:57,314] INFO: 2024-06-06 13:39:57.314674 ('LD', 'PAL', '??Z'):LD.PAL..HNZ | 2024-06-06T13:39:24.959538Z - 2024-06-06T13:39:28.029538Z | 200.0 Hz, 615 samples\n",
      "[2024-06-06 09:40:02,814] INFO: 2024-06-06 13:40:02.814852 ('LD', 'PAL', '??Z'):LD.PAL..HHZ | 2024-06-06T13:38:59.918394Z - 2024-06-06T13:39:03.498394Z | 100.0 Hz, 359 samples\n",
      "[2024-06-06 09:40:02,817] INFO: 2024-06-06 13:40:02.817466 ('LD', 'PAL', '??Z'):LD.PAL..HHZ | 2024-06-06T13:39:03.508393Z - 2024-06-06T13:39:07.308393Z | 100.0 Hz, 381 samples\n",
      "[2024-06-06 09:40:02,819] INFO: 2024-06-06 13:40:02.819141 ('LD', 'PAL', '??Z'):LD.PAL..HHZ | 2024-06-06T13:39:07.318394Z - 2024-06-06T13:39:11.188394Z | 100.0 Hz, 388 samples\n",
      "[2024-06-06 09:40:02,820] INFO: 2024-06-06 13:40:02.820391 ('LD', 'PAL', '??Z'):LD.PAL..HHZ | 2024-06-06T13:39:11.198393Z - 2024-06-06T13:39:15.008393Z | 100.0 Hz, 382 samples\n",
      "[2024-06-06 09:40:02,821] INFO: 2024-06-06 13:40:02.821396 ('LD', 'PAL', '??Z'):LD.PAL..HHZ | 2024-06-06T13:39:15.018393Z - 2024-06-06T13:39:18.758393Z | 100.0 Hz, 375 samples\n",
      "[2024-06-06 09:40:02,823] INFO: 2024-06-06 13:40:02.823190 ('LD', 'PAL', '??Z'):LD.PAL..HHZ | 2024-06-06T13:39:18.768393Z - 2024-06-06T13:39:22.478393Z | 100.0 Hz, 372 samples\n",
      "[2024-06-06 09:40:02,824] INFO: 2024-06-06 13:40:02.824575 ('LD', 'PAL', '??Z'):LD.PAL..HHZ | 2024-06-06T13:39:22.488393Z - 2024-06-06T13:39:26.488393Z | 100.0 Hz, 401 samples\n",
      "[2024-06-06 09:40:02,826] INFO: 2024-06-06 13:40:02.826410 ('LD', 'PAL', '??Z'):LD.PAL..HHZ | 2024-06-06T13:39:26.498393Z - 2024-06-06T13:39:30.388393Z | 100.0 Hz, 390 samples\n",
      "[2024-06-06 09:40:02,827] INFO: 2024-06-06 13:40:02.827828 ('LD', 'PAL', '??Z'):LD.PAL..HHZ | 2024-06-06T13:39:30.398393Z - 2024-06-06T13:39:34.298393Z | 100.0 Hz, 391 samples\n",
      "[2024-06-06 09:40:07,323] INFO: 2024-06-06 13:40:07.323911 ('LD', 'PAL', '??Z'):LD.PAL..HNZ | 2024-06-06T13:39:28.034538Z - 2024-06-06T13:39:31.099538Z | 200.0 Hz, 614 samples\n",
      "[2024-06-06 09:40:07,326] INFO: 2024-06-06 13:40:07.326116 ('LD', 'PAL', '??Z'):LD.PAL..HNZ | 2024-06-06T13:39:31.104538Z - 2024-06-06T13:39:34.209538Z | 200.0 Hz, 622 samples\n",
      "[2024-06-06 09:40:07,327] INFO: 2024-06-06 13:40:07.327434 ('LD', 'PAL', '??Z'):LD.PAL..HNZ | 2024-06-06T13:39:34.214538Z - 2024-06-06T13:39:37.294538Z | 200.0 Hz, 617 samples\n",
      "[2024-06-06 09:40:07,329] INFO: 2024-06-06 13:40:07.329167 ('LD', 'PAL', '??Z'):LD.PAL..HNZ | 2024-06-06T13:39:37.299539Z - 2024-06-06T13:39:40.409539Z | 200.0 Hz, 623 samples\n",
      "[2024-06-06 09:40:07,330] INFO: 2024-06-06 13:40:07.330447 ('LD', 'PAL', '??Z'):LD.PAL..HNZ | 2024-06-06T13:39:40.414538Z - 2024-06-06T13:39:43.479538Z | 200.0 Hz, 614 samples\n",
      "[2024-06-06 09:40:07,332] INFO: 2024-06-06 13:40:07.332045 ('LD', 'PAL', '??Z'):LD.PAL..HNZ | 2024-06-06T13:39:43.484538Z - 2024-06-06T13:39:46.649538Z | 200.0 Hz, 634 samples\n",
      "[2024-06-06 09:40:07,333] INFO: 2024-06-06 13:40:07.333174 ('LD', 'PAL', '??Z'):LD.PAL..HNZ | 2024-06-06T13:39:46.654538Z - 2024-06-06T13:39:49.779538Z | 200.0 Hz, 626 samples\n",
      "[2024-06-06 09:40:07,334] INFO: 2024-06-06 13:40:07.334173 ('LD', 'PAL', '??Z'):LD.PAL..HNZ | 2024-06-06T13:39:49.784538Z - 2024-06-06T13:39:52.849538Z | 200.0 Hz, 614 samples\n",
      "[2024-06-06 09:40:07,335] INFO: 2024-06-06 13:40:07.335753 ('LD', 'PAL', '??Z'):LD.PAL..HNZ | 2024-06-06T13:39:52.854539Z - 2024-06-06T13:39:55.964539Z | 200.0 Hz, 623 samples\n",
      "[2024-06-06 09:40:07,337] INFO: 2024-06-06 13:40:07.337201 ('LD', 'PAL', '??Z'):LD.PAL..HNZ | 2024-06-06T13:39:55.969539Z - 2024-06-06T13:39:59.094539Z | 200.0 Hz, 626 samples\n",
      "[2024-06-06 09:40:07,338] INFO: 2024-06-06 13:40:07.338262 ('LD', 'PAL', '??Z'):LD.PAL..HNZ | 2024-06-06T13:39:59.099538Z - 2024-06-06T13:40:02.239538Z | 200.0 Hz, 629 samples\n",
      "[2024-06-06 09:40:09,344] INFO: 2024-06-06 13:40:09.344388 ('LD', 'PAL', '??Z'):LD.PAL..BHZ | 2024-06-06T13:39:00.894539Z - 2024-06-06T13:39:10.669539Z | 40.0 Hz, 392 samples\n",
      "[2024-06-06 09:40:09,346] INFO: 2024-06-06 13:40:09.346628 ('LD', 'PAL', '??Z'):LD.PAL..BHZ | 2024-06-06T13:39:10.694538Z - 2024-06-06T13:39:20.469538Z | 40.0 Hz, 392 samples\n",
      "[2024-06-06 09:40:09,348] INFO: 2024-06-06 13:40:09.348391 ('LD', 'PAL', '??Z'):LD.PAL..BHZ | 2024-06-06T13:39:20.494539Z - 2024-06-06T13:39:30.469539Z | 40.0 Hz, 400 samples\n",
      "[2024-06-06 09:40:09,349] INFO: 2024-06-06 13:40:09.349836 ('LD', 'PAL', '??Z'):LD.PAL..BHZ | 2024-06-06T13:39:30.494538Z - 2024-06-06T13:39:40.669538Z | 40.0 Hz, 408 samples\n",
      "[2024-06-06 09:40:11,335] INFO: 2024-06-06 13:40:11.335554 ('LD', 'CUNY', '??Z'):LD.CUNY..HHZ | 2024-06-06T13:39:03.955000Z - 2024-06-06T13:39:11.155000Z | 100.0 Hz, 721 samples\n",
      "[2024-06-06 09:40:11,338] INFO: 2024-06-06 13:40:11.338208 ('LD', 'CUNY', '??Z'):LD.CUNY..HHZ | 2024-06-06T13:39:11.165000Z - 2024-06-06T13:39:18.365000Z | 100.0 Hz, 721 samples\n",
      "[2024-06-06 09:40:11,339] INFO: 2024-06-06 13:40:11.339395 ('LD', 'CUNY', '??Z'):LD.CUNY..HHZ | 2024-06-06T13:39:18.375000Z - 2024-06-06T13:39:25.575000Z | 100.0 Hz, 721 samples\n",
      "[2024-06-06 09:40:11,341] INFO: 2024-06-06 13:40:11.341046 ('LD', 'CUNY', '??Z'):LD.CUNY..HHZ | 2024-06-06T13:39:25.585000Z - 2024-06-06T13:39:32.785000Z | 100.0 Hz, 721 samples\n",
      "[2024-06-06 09:40:11,342] INFO: 2024-06-06 13:40:11.342154 ('LD', 'CUNY', '??Z'):LD.CUNY..HHZ | 2024-06-06T13:39:32.795000Z - 2024-06-06T13:39:39.995000Z | 100.0 Hz, 721 samples\n",
      "[2024-06-06 09:40:25,368] INFO: 2024-06-06 13:40:25.368074 ('LD', 'PAL', '??Z'):LD.PAL..HHZ | 2024-06-06T13:39:34.308393Z - 2024-06-06T13:39:38.218393Z | 100.0 Hz, 392 samples\n",
      "[2024-06-06 09:40:25,370] INFO: 2024-06-06 13:40:25.370407 ('LD', 'PAL', '??Z'):LD.PAL..HHZ | 2024-06-06T13:39:38.228393Z - 2024-06-06T13:39:42.208393Z | 100.0 Hz, 399 samples\n",
      "[2024-06-06 09:40:25,372] INFO: 2024-06-06 13:40:25.372544 ('LD', 'PAL', '??Z'):LD.PAL..HHZ | 2024-06-06T13:39:42.218393Z - 2024-06-06T13:39:46.008393Z | 100.0 Hz, 380 samples\n",
      "[2024-06-06 09:40:25,373] INFO: 2024-06-06 13:40:25.373776 ('LD', 'PAL', '??Z'):LD.PAL..HHZ | 2024-06-06T13:39:46.018393Z - 2024-06-06T13:39:49.998393Z | 100.0 Hz, 399 samples\n",
      "[2024-06-06 09:40:25,376] INFO: 2024-06-06 13:40:25.376563 ('LD', 'PAL', '??Z'):LD.PAL..HHZ | 2024-06-06T13:39:50.008393Z - 2024-06-06T13:39:53.968393Z | 100.0 Hz, 397 samples\n",
      "[2024-06-06 09:40:25,378] INFO: 2024-06-06 13:40:25.378302 ('LD', 'PAL', '??Z'):LD.PAL..HHZ | 2024-06-06T13:39:53.978393Z - 2024-06-06T13:39:57.968393Z | 100.0 Hz, 400 samples\n",
      "[2024-06-06 09:40:25,379] INFO: 2024-06-06 13:40:25.378985 ('LD', 'PAL', '??Z'):LD.PAL..HHZ | 2024-06-06T13:39:57.978393Z - 2024-06-06T13:40:02.028393Z | 100.0 Hz, 406 samples\n",
      "[2024-06-06 09:40:25,379] INFO: 2024-06-06 13:40:25.379617 ('LD', 'PAL', '??Z'):LD.PAL..HHZ | 2024-06-06T13:40:02.038393Z - 2024-06-06T13:40:06.038393Z | 100.0 Hz, 401 samples\n",
      "[2024-06-06 09:40:25,380] INFO: 2024-06-06 13:40:25.380178 ('LD', 'PAL', '??Z'):LD.PAL..HHZ | 2024-06-06T13:40:06.048393Z - 2024-06-06T13:40:10.118393Z | 100.0 Hz, 408 samples\n",
      "[2024-06-06 09:40:30,875] INFO: 2024-06-06 13:40:30.875137 ('LD', 'CUNY', '??Z'):LD.CUNY..HNZ | 2024-06-06T13:39:28.965000Z - 2024-06-06T13:39:33.055000Z | 100.0 Hz, 410 samples\n",
      "[2024-06-06 09:40:30,877] INFO: 2024-06-06 13:40:30.877470 ('LD', 'CUNY', '??Z'):LD.CUNY..HNZ | 2024-06-06T13:39:33.065000Z - 2024-06-06T13:39:37.185000Z | 100.0 Hz, 413 samples\n",
      "[2024-06-06 09:40:30,879] INFO: 2024-06-06 13:40:30.879620 ('LD', 'CUNY', '??Z'):LD.CUNY..HNZ | 2024-06-06T13:39:37.195000Z - 2024-06-06T13:39:41.265000Z | 100.0 Hz, 408 samples\n",
      "[2024-06-06 09:40:30,881] INFO: 2024-06-06 13:40:30.881700 ('LD', 'CUNY', '??Z'):LD.CUNY..HNZ | 2024-06-06T13:39:41.275000Z - 2024-06-06T13:39:45.405000Z | 100.0 Hz, 414 samples\n",
      "[2024-06-06 09:40:30,882] INFO: 2024-06-06 13:40:30.882516 ('LD', 'CUNY', '??Z'):LD.CUNY..HNZ | 2024-06-06T13:39:45.415000Z - 2024-06-06T13:39:49.545000Z | 100.0 Hz, 414 samples\n",
      "[2024-06-06 09:40:30,883] INFO: 2024-06-06 13:40:30.883165 ('LD', 'CUNY', '??Z'):LD.CUNY..HNZ | 2024-06-06T13:39:49.555000Z - 2024-06-06T13:39:53.535000Z | 100.0 Hz, 399 samples\n",
      "[2024-06-06 09:40:30,884] INFO: 2024-06-06 13:40:30.884231 ('LD', 'CUNY', '??Z'):LD.CUNY..HNZ | 2024-06-06T13:39:53.545000Z - 2024-06-06T13:39:57.615000Z | 100.0 Hz, 408 samples\n",
      "[2024-06-06 09:40:30,884] INFO: 2024-06-06 13:40:30.884835 ('LD', 'CUNY', '??Z'):LD.CUNY..HNZ | 2024-06-06T13:39:57.625000Z - 2024-06-06T13:40:01.805000Z | 100.0 Hz, 419 samples\n",
      "[2024-06-06 09:40:33,880] INFO: 2024-06-06 13:40:33.879989 ('LD', 'CUNY', '??Z'):LD.CUNY..HHZ | 2024-06-06T13:39:40.005000Z - 2024-06-06T13:39:47.205000Z | 100.0 Hz, 721 samples\n",
      "[2024-06-06 09:40:33,882] INFO: 2024-06-06 13:40:33.882039 ('LD', 'CUNY', '??Z'):LD.CUNY..HHZ | 2024-06-06T13:39:47.215000Z - 2024-06-06T13:39:54.415000Z | 100.0 Hz, 721 samples\n",
      "[2024-06-06 09:40:33,883] INFO: 2024-06-06 13:40:33.883279 ('LD', 'CUNY', '??Z'):LD.CUNY..HHZ | 2024-06-06T13:39:54.425000Z - 2024-06-06T13:40:01.625000Z | 100.0 Hz, 721 samples\n",
      "[2024-06-06 09:40:33,884] INFO: 2024-06-06 13:40:33.884222 ('LD', 'CUNY', '??Z'):LD.CUNY..HHZ | 2024-06-06T13:40:01.635000Z - 2024-06-06T13:40:08.835000Z | 100.0 Hz, 721 samples\n",
      "[2024-06-06 09:40:33,885] INFO: 2024-06-06 13:40:33.885960 ('LD', 'CUNY', '??Z'):LD.CUNY..HHZ | 2024-06-06T13:40:08.845000Z - 2024-06-06T13:40:16.045000Z | 100.0 Hz, 721 samples\n",
      "[2024-06-06 09:40:54,928] INFO: 2024-06-06 13:40:54.928154 ('LD', 'CUNY', '??Z'):LD.CUNY..HNZ | 2024-06-06T13:40:01.815000Z - 2024-06-06T13:40:05.895000Z | 100.0 Hz, 409 samples\n",
      "[2024-06-06 09:40:54,930] INFO: 2024-06-06 13:40:54.930373 ('LD', 'CUNY', '??Z'):LD.CUNY..HNZ | 2024-06-06T13:40:05.905000Z - 2024-06-06T13:40:09.995000Z | 100.0 Hz, 410 samples\n",
      "[2024-06-06 09:40:54,932] INFO: 2024-06-06 13:40:54.932014 ('LD', 'CUNY', '??Z'):LD.CUNY..HNZ | 2024-06-06T13:40:10.005000Z - 2024-06-06T13:40:14.125000Z | 100.0 Hz, 413 samples\n",
      "[2024-06-06 09:40:54,933] INFO: 2024-06-06 13:40:54.933196 ('LD', 'CUNY', '??Z'):LD.CUNY..HNZ | 2024-06-06T13:40:14.135000Z - 2024-06-06T13:40:18.145000Z | 100.0 Hz, 402 samples\n",
      "[2024-06-06 09:40:54,935] INFO: 2024-06-06 13:40:54.935290 ('LD', 'CUNY', '??Z'):LD.CUNY..HNZ | 2024-06-06T13:40:18.155000Z - 2024-06-06T13:40:22.275000Z | 100.0 Hz, 413 samples\n",
      "[2024-06-06 09:40:54,937] INFO: 2024-06-06 13:40:54.937514 ('LD', 'CUNY', '??Z'):LD.CUNY..HNZ | 2024-06-06T13:40:22.285000Z - 2024-06-06T13:40:26.345000Z | 100.0 Hz, 407 samples\n",
      "[2024-06-06 09:40:54,938] INFO: 2024-06-06 13:40:54.938793 ('LD', 'CUNY', '??Z'):LD.CUNY..HNZ | 2024-06-06T13:40:26.355000Z - 2024-06-06T13:40:30.445000Z | 100.0 Hz, 410 samples\n",
      "[2024-06-06 09:40:54,939] INFO: 2024-06-06 13:40:54.939528 ('LD', 'CUNY', '??Z'):LD.CUNY..HNZ | 2024-06-06T13:40:30.455000Z - 2024-06-06T13:40:34.615000Z | 100.0 Hz, 417 samples\n",
      "[2024-06-06 09:40:54,940] INFO: 2024-06-06 13:40:54.940216 ('LD', 'CUNY', '??Z'):LD.CUNY..HNZ | 2024-06-06T13:40:34.625000Z - 2024-06-06T13:40:38.715000Z | 100.0 Hz, 410 samples\n",
      "[2024-06-06 09:40:56,933] INFO: closing SeedLinkConnection()\n",
      "[2024-06-06 09:40:56,934] INFO: network socket closed\n"
     ]
    }
   ],
   "source": [
    "# Connect to the iris seedlink server, which covers many US stations\n",
    "address = \"http://rtserve.iris.washington.edu:18000\"\n",
    "symbols = [(\"LD\", \"PAL\", \"??Z\"), (\"LD\", \"CUNY\", \"??Z\")]  # Palisades, NY and Queens College, CUNY, NY \n",
    "# Could also subscribe to station via wildcard, to get a given channel from all available stations!\n",
    "#symbols = [(\"LD\", \"*\", \"HHZ\")]\n",
    "\n",
    "logging.basicConfig(stream=sys.stdout, format=\"[%(asctime)s] %(levelname)s: %(message)s\", level=logging.INFO)\n",
    "csp.run(\n",
    "    rt_graph,\n",
    "    address,\n",
    "    symbols,\n",
    "    starttime=datetime.utcnow() - timedelta(seconds=60),\n",
    "    endtime=timedelta(seconds=120),\n",
    "    realtime=True,\n",
    ")"
   ]
  },
  {
   "cell_type": "markdown",
   "id": "a7443858-8759-4a22-aa87-7b85d9578569",
   "metadata": {},
   "source": [
    "Also note that the log timestamp (in local time) is very close to the csp timestamp (in utc time), but that we actually receive multiple traces at nearly the same time for a given channel, spanning the time since the previous group was received. This is an artifact of this particular server - other servers behave differently. \n",
    "\n",
    "Furthermore, note that because we started the csp graph 60 seconds in the past, the server has sent us a number of past observations at the start of our run, before sending us the live data. This can be useful behavior when running stateful analytics (such as moving averages) that need to be \"warmed up\"."
   ]
  },
  {
   "cell_type": "markdown",
   "id": "84db617b-e92f-4177-9ee9-16129eae4b60",
   "metadata": {},
   "source": [
    "### Real-time Triggering\n",
    "To illustrate how the filtering/triggering logic would apply in real-time, we compute the trigger characteristic function for the \"HHZ\" channel. To limit the amount of output, instead of outputting every tick, we compute the max over regular intervals and output that. "
   ]
  },
  {
   "cell_type": "code",
   "execution_count": 26,
   "id": "95c4bbfc-2b69-4f34-9d83-4abb50f787a6",
   "metadata": {},
   "outputs": [],
   "source": [
    "@csp.graph\n",
    "def rt_graph_trigger(address: str, symbols: List[Tuple[str, str, str]], nsta: int, nlta: int):\n",
    "    adapter_manager = EasySeedLinkAdapter(address)\n",
    "    for symbol in symbols:\n",
    "        data = adapter_manager.subscribe(*symbol)\n",
    "        csp.log(logging.INFO, f\"Raw data:\", data)\n",
    "        tr_filt = bandpass_filter_ts(data, freqmin=1, freqmax=20)\n",
    "        cft = sta_lta_ts(tr_filt, nsta, nlta)\n",
    "        # Because on each tick of \"data\", we generate several values of \"cft\" by unrolling the observations, we want to trigger reporting of the maxim cft over each batch\n",
    "        trigger = csp.delay(data, timedelta.resolution)\n",
    "        min_cft = csp.stats.min(cft, trigger=trigger, reset=data)\n",
    "        max_cft = csp.stats.max(cft, trigger=trigger, reset=data)        \n",
    "        csp.log(logging.INFO, f\"Characteristic function for {symbol}, Min\", min_cft)\n",
    "        csp.log(logging.INFO, f\"Characteristic function for {symbol}, Max\", max_cft)"
   ]
  },
  {
   "cell_type": "markdown",
   "id": "a9df9119-4050-4a90-94f1-53ee0fe9b197",
   "metadata": {},
   "source": [
    "For this example, we use a station on the Canadian (i.e. \"CN\") network, as the high frequency channel will publish updates every 4-5 seconds, which is more rapid than the IRIS network used above. However, occasionally the connection to this network can time out, in which case, please try again later. When it's working properly, a log line containing `INFO: network socket opened` should appear almost immediately.\n",
    "The [GEOFON network](https://geofon.gfz-potsdam.de/waveform/seedlink.php) (http://geofon.gfz-potsdam.de:18000) is also a good alternative choice, i.e. channel (\"GE\", \"STU\", \"HHZ\"). "
   ]
  },
  {
   "cell_type": "code",
   "execution_count": 27,
   "id": "4ee33917-b4ce-4d99-8689-d358e8716aca",
   "metadata": {},
   "outputs": [
    {
     "name": "stdout",
     "output_type": "stream",
     "text": [
      "[2024-06-06 09:40:57,094] INFO: network socket opened\n",
      "[2024-06-06 09:40:57,258] INFO: connected to: 'SeedLink v3.1 (2015.188 Ring Server SeedLink) :: SLPROTO:3.1 CAP EXTREPLY NSWILDCARD BATCH'\n",
      "[2024-06-06 09:40:57,405] INFO: requesting specified time window\n",
      "[2024-06-06 09:40:57,483] INFO: 1 station(s) accepted\n",
      "[2024-06-06 09:41:12,363] INFO: 2024-06-06 13:41:12.363172 Raw data::CN.QEPB..HHZ | 2024-06-06T13:40:44.270000Z - 2024-06-06T13:40:47.580000Z | 100.0 Hz, 332 samples\n",
      "[2024-06-06 09:41:12,373] INFO: 2024-06-06 13:41:12.363173 Characteristic function for ('CN', 'QEPB', 'HHZ'), Min:0.0\n",
      "[2024-06-06 09:41:12,376] INFO: 2024-06-06 13:41:12.363173 Characteristic function for ('CN', 'QEPB', 'HHZ'), Max:0.0\n",
      "[2024-06-06 09:41:12,377] INFO: 2024-06-06 13:41:12.377614 Raw data::CN.QEPB..HHZ | 2024-06-06T13:40:47.590000Z - 2024-06-06T13:40:50.800000Z | 100.0 Hz, 322 samples\n",
      "[2024-06-06 09:41:12,383] INFO: 2024-06-06 13:41:12.377615 Characteristic function for ('CN', 'QEPB', 'HHZ'), Min:0.0\n",
      "[2024-06-06 09:41:12,384] INFO: 2024-06-06 13:41:12.377615 Characteristic function for ('CN', 'QEPB', 'HHZ'), Max:0.864558512628751\n",
      "[2024-06-06 09:41:12,385] INFO: 2024-06-06 13:41:12.385866 Raw data::CN.QEPB..HHZ | 2024-06-06T13:40:50.810000Z - 2024-06-06T13:40:54.080000Z | 100.0 Hz, 328 samples\n",
      "[2024-06-06 09:41:12,389] INFO: 2024-06-06 13:41:12.385867 Characteristic function for ('CN', 'QEPB', 'HHZ'), Min:0.39259922043235523\n",
      "[2024-06-06 09:41:12,390] INFO: 2024-06-06 13:41:12.385867 Characteristic function for ('CN', 'QEPB', 'HHZ'), Max:0.8720530033340418\n",
      "[2024-06-06 09:41:12,390] INFO: 2024-06-06 13:41:12.390818 Raw data::CN.QEPB..HHZ | 2024-06-06T13:40:54.090000Z - 2024-06-06T13:40:57.480000Z | 100.0 Hz, 340 samples\n",
      "[2024-06-06 09:41:12,392] INFO: 2024-06-06 13:41:12.390819 Characteristic function for ('CN', 'QEPB', 'HHZ'), Min:0.503395456353713\n",
      "[2024-06-06 09:41:12,393] INFO: 2024-06-06 13:41:12.390819 Characteristic function for ('CN', 'QEPB', 'HHZ'), Max:1.180031666935356\n",
      "[2024-06-06 09:41:12,395] INFO: 2024-06-06 13:41:12.395655 Raw data::CN.QEPB..HHZ | 2024-06-06T13:40:57.490000Z - 2024-06-06T13:41:00.900000Z | 100.0 Hz, 342 samples\n",
      "[2024-06-06 09:41:12,399] INFO: 2024-06-06 13:41:12.395656 Characteristic function for ('CN', 'QEPB', 'HHZ'), Min:0.5993811254013978\n",
      "[2024-06-06 09:41:12,400] INFO: 2024-06-06 13:41:12.395656 Characteristic function for ('CN', 'QEPB', 'HHZ'), Max:1.003764384117496\n",
      "[2024-06-06 09:41:12,400] INFO: 2024-06-06 13:41:12.400842 Raw data::CN.QEPB..HHZ | 2024-06-06T13:41:00.910000Z - 2024-06-06T13:41:04.360000Z | 100.0 Hz, 346 samples\n",
      "[2024-06-06 09:41:12,405] INFO: 2024-06-06 13:41:12.400843 Characteristic function for ('CN', 'QEPB', 'HHZ'), Min:0.701697094586592\n",
      "[2024-06-06 09:41:12,406] INFO: 2024-06-06 13:41:12.400843 Characteristic function for ('CN', 'QEPB', 'HHZ'), Max:1.810146802408109\n",
      "[2024-06-06 09:41:12,407] INFO: 2024-06-06 13:41:12.407149 Raw data::CN.QEPB..HHZ | 2024-06-06T13:41:04.370000Z - 2024-06-06T13:41:07.660000Z | 100.0 Hz, 330 samples\n",
      "[2024-06-06 09:41:12,410] INFO: 2024-06-06 13:41:12.407150 Characteristic function for ('CN', 'QEPB', 'HHZ'), Min:0.7616469712137646\n",
      "[2024-06-06 09:41:12,411] INFO: 2024-06-06 13:41:12.407150 Characteristic function for ('CN', 'QEPB', 'HHZ'), Max:2.2438612968089022\n",
      "[2024-06-06 09:41:12,412] INFO: 2024-06-06 13:41:12.412325 Raw data::CN.QEPB..HHZ | 2024-06-06T13:41:07.670000Z - 2024-06-06T13:41:10.940000Z | 100.0 Hz, 328 samples\n",
      "[2024-06-06 09:41:12,416] INFO: 2024-06-06 13:41:12.412326 Characteristic function for ('CN', 'QEPB', 'HHZ'), Min:0.5965579039036424\n",
      "[2024-06-06 09:41:12,417] INFO: 2024-06-06 13:41:12.412326 Characteristic function for ('CN', 'QEPB', 'HHZ'), Max:1.7817755476437835\n",
      "[2024-06-06 09:41:14,946] INFO: 2024-06-06 13:41:14.946665 Raw data::CN.QEPB..HHZ | 2024-06-06T13:41:10.950000Z - 2024-06-06T13:41:14.120000Z | 100.0 Hz, 318 samples\n",
      "[2024-06-06 09:41:14,949] INFO: 2024-06-06 13:41:14.946666 Characteristic function for ('CN', 'QEPB', 'HHZ'), Min:0.5208392941827016\n",
      "[2024-06-06 09:41:14,950] INFO: 2024-06-06 13:41:14.946666 Characteristic function for ('CN', 'QEPB', 'HHZ'), Max:1.270783775068819\n",
      "[2024-06-06 09:41:18,355] INFO: 2024-06-06 13:41:18.355673 Raw data::CN.QEPB..HHZ | 2024-06-06T13:41:14.130000Z - 2024-06-06T13:41:17.500000Z | 100.0 Hz, 338 samples\n",
      "[2024-06-06 09:41:18,359] INFO: 2024-06-06 13:41:18.355674 Characteristic function for ('CN', 'QEPB', 'HHZ'), Min:0.5042614087213632\n",
      "[2024-06-06 09:41:18,359] INFO: 2024-06-06 13:41:18.355674 Characteristic function for ('CN', 'QEPB', 'HHZ'), Max:1.089961313850889\n",
      "[2024-06-06 09:41:21,759] INFO: 2024-06-06 13:41:21.759588 Raw data::CN.QEPB..HHZ | 2024-06-06T13:41:17.510000Z - 2024-06-06T13:41:20.900000Z | 100.0 Hz, 340 samples\n",
      "[2024-06-06 09:41:21,763] INFO: 2024-06-06 13:41:21.759589 Characteristic function for ('CN', 'QEPB', 'HHZ'), Min:0.5232499630920229\n",
      "[2024-06-06 09:41:21,764] INFO: 2024-06-06 13:41:21.759589 Characteristic function for ('CN', 'QEPB', 'HHZ'), Max:1.4142301477699224\n",
      "[2024-06-06 09:41:25,165] INFO: 2024-06-06 13:41:25.165731 Raw data::CN.QEPB..HHZ | 2024-06-06T13:41:20.910000Z - 2024-06-06T13:41:24.340000Z | 100.0 Hz, 344 samples\n",
      "[2024-06-06 09:41:25,168] INFO: 2024-06-06 13:41:25.165732 Characteristic function for ('CN', 'QEPB', 'HHZ'), Min:0.5943480773022378\n",
      "[2024-06-06 09:41:25,169] INFO: 2024-06-06 13:41:25.165732 Characteristic function for ('CN', 'QEPB', 'HHZ'), Max:1.508123784059484\n",
      "[2024-06-06 09:41:28,572] INFO: 2024-06-06 13:41:28.572501 Raw data::CN.QEPB..HHZ | 2024-06-06T13:41:24.350000Z - 2024-06-06T13:41:27.600000Z | 100.0 Hz, 326 samples\n",
      "[2024-06-06 09:41:28,576] INFO: 2024-06-06 13:41:28.572502 Characteristic function for ('CN', 'QEPB', 'HHZ'), Min:0.5725679949827474\n",
      "[2024-06-06 09:41:28,577] INFO: 2024-06-06 13:41:28.572502 Characteristic function for ('CN', 'QEPB', 'HHZ'), Max:1.2508800515422427\n",
      "[2024-06-06 09:41:31,782] INFO: 2024-06-06 13:41:31.781996 Raw data::CN.QEPB..HHZ | 2024-06-06T13:41:27.610000Z - 2024-06-06T13:41:30.840000Z | 100.0 Hz, 324 samples\n",
      "[2024-06-06 09:41:31,784] INFO: 2024-06-06 13:41:31.781997 Characteristic function for ('CN', 'QEPB', 'HHZ'), Min:0.7528172560356052\n",
      "[2024-06-06 09:41:31,785] INFO: 2024-06-06 13:41:31.781997 Characteristic function for ('CN', 'QEPB', 'HHZ'), Max:1.5617332734914007\n",
      "[2024-06-06 09:41:34,885] INFO: 2024-06-06 13:41:34.885558 Raw data::CN.QEPB..HHZ | 2024-06-06T13:41:30.850000Z - 2024-06-06T13:41:34.060000Z | 100.0 Hz, 322 samples\n",
      "[2024-06-06 09:41:34,890] INFO: 2024-06-06 13:41:34.885559 Characteristic function for ('CN', 'QEPB', 'HHZ'), Min:0.8168894446329897\n",
      "[2024-06-06 09:41:34,891] INFO: 2024-06-06 13:41:34.885559 Characteristic function for ('CN', 'QEPB', 'HHZ'), Max:1.7270713183993989\n",
      "[2024-06-06 09:41:37,890] INFO: 2024-06-06 13:41:37.890882 Raw data::CN.QEPB..HHZ | 2024-06-06T13:41:34.070000Z - 2024-06-06T13:41:37.080000Z | 100.0 Hz, 302 samples\n",
      "[2024-06-06 09:41:37,894] INFO: 2024-06-06 13:41:37.890883 Characteristic function for ('CN', 'QEPB', 'HHZ'), Min:0.6495410701603721\n",
      "[2024-06-06 09:41:37,894] INFO: 2024-06-06 13:41:37.890883 Characteristic function for ('CN', 'QEPB', 'HHZ'), Max:2.8810542752409547\n",
      "[2024-06-06 09:41:41,112] INFO: 2024-06-06 13:41:41.112682 Raw data::CN.QEPB..HHZ | 2024-06-06T13:41:37.090000Z - 2024-06-06T13:41:40.220000Z | 100.0 Hz, 314 samples\n",
      "[2024-06-06 09:41:41,116] INFO: 2024-06-06 13:41:41.112683 Characteristic function for ('CN', 'QEPB', 'HHZ'), Min:0.6374707428762826\n",
      "[2024-06-06 09:41:41,117] INFO: 2024-06-06 13:41:41.112683 Characteristic function for ('CN', 'QEPB', 'HHZ'), Max:2.8731486471808205\n",
      "[2024-06-06 09:41:44,314] INFO: 2024-06-06 13:41:44.313959 Raw data::CN.QEPB..HHZ | 2024-06-06T13:41:40.230000Z - 2024-06-06T13:41:43.420000Z | 100.0 Hz, 320 samples\n",
      "[2024-06-06 09:41:44,316] INFO: 2024-06-06 13:41:44.313960 Characteristic function for ('CN', 'QEPB', 'HHZ'), Min:0.5942462028582223\n",
      "[2024-06-06 09:41:44,317] INFO: 2024-06-06 13:41:44.313960 Characteristic function for ('CN', 'QEPB', 'HHZ'), Max:1.6006629371076375\n",
      "[2024-06-06 09:41:47,720] INFO: 2024-06-06 13:41:47.720601 Raw data::CN.QEPB..HHZ | 2024-06-06T13:41:43.430000Z - 2024-06-06T13:41:46.820000Z | 100.0 Hz, 340 samples\n",
      "[2024-06-06 09:41:47,723] INFO: 2024-06-06 13:41:47.720602 Characteristic function for ('CN', 'QEPB', 'HHZ'), Min:0.5249858437259703\n",
      "[2024-06-06 09:41:47,724] INFO: 2024-06-06 13:41:47.720602 Characteristic function for ('CN', 'QEPB', 'HHZ'), Max:1.8308150537437327\n",
      "[2024-06-06 09:41:50,917] INFO: 2024-06-06 13:41:50.917690 Raw data::CN.QEPB..HHZ | 2024-06-06T13:41:46.830000Z - 2024-06-06T13:41:50.080000Z | 100.0 Hz, 326 samples\n",
      "[2024-06-06 09:41:50,921] INFO: 2024-06-06 13:41:50.917691 Characteristic function for ('CN', 'QEPB', 'HHZ'), Min:0.7176465392157457\n",
      "[2024-06-06 09:41:50,922] INFO: 2024-06-06 13:41:50.917691 Characteristic function for ('CN', 'QEPB', 'HHZ'), Max:1.703787156017432\n",
      "[2024-06-06 09:41:54,538] INFO: 2024-06-06 13:41:54.537977 Raw data::CN.QEPB..HHZ | 2024-06-06T13:41:50.090000Z - 2024-06-06T13:41:53.600000Z | 100.0 Hz, 352 samples\n",
      "[2024-06-06 09:41:54,541] INFO: 2024-06-06 13:41:54.537978 Characteristic function for ('CN', 'QEPB', 'HHZ'), Min:0.4660213050087253\n",
      "[2024-06-06 09:41:54,542] INFO: 2024-06-06 13:41:54.537978 Characteristic function for ('CN', 'QEPB', 'HHZ'), Max:1.2466966019891639\n",
      "[2024-06-06 09:41:57,934] INFO: closing SeedLinkConnection()\n",
      "[2024-06-06 09:41:57,936] INFO: network socket closed\n"
     ]
    }
   ],
   "source": [
    "address = \"http://earthquakescanada.nrcan.gc.ca:18000\"\n",
    "symbols = [(\"CN\", \"QEPB\", \"HHZ\")]  # Queen Elizabeth Park in Vancouver, BC\n",
    "sampling_rate = 100  # HHZ is sampled at 100Hz\n",
    "sta = 0.5\n",
    "lta = 4\n",
    "nsta = int(sta * sampling_rate)\n",
    "nlta = int(lta * sampling_rate)\n",
    "\n",
    "csp.run(\n",
    "    rt_graph_trigger,\n",
    "    address,\n",
    "    symbols,\n",
    "    nsta,\n",
    "    nlta,\n",
    "    starttime=datetime.utcnow() - timedelta(seconds=10),  # Starting in the past helps \"warm up\" the averages\n",
    "    endtime=datetime.utcnow() + timedelta(seconds=60),\n",
    "    realtime=True,\n",
    ")"
   ]
  },
  {
   "cell_type": "markdown",
   "id": "e9544267-a522-4e79-9fa4-0305579a8e08",
   "metadata": {},
   "source": [
    "## Conclusion\n",
    "\n",
    "In this notebook we :\n",
    "* illustrated how to take historical Trace data in `obspy` and represent it as a stream of smaller Trace updates using `csp`\n",
    "* implemented filtering and triggering analytics using csp that match the equivalent functions in `obspy`\n",
    "* showed how to pull real historical Trace data into `csp` to test these analytics as part of research\n",
    "* demonstrated how to run the same analytics on streaming Trace data using the real time `csp` engine"
   ]
  }
 ],
 "metadata": {
  "kernelspec": {
   "display_name": "Python 3 (ipykernel)",
   "language": "python",
   "name": "python3"
  },
  "language_info": {
   "codemirror_mode": {
    "name": "ipython",
    "version": 3
   },
   "file_extension": ".py",
   "mimetype": "text/x-python",
   "name": "python",
   "nbconvert_exporter": "python",
   "pygments_lexer": "ipython3",
   "version": "3.11.7"
  }
 },
 "nbformat": 4,
 "nbformat_minor": 5
}
